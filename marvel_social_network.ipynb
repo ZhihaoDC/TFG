{
  "nbformat": 4,
  "nbformat_minor": 0,
  "metadata": {
    "colab": {
      "name": "marvel_social_network.ipynb",
      "provenance": [],
      "collapsed_sections": [],
      "toc_visible": true,
      "include_colab_link": true
    },
    "kernelspec": {
      "name": "python3",
      "display_name": "Python 3"
    },
    "language_info": {
      "name": "python"
    },
    "accelerator": "TPU"
  },
  "cells": [
    {
      "cell_type": "markdown",
      "metadata": {
        "id": "view-in-github",
        "colab_type": "text"
      },
      "source": [
        "<a href=\"https://colab.research.google.com/github/ZhihaoDC/TFG/blob/main/marvel_social_network.ipynb\" target=\"_parent\"><img src=\"https://colab.research.google.com/assets/colab-badge.svg\" alt=\"Open In Colab\"/></a>"
      ]
    },
    {
      "cell_type": "markdown",
      "metadata": {
        "id": "YpCgOrz6DcFR"
      },
      "source": [
        "#Setup Environment"
      ]
    },
    {
      "cell_type": "code",
      "metadata": {
        "id": "3IK-xiBIDVns",
        "colab": {
          "base_uri": "https://localhost:8080/"
        },
        "outputId": "996f9a3e-dafb-4b20-e682-8eff7dc1fa66"
      },
      "source": [
        "from google.colab import drive\n",
        "drive.mount('/gdrive')\n",
        "\n",
        "%cd /gdrive/My Drive/TFG\n",
        "\n",
        "!git pull https://github.com/ZhihaoDC/TFG"
      ],
      "execution_count": 3,
      "outputs": [
        {
          "output_type": "stream",
          "text": [
            "Mounted at /gdrive\n",
            "/gdrive/My Drive/TFG\n",
            "From https://github.com/ZhihaoDC/TFG\n",
            " * branch            HEAD       -> FETCH_HEAD\n",
            "Already up to date.\n"
          ],
          "name": "stdout"
        }
      ]
    },
    {
      "cell_type": "markdown",
      "metadata": {
        "id": "uv2hNXaqDfHK"
      },
      "source": [
        "#Import Libraries"
      ]
    },
    {
      "cell_type": "code",
      "metadata": {
        "id": "kMDby-5c9IX7",
        "colab": {
          "base_uri": "https://localhost:8080/"
        },
        "outputId": "84058bfb-379b-4b85-d03b-14fe951efa59"
      },
      "source": [
        "!pip install pyvis"
      ],
      "execution_count": 4,
      "outputs": [
        {
          "output_type": "stream",
          "text": [
            "Collecting pyvis\n",
            "  Downloading https://files.pythonhosted.org/packages/07/d1/e87844ec86e96df7364f21af2263ad6030c0d727660ae89935c7af56a540/pyvis-0.1.9-py3-none-any.whl\n",
            "Requirement already satisfied: ipython>=5.3.0 in /usr/local/lib/python3.7/dist-packages (from pyvis) (5.5.0)\n",
            "Requirement already satisfied: jinja2>=2.9.6 in /usr/local/lib/python3.7/dist-packages (from pyvis) (2.11.3)\n",
            "Requirement already satisfied: networkx>=1.11 in /usr/local/lib/python3.7/dist-packages (from pyvis) (2.5)\n",
            "Collecting jsonpickle>=1.4.1\n",
            "  Downloading https://files.pythonhosted.org/packages/bb/1a/f2db026d4d682303793559f1c2bb425ba3ec0d6fd7ac63397790443f2461/jsonpickle-2.0.0-py2.py3-none-any.whl\n",
            "Requirement already satisfied: pickleshare in /usr/local/lib/python3.7/dist-packages (from ipython>=5.3.0->pyvis) (0.7.5)\n",
            "Requirement already satisfied: pygments in /usr/local/lib/python3.7/dist-packages (from ipython>=5.3.0->pyvis) (2.6.1)\n",
            "Requirement already satisfied: pexpect; sys_platform != \"win32\" in /usr/local/lib/python3.7/dist-packages (from ipython>=5.3.0->pyvis) (4.8.0)\n",
            "Requirement already satisfied: prompt-toolkit<2.0.0,>=1.0.4 in /usr/local/lib/python3.7/dist-packages (from ipython>=5.3.0->pyvis) (1.0.18)\n",
            "Requirement already satisfied: setuptools>=18.5 in /usr/local/lib/python3.7/dist-packages (from ipython>=5.3.0->pyvis) (54.2.0)\n",
            "Requirement already satisfied: simplegeneric>0.8 in /usr/local/lib/python3.7/dist-packages (from ipython>=5.3.0->pyvis) (0.8.1)\n",
            "Requirement already satisfied: traitlets>=4.2 in /usr/local/lib/python3.7/dist-packages (from ipython>=5.3.0->pyvis) (5.0.5)\n",
            "Requirement already satisfied: decorator in /usr/local/lib/python3.7/dist-packages (from ipython>=5.3.0->pyvis) (4.4.2)\n",
            "Requirement already satisfied: MarkupSafe>=0.23 in /usr/local/lib/python3.7/dist-packages (from jinja2>=2.9.6->pyvis) (1.1.1)\n",
            "Requirement already satisfied: importlib-metadata; python_version < \"3.8\" in /usr/local/lib/python3.7/dist-packages (from jsonpickle>=1.4.1->pyvis) (3.8.1)\n",
            "Requirement already satisfied: ptyprocess>=0.5 in /usr/local/lib/python3.7/dist-packages (from pexpect; sys_platform != \"win32\"->ipython>=5.3.0->pyvis) (0.7.0)\n",
            "Requirement already satisfied: wcwidth in /usr/local/lib/python3.7/dist-packages (from prompt-toolkit<2.0.0,>=1.0.4->ipython>=5.3.0->pyvis) (0.2.5)\n",
            "Requirement already satisfied: six>=1.9.0 in /usr/local/lib/python3.7/dist-packages (from prompt-toolkit<2.0.0,>=1.0.4->ipython>=5.3.0->pyvis) (1.15.0)\n",
            "Requirement already satisfied: ipython-genutils in /usr/local/lib/python3.7/dist-packages (from traitlets>=4.2->ipython>=5.3.0->pyvis) (0.2.0)\n",
            "Requirement already satisfied: typing-extensions>=3.6.4; python_version < \"3.8\" in /usr/local/lib/python3.7/dist-packages (from importlib-metadata; python_version < \"3.8\"->jsonpickle>=1.4.1->pyvis) (3.7.4.3)\n",
            "Requirement already satisfied: zipp>=0.5 in /usr/local/lib/python3.7/dist-packages (from importlib-metadata; python_version < \"3.8\"->jsonpickle>=1.4.1->pyvis) (3.4.1)\n",
            "Installing collected packages: jsonpickle, pyvis\n",
            "Successfully installed jsonpickle-2.0.0 pyvis-0.1.9\n"
          ],
          "name": "stdout"
        }
      ]
    },
    {
      "cell_type": "code",
      "metadata": {
        "id": "0QoirQpzDmzC"
      },
      "source": [
        "import pandas as pd\n",
        "import numpy as np\n",
        "import networkx as nx\n",
        "import matplotlib.pyplot as plt\n",
        "import scipy\n",
        "import sys\n",
        "\n",
        "from collections import deque, Counter\n",
        "\n",
        "from pyvis.network import Network\n",
        "import IPython\n",
        "\n",
        "from tqdm import tqdm\n",
        "\n",
        "# import matplotlib.colors as mcolors\n",
        "# import seaborn as sns\n",
        "\n",
        "# import statistics\n",
        "# import math\n",
        "# import itertools\n",
        "# import re #regular expressions\n",
        "\n",
        "# import plotly.express as px\n",
        "# import plotly.figure_factory as ff"
      ],
      "execution_count": 5,
      "outputs": []
    },
    {
      "cell_type": "markdown",
      "metadata": {
        "id": "y0JIKuBjktjT"
      },
      "source": [
        "#Read files"
      ]
    },
    {
      "cell_type": "markdown",
      "metadata": {
        "id": "ejKgv_GTmDb2"
      },
      "source": [
        "*   **nodes**: Node name and type.\n",
        "*   **edges**: Heroes and the comic in which they appear.\n",
        "*   ***heroes***: Edges between heroes that appear in the same comic."
      ]
    },
    {
      "cell_type": "code",
      "metadata": {
        "id": "mzEDDvLfkv1p"
      },
      "source": [
        "nodes = pd.read_csv('./datasets/marvel-social-network/nodes.csv') #Node name and type\n",
        "edges = pd.read_csv('./datasets/marvel-social-network/edges.csv') #Heroes and the comic in which they appear\n",
        "heroes = pd.read_csv('./datasets/marvel-social-network/hero-network.csv') # Edges between heroes that appear in the same comic"
      ],
      "execution_count": 6,
      "outputs": []
    },
    {
      "cell_type": "code",
      "metadata": {
        "id": "7-bjJpRv6qTr"
      },
      "source": [
        "##Show basic info on dataframes:\n",
        "\n",
        "# nodes.info() #190.090 rows, 2 columns, no null values\n",
        "# print('\\n')\n",
        "# edges.info() #96.104 rows, 2 columns, no null values\n",
        "# print('\\n')\n",
        "# heroes.info() #574.467 rows, 2 columns, no null values"
      ],
      "execution_count": 7,
      "outputs": []
    },
    {
      "cell_type": "code",
      "metadata": {
        "id": "wJetcMDcnWsn",
        "colab": {
          "base_uri": "https://localhost:8080/",
          "height": 359
        },
        "outputId": "c4b85c33-517b-4cb7-9ddf-c96d31ab8e91"
      },
      "source": [
        "##Peek into the dataframes:\n",
        "\n",
        "# nodes.head(10)\n",
        "# edges.head(10)\n",
        "heroes.head(10)"
      ],
      "execution_count": 8,
      "outputs": [
        {
          "output_type": "execute_result",
          "data": {
            "text/html": [
              "<div>\n",
              "<style scoped>\n",
              "    .dataframe tbody tr th:only-of-type {\n",
              "        vertical-align: middle;\n",
              "    }\n",
              "\n",
              "    .dataframe tbody tr th {\n",
              "        vertical-align: top;\n",
              "    }\n",
              "\n",
              "    .dataframe thead th {\n",
              "        text-align: right;\n",
              "    }\n",
              "</style>\n",
              "<table border=\"1\" class=\"dataframe\">\n",
              "  <thead>\n",
              "    <tr style=\"text-align: right;\">\n",
              "      <th></th>\n",
              "      <th>hero1</th>\n",
              "      <th>hero2</th>\n",
              "    </tr>\n",
              "  </thead>\n",
              "  <tbody>\n",
              "    <tr>\n",
              "      <th>0</th>\n",
              "      <td>LITTLE, ABNER</td>\n",
              "      <td>PRINCESS ZANDA</td>\n",
              "    </tr>\n",
              "    <tr>\n",
              "      <th>1</th>\n",
              "      <td>LITTLE, ABNER</td>\n",
              "      <td>BLACK PANTHER/T'CHAL</td>\n",
              "    </tr>\n",
              "    <tr>\n",
              "      <th>2</th>\n",
              "      <td>BLACK PANTHER/T'CHAL</td>\n",
              "      <td>PRINCESS ZANDA</td>\n",
              "    </tr>\n",
              "    <tr>\n",
              "      <th>3</th>\n",
              "      <td>LITTLE, ABNER</td>\n",
              "      <td>PRINCESS ZANDA</td>\n",
              "    </tr>\n",
              "    <tr>\n",
              "      <th>4</th>\n",
              "      <td>LITTLE, ABNER</td>\n",
              "      <td>BLACK PANTHER/T'CHAL</td>\n",
              "    </tr>\n",
              "    <tr>\n",
              "      <th>5</th>\n",
              "      <td>BLACK PANTHER/T'CHAL</td>\n",
              "      <td>PRINCESS ZANDA</td>\n",
              "    </tr>\n",
              "    <tr>\n",
              "      <th>6</th>\n",
              "      <td>STEELE, SIMON/WOLFGA</td>\n",
              "      <td>FORTUNE, DOMINIC</td>\n",
              "    </tr>\n",
              "    <tr>\n",
              "      <th>7</th>\n",
              "      <td>STEELE, SIMON/WOLFGA</td>\n",
              "      <td>ERWIN, CLYTEMNESTRA</td>\n",
              "    </tr>\n",
              "    <tr>\n",
              "      <th>8</th>\n",
              "      <td>STEELE, SIMON/WOLFGA</td>\n",
              "      <td>IRON MAN/TONY STARK</td>\n",
              "    </tr>\n",
              "    <tr>\n",
              "      <th>9</th>\n",
              "      <td>STEELE, SIMON/WOLFGA</td>\n",
              "      <td>IRON MAN IV/JAMES R.</td>\n",
              "    </tr>\n",
              "  </tbody>\n",
              "</table>\n",
              "</div>"
            ],
            "text/plain": [
              "                  hero1                 hero2\n",
              "0         LITTLE, ABNER        PRINCESS ZANDA\n",
              "1         LITTLE, ABNER  BLACK PANTHER/T'CHAL\n",
              "2  BLACK PANTHER/T'CHAL        PRINCESS ZANDA\n",
              "3         LITTLE, ABNER        PRINCESS ZANDA\n",
              "4         LITTLE, ABNER  BLACK PANTHER/T'CHAL\n",
              "5  BLACK PANTHER/T'CHAL        PRINCESS ZANDA\n",
              "6  STEELE, SIMON/WOLFGA      FORTUNE, DOMINIC\n",
              "7  STEELE, SIMON/WOLFGA   ERWIN, CLYTEMNESTRA\n",
              "8  STEELE, SIMON/WOLFGA  IRON MAN/TONY STARK \n",
              "9  STEELE, SIMON/WOLFGA  IRON MAN IV/JAMES R."
            ]
          },
          "metadata": {
            "tags": []
          },
          "execution_count": 8
        }
      ]
    },
    {
      "cell_type": "markdown",
      "metadata": {
        "id": "JPWynhxE3SjT"
      },
      "source": [
        "#Data cleaning"
      ]
    },
    {
      "cell_type": "code",
      "metadata": {
        "id": "ggaObAtk3c4b"
      },
      "source": [
        "#Remove leading and trailing spaces\n",
        "\n",
        "nodes = nodes.applymap(lambda x: x.strip())\n",
        "edges = edges.applymap(lambda x: x.strip())\n",
        "heroes = heroes.applymap(lambda x: x.strip())"
      ],
      "execution_count": 9,
      "outputs": []
    },
    {
      "cell_type": "markdown",
      "metadata": {
        "id": "2N7_8ba5bkrS"
      },
      "source": [
        "#Graph exploration"
      ]
    },
    {
      "cell_type": "code",
      "metadata": {
        "colab": {
          "base_uri": "https://localhost:8080/"
        },
        "id": "OQr8CJHcqejD",
        "outputId": "c8cb157f-5e21-433a-99cc-7318d6f1959b"
      },
      "source": [
        "#Number of times IronMan/TonyStark has appeared in another hero's comic\n",
        "heroes.loc[ heroes['hero1']=='IRON MAN/TONY STARK' ].shape[0]"
      ],
      "execution_count": 10,
      "outputs": [
        {
          "output_type": "execute_result",
          "data": {
            "text/plain": [
              "5850"
            ]
          },
          "metadata": {
            "tags": []
          },
          "execution_count": 10
        }
      ]
    },
    {
      "cell_type": "code",
      "metadata": {
        "colab": {
          "base_uri": "https://localhost:8080/"
        },
        "id": "3z50QDXlmM5I",
        "outputId": "5bda93e4-47ab-4aef-cae2-579d2b7b005e"
      },
      "source": [
        "# Number of times Spiderman/PeterParker appeared in the same comic as IronMan/TonyStark\n",
        "heroes.loc[ (heroes['hero1']=='SPIDER-MAN/PETER PAR') & (heroes['hero2']=='IRON MAN/TONY STARK') ].shape[0]"
      ],
      "execution_count": 11,
      "outputs": [
        {
          "output_type": "execute_result",
          "data": {
            "text/plain": [
              "40"
            ]
          },
          "metadata": {
            "tags": []
          },
          "execution_count": 11
        }
      ]
    },
    {
      "cell_type": "code",
      "metadata": {
        "colab": {
          "base_uri": "https://localhost:8080/"
        },
        "id": "b_lvKwmXn1cV",
        "outputId": "521146fa-f9b6-4178-a1b6-5daa5070d5df"
      },
      "source": [
        "# Number of times IronMan/TonyStark appeared in the same comic as Spiderman/PeterParker\n",
        "heroes.loc[ (heroes['hero1'] == 'IRON MAN/TONY STARK') & (heroes['hero2'] == 'SPIDER-MAN/PETER PAR') ].shape[0]"
      ],
      "execution_count": 12,
      "outputs": [
        {
          "output_type": "execute_result",
          "data": {
            "text/plain": [
              "54"
            ]
          },
          "metadata": {
            "tags": []
          },
          "execution_count": 12
        }
      ]
    },
    {
      "cell_type": "markdown",
      "metadata": {
        "id": "H8Z2rzmDo8DJ"
      },
      "source": [
        "These two values may be different because of the structure of the edgelist. Maybe a relationship of (hero1=Spiderman, hero2=Ironman) indicates an occurence of Spiderman appearing in an Ironman comic."
      ]
    },
    {
      "cell_type": "code",
      "metadata": {
        "colab": {
          "base_uri": "https://localhost:8080/"
        },
        "id": "Cio06kKcrMS7",
        "outputId": "f7839cbe-92ec-4b60-f730-b31e59f6ab9d"
      },
      "source": [
        "#Number different comics in which IronMan/TonyStark has appeared in \n",
        "ironman_h1 = heroes.loc[heroes['hero1'] == 'IRON MAN/TONY STARK'].drop_duplicates()\n",
        "ironman_h1.shape[0]"
      ],
      "execution_count": 13,
      "outputs": [
        {
          "output_type": "execute_result",
          "data": {
            "text/plain": [
              "1131"
            ]
          },
          "metadata": {
            "tags": []
          },
          "execution_count": 13
        }
      ]
    },
    {
      "cell_type": "code",
      "metadata": {
        "colab": {
          "base_uri": "https://localhost:8080/"
        },
        "id": "gnx-nq3ira-B",
        "outputId": "f25327b6-b625-4b9a-d16c-985a447064a1"
      },
      "source": [
        "#Number different heroes that have appeared in a IronMan/TonyStark comic\n",
        "ironman_h2 = heroes.loc[heroes['hero2'] == 'IRON MAN/TONY STARK'].drop_duplicates()\n",
        "ironman_h2.shape[0]"
      ],
      "execution_count": 14,
      "outputs": [
        {
          "output_type": "execute_result",
          "data": {
            "text/plain": [
              "1106"
            ]
          },
          "metadata": {
            "tags": []
          },
          "execution_count": 14
        }
      ]
    },
    {
      "cell_type": "code",
      "metadata": {
        "colab": {
          "base_uri": "https://localhost:8080/"
        },
        "id": "ke_k6xfMrplY",
        "outputId": "8aa3b261-6f1a-4bb9-82ea-3e530334d831"
      },
      "source": [
        "#Number of times IronMan has been involved in his or other heroes' comics\n",
        "ironman_merge = pd.merge(ironman_h1, ironman_h2, how='outer', left_on='hero2', right_on='hero1')\n",
        "ironman_merge.shape[0]"
      ],
      "execution_count": 15,
      "outputs": [
        {
          "output_type": "execute_result",
          "data": {
            "text/plain": [
              "1521"
            ]
          },
          "metadata": {
            "tags": []
          },
          "execution_count": 15
        }
      ]
    },
    {
      "cell_type": "markdown",
      "metadata": {
        "id": "rEbfIZ21px5g"
      },
      "source": [
        "Since we are interested in a non directed graph, we will ignore this fact for the moment"
      ]
    },
    {
      "cell_type": "code",
      "metadata": {
        "id": "ptqpPisf82r2"
      },
      "source": [
        "heroes = heroes.drop_duplicates()"
      ],
      "execution_count": 16,
      "outputs": []
    },
    {
      "cell_type": "markdown",
      "metadata": {
        "id": "ldzS5MFmxXhL"
      },
      "source": [
        "#Generate graph"
      ]
    },
    {
      "cell_type": "code",
      "metadata": {
        "id": "aACGetsT1C4X",
        "colab": {
          "base_uri": "https://localhost:8080/"
        },
        "outputId": "ff0d8abe-e5bd-412b-cded-212d4647bba3"
      },
      "source": [
        "#Generate Undirected Graph structure\n",
        "\n",
        "graph = nx.from_pandas_edgelist(heroes, source='hero1', target='hero2') \n",
        "graph = graph.to_undirected(graph) # Unweighted undirected graph\n",
        "\n",
        "print(nx.info(graph))"
      ],
      "execution_count": 17,
      "outputs": [
        {
          "output_type": "stream",
          "text": [
            "Name: \n",
            "Type: Graph\n",
            "Number of nodes: 6421\n",
            "Number of edges: 167112\n",
            "Average degree:  52.0517\n"
          ],
          "name": "stdout"
        }
      ]
    },
    {
      "cell_type": "markdown",
      "metadata": {
        "id": "zVaxHVVq31D9"
      },
      "source": [
        "The graph density of simple graphs is defined to be the ratio of the number of edges ${\\displaystyle |E|}$ with respect to the maximum possible edges\n",
        "For undirected simple graphs, the graph density is:\n",
        "\n",
        "${\\displaystyle D={\\frac {|E|}{\\binom {|V|}{2}}}={\\frac {2|E|}{|V|(|V|-1)}}}$\n",
        "\n",
        "where E is the number of edges and V is the number of vertices in the graph.\n",
        "\n",
        " The maximum number of edges for an undirected graph is ${\\displaystyle {\\binom {|V|}{2}}={\\frac{|V|(|V|-1)}{2}}}$, so the maximal density is 1 (for complete graphs) and the minimal density is 0"
      ]
    },
    {
      "cell_type": "code",
      "metadata": {
        "id": "EglLOcYY2wEJ"
      },
      "source": [
        "def graph_density(n_vertex, n_edges):\n",
        "  return (2*n_edges / (n_vertex * (n_vertex - 1)) )"
      ],
      "execution_count": 18,
      "outputs": []
    },
    {
      "cell_type": "code",
      "metadata": {
        "colab": {
          "base_uri": "https://localhost:8080/"
        },
        "id": "XLN1R2y_2z-i",
        "outputId": "612fcdb4-0140-457c-ff59-1aa8ba445f9f"
      },
      "source": [
        "density = graph_density(graph.number_of_nodes(), graph.number_of_edges())\n",
        "print(density)"
      ],
      "execution_count": 19,
      "outputs": [
        {
          "output_type": "stream",
          "text": [
            "0.008107742265085212\n"
          ],
          "name": "stdout"
        }
      ]
    },
    {
      "cell_type": "code",
      "metadata": {
        "colab": {
          "base_uri": "https://localhost:8080/"
        },
        "id": "LdZ461kSxoMz",
        "outputId": "063343de-566d-46ff-84d4-541731f99c6c"
      },
      "source": [
        "#Check graph generation\n",
        "\n",
        "# #Previously seen:\n",
        "# #Number of times IronMan has been involved in his or other heroes' comics\n",
        "# ironman_merge = pd.merge(ironman_h1, ironman_h2, how='outer', left_on='hero2', right_on='hero1')\n",
        "# ironman_merge.shape[0] \n",
        "# #Out: 1521\n",
        "\n",
        "len(list(graph.edges('IRON MAN/TONY STARK')))"
      ],
      "execution_count": 20,
      "outputs": [
        {
          "output_type": "execute_result",
          "data": {
            "text/plain": [
              "1521"
            ]
          },
          "metadata": {
            "tags": []
          },
          "execution_count": 20
        }
      ]
    },
    {
      "cell_type": "code",
      "metadata": {
        "id": "3cAwOpTt__tz"
      },
      "source": [
        "graph_nodes = graph.nodes()"
      ],
      "execution_count": 21,
      "outputs": []
    },
    {
      "cell_type": "code",
      "metadata": {
        "id": "SwbzGRfeAxL8"
      },
      "source": [
        "graph_edges = graph.edges()"
      ],
      "execution_count": 22,
      "outputs": []
    },
    {
      "cell_type": "markdown",
      "metadata": {
        "id": "-3SRX8eY8NbB"
      },
      "source": [
        "#Generate subgraph"
      ]
    },
    {
      "cell_type": "code",
      "metadata": {
        "colab": {
          "base_uri": "https://localhost:8080/"
        },
        "id": "a-FRxLr9VCfi",
        "outputId": "22269c1a-6b69-4984-e954-3acf62a6ca1c"
      },
      "source": [
        "sort_degrees = sorted(list(graph.degree), key= lambda degree: degree[1], reverse= True)\n",
        "print(sort_degrees)"
      ],
      "execution_count": 23,
      "outputs": [
        {
          "output_type": "stream",
          "text": [
            "[('CAPTAIN AMERICA', 1905), ('SPIDER-MAN/PETER PAR', 1737), ('IRON MAN/TONY STARK', 1521), ('THING/BENJAMIN J. GR', 1416), ('MR. FANTASTIC/REED R', 1377), ('WOLVERINE/LOGAN', 1368), ('HUMAN TORCH/JOHNNY S', 1361), ('SCARLET WITCH/WANDA', 1322), ('THOR/DR. DONALD BLAK', 1289), ('BEAST/HENRY &HANK& P', 1265), ('VISION', 1238), ('INVISIBLE WOMAN/SUE', 1236), ('HAWK', 1175), ('WASP/JANET VAN DYNE', 1091), ('ANT-MAN/DR. HENRY J.', 1082), ('CYCLOPS/SCOTT SUMMER', 1078), ('SHE-HULK/JENNIFER WA', 1071), ('STORM/ORORO MUNROE S', 1070), ('ANGEL/WARREN KENNETH', 1070), ('DR. STRANGE/STEPHEN', 1065), ('HULK/DR. ROBERT BRUC', 1055), ('PROFESSOR X/CHARLES', 1032), ('WONDER MAN/SIMON WIL', 1031), ('COLOSSUS II/PETER RA', 1023), ('MARVEL GIRL/JEAN GRE', 1003), ('HERCULES [GREEK GOD]', 989), ('JARVIS, EDWIN', 986), ('SUB-MARINER/NAMOR MA', 979), ('DAREDEVIL/MATT MURDO', 967), ('ICEMAN/ROBERT BOBBY', 944), ('FURY, COL. NICHOLAS', 922), ('JAMESON, J. JONAH', 920), ('BLACK WIDOW/NATASHA', 920), ('QUICKSILVER/PIETRO M', 875), ('NIGHTCRAWLER/KURT WA', 857), ('ROGUE /', 829), ('WATSON-PARKER, MARY', 800), ('HAVOK/ALEX SUMMERS', 779), ('BLACK KNIGHT V/DANE', 740), ('QUASAR III/WENDELL V', 731), ('SHADOWCAT/KATHERINE', 718), (\"BLACK PANTHER/T'CHAL\", 711), ('CRYSTAL [INHUMAN]', 701), ('PSYLOCKE/ELISABETH B', 692), ('NOVA/RICHARD RIDER', 679), ('SILVER SURFER/NORRIN', 667), ('DR. DOOM/VICTOR VON', 648), ('ROBERTSON, JOE', 643), ('CANNONBALL II/SAM GU', 641), ('RICHARDS, FRANKLIN B', 635), ('FIRESTAR/ANGELICA JO', 613), ('GAMBIT/REMY LEBEAU', 610), ('CAGE, LUKE/CARL LUCA', 607), ('NAMORITA/NITA PRENTI', 595), ('SUMMERS, NATHAN CHRI', 585), ('USAGENT/CAPTAIN JOHN', 585), ('SERSI/SYLVIA', 581), ('MOONDRAGON/HEATHER D', 572), ('POLARIS/LORNA DANE', 563), ('IRON FIST/DANIEL RAN', 550), ('FALCON/SAM WILSON', 541), ('COOPER, DR. VALERIE', 539), ('JONES, RICHARD MILHO', 539), ('WOLFSBANE/RAHNE SINC', 537), ('BINARY/CAROL DANVERS', 537), ('THUNDERSTRIKE/ERIC K', 534), ('CAPTAIN MARVEL II/MO', 531), ('UATU', 526), ('MAGNETO/MAGNUS/ERIC', 526), ('MOCKINGBIRD/DR. BARB', 522), ('SUNSPOT/ROBERTO DACO', 520), ('TIGRA/GREER NELSON', 516), ('SPEEDBALL/ROBBIE BAL', 503), ('BANSHEE/SEAN CASSIDY', 502), ('NELSON, FRANKLIN FOG', 497), ('DUGAN, TIMOTHY ALOYI', 497), ('JUSTICE II/VANCE AST', 489), ('PARKER, MAY', 488), ('PUNISHER II/FRANK CA', 484), ('DR. DRUID/ANTHONY LU', 481), ('FORGE', 476), ('IRON MAN IV/JAMES R.', 465), ('CAPTAIN BRITAIN/BRIA', 460), ('STARFOX/EROS', 457), ('SASQUATCH/WALTER LAN', 456), ('MACTAGGERT, MOIRA KI', 452), ('THUNDERBIRD II/JAMES', 451), ('JUBILEE/JUBILATION L', 449), ('MEDUSA/MEDUSALITH AM', 449), ('BEETLE/ABNER RONALD', 446), ('KARNAK [INHUMAN]', 445), ('BLACK BOLT/BLACKANTO', 444), ('WONG', 444), ('KINGPIN/WILSON FISK', 442), ('GORGON [INHUMAN]', 439), ('MOON KNIGHT/MARC SPE', 439), ('MASTERS, ALICIA REIS', 438), ('BOOMER/TABITHA SMITH', 435), ('SCREAMING MIMI/MELIS', 432), ('MOONSTONE II/KARLA S', 429), ('LOKI [ASGARDIAN]', 425), ('SHAMAN/MICHAEL TWOYO', 425), ('BLOB/FRED J. DUKES', 423), ('ODIN [ASGARDIAN]', 423), ('POWER MAN/ERIK JOSTE', 421), ('TRITON', 420), ('NORTHSTAR/JEAN-PAUL', 420), ('LEEDS, BETTY BRANT', 414), ('SPIDER-WOMAN II/JULI', 411), ('ANT-MAN II/SCOTT HAR', 410), ('URICH, BEN', 407), ('AURORA/JEANNE-MARIE', 406), ('GYRICH, HENRY PETER', 402), ('MIRAGE II/DANIELLE M', 398), ('GALACTUS/GALAN', 397), ('PHOENIX III/RACHEL S', 397), ('MYSTIQUE/RAVEN DARKH', 395), ('LOCKJAW [INHUMAN]', 395), ('MEPHISTO', 395), ('HUDSON, HEATHER', 394), ('HOGUN [ASGARDIAN]', 393), ('FANDRAL [ASGARDIAN]', 393), ('WHITE QUEEN/EMMA FRO', 393), ('NORRISS, SISTER BARB', 389), ('NIGHT THRASHER/DUANE', 384), ('SIF', 380), ('SUNFIRE/SHIRO YOSHID', 379), ('SANDMAN/WILLIAM BAKE', 377), ('DAZZLER II/ALLISON B', 376), ('THANOS', 371), ('PHARAOH RAMA-TUT', 370), ('PUCK/EUGENE MILTON J', 370), ('SIRYN/THERESA ROURKE', 366), ('HELLCAT/PATSY WALKER', 365), ('BISHOP /', 359), ('SPIDER-MAN CLONE/BEN', 355), ('HARKNESS, AGATHA', 355), ('BALDER [ASGARDIAN]', 352), ('DARKHAWK/CHRIS POWEL', 352), ('VOLSTAGG', 350), ('LIVING LIGHTNING/MIG', 350), ('THOMPSON, EUGENE FLA', 349), ('BANNER, BETTY ROSS T', 344), ('HUMAN TORCH ANDROID/', 343), ('CITIZEN V II/HELMUT', 337), ('LILANDRA NERAMANI [S', 335), ('HIGH EVOLUTIONARY/HE', 334), ('DOMINO III/BEATRICE/', 333), ('KNIGHT, MISTY', 333), ('CARTER, PEGGY', 333), ('JACK OF HEARTS/JACK', 332), ('KA-ZAR/KEVIN PLUNDER', 330), ('ROSS, GEN. THADDEUS', 329), ('DARKSTAR/LAYNIA SERG', 329), ('LOCKHEED', 324), ('STRONG GUY/GUIDO CAR', 323), ('OSBORN, LIZ ALLAN', 321), ('ENCHANTRESS/AMORA/HE', 319), ('ETERNITY/ADAM QADMON', 317), ('MEGGAN', 316), ('RHINO', 311), ('MULTIPLE MAN/JAMES A', 310), ('DOC SAMSON/DR. LEONA', 304), ('GUARDIAN/JAMES MACDO', 304), ('NOVA II/FRANKIE RAYE', 302), ('JAMESON, COL. JOHN', 302), ('CYPHER/DOUG RAMSEY', 302), ('BLACK CAT/FELICIA HA', 301), ('DRAX/ARTHUR DOUGLAS', 300), ('PALADIN/PAUL DENNIS', 300), ('WARLOCK II/ADAM WARL', 299), ('TILBY, TRISH/PATRICI', 299), ('MAKKARI/MIKE KHARY/I', 299), ('PYRO/ALLERDYCE JOHNN', 298), ('GHOST RIDER III/DAN', 296), ('MOLE MAN/HARVEY RUPE', 296), ('FIXER II/PAUL NORBER', 296), ('SPIDER-WOMAN/JESSICA', 294), ('HELA [ASGARDIAN]', 292), ('PAGE, KAREN', 289), ('JOLT/HALLIE TAKAHAMA', 286), ('STINGRAY/DR. WALTER', 284), (\"O'BRIEN, MICHAEL\", 283), ('JUGGERNAUT/CAIN MARK', 282), ('MS. MARVEL II/SHARON', 282), ('BLACK KING/SEBASTIAN', 282), ('BRIDGE, GEORGE WASHI', 281), ('ELECTRO/MAX DILLON', 281), ('VANGUARD/NICOLAI KRY', 281), ('DEATH', 280), ('RAGE/ELVIN DARYL HAL', 280), ('WARLOCK III', 279), (\"SHANNA/SHANNA O'HARA\", 279), ('AVALANCHE/DOMINIC PE', 277), ('WATSON, ANNA', 277), ('HELLSTORM/DAIMON HEL', 277), ('CLOAK/TYRONE JOHNSON', 275), ('ABSORBING MAN/CARL C', 275), ('SABRETOOTH/VICTOR CR', 273), ('GHOST RIDER II/JOHNN', 271), ('REDWING', 270), ('KLAW/ULYSSES KLAW', 268), ('GRANT, GLORIA GLORY', 266), ('MAGIK/ILLYANA RASPUT', 265), ('GARGOYLE II/ISAAC CH', 263), ('KINCAID, DR. JANE FO', 263), ('GEE/ALEX POWER', 262), ('GREEN GOBLIN/NORMAN', 262), ('DE LA FONTAINE, CONT', 261), ('APOCALYPSE/EN SABAH', 261), ('HOGAN, VIRGINIA PEPP', 260), ('CARTER, SHARON', 258), ('LYJA LAZERFIST [SKRU', 258), ('X-MAN/NATHAN GREY', 258), ('HEIMDALL [ASGARDIAN]', 257), ('MACHINE MAN/X-51', 257), ('RED SKULL/JOHANN SCH', 255), ('IKARIS/IKE HARRIS [E', 254), ('CONSTRICTOR/FRANK PA', 253), ('TITANIA II/MARY SKEE', 253), ('NIGHTHAWK II/KYLE RI', 252), ('SUMMERS, MADELYNE MA', 251), ('JAMESON, MARLA MADIS', 251), ('DAGGER/TANDY BOWEN', 250), ('WILD CHILD/KYLE GIBN', 250), ('SILHOUETTE', 249), ('CLEA', 246), ('CAPTAIN MARVEL/CAPTA', 246), ('TURBO II (A)/MICHIKO', 244), ('WIZARD/BENTLEY WITTM', 244), ('SNOWBIRD/NARYA/ANNE', 244), ('OSBORN, HARRY', 243), ('ZABU', 242), ('MARROW/SARAH', 242), ('ROM, SPACEKNIGHT', 241), ('LUNA/LUNA MAXIMOFF [', 239), ('SUPREME INTELLIGENCE', 238), ('BETA RAY BILL', 238), ('TOAD/MORTIMER TOYNBE', 238), ('BEYONDER', 236), ('DIAMONDBACK II/RACHE', 236), ('COBRA/KLAUS VORHEES', 235), ('BOOMERANG/FRED MYERS', 235), ('HUSK/PAIGE GUTHRIE', 235), ('CITIZEN V III/DALLAS', 234), ('WING, COLLEEN', 234), ('DAYTRIPPER/AMANDA SE', 233), ('THENA', 233), ('DR. OCTOPUS/OTTO OCT', 232), ('CHARCOAL/CHARLIE BUR', 231), ('RICTOR/JULIO ESTEBAN', 230), ('VIPER II', 229), ('DESTINY II/IRENE ADL', 228), ('PIP/PRINCE GOFERN', 228), ('TRAPSTER/PETER PETRU', 228), ('WRECKER III/DIRK GAR', 228), ('SKIN/ANGELO ESPINOSA', 228), ('SABRA/RUTH BAT-SERAP', 228), ('GAMORA', 226), ('PUPPET MASTER/PHILLI', 226), ('BALLANTINE, KAYLA', 225), ('JONES, GABE', 225), ('TORPEDO III/BROCK JO', 224), ('LONGSHOT', 222), ('GLADIATOR II', 222), ('HOGAN, HAROLD J. HAP', 221), ('MANDARIN', 221), ('ZEUS', 220), ('RED GHOST/IVAN KRAGO', 218), ('JOCASTA', 217), ('SYNCH/EVERETT THOMAS', 216), ('THINKER', 215), ('HYDROMAN/MORRIE BENC', 214), ('SHATTERSTAR II/GAVEE', 214), ('CALIBAN/', 213), ('THUNDERBALL/DR. ELIO', 212), ('KELLY, SEN. ROBERT E', 212), ('COUNTERWEIGHT II/KAT', 211), ('FIREBIRD/BONITA JUAR', 211), ('VASHTI', 210), ('PEATOR', 210), ('CHAMBER/JONOTHON STA', 210), ('LEECH', 209), ('MISTER HYDE/CALVIN Z', 208), ('DEADPOOL/JACK/WADE W', 208), ('MIKHLO', 208), ('IGOR', 208), ('CORBEAU, DR. PETER', 206), ('FIRELORD/PYREUS KRIL', 206), ('BARON STRUCKER/WOLFG', 206), ('WHIPLASH/MARK SCARLO', 206), ('SPIRAL', 206), ('LUMPKIN, WILLIAM WIL', 206), ('MADDICKS, ARTHUR ART', 206), ('NOMAD III/JACK MONRO', 205), ('SITWELL, JASPER', 204), ('TRIATHLON/DELROY GAR', 204), ('WHIRLWIND/DAVID CANN', 204), ('WHIZZER/ROBERT L. FR', 203), (\"DEATHBIRD [SHI'AR]\", 203), ('EXECUTIONER II/SKURG', 201), ('CORSAIR', 201), ('SILVER SABLE', 200), ('MASTER MOLD II', 200), ('COUNTERWEIGHT/JACK P', 200), ('LIGHTSPEED/JULIE POW', 200), ('MAGMA/AMARA AQUILLA/', 199), ('STANKOWICZ, FABIAN', 198), ('CARGIL/JOANNA CARGIL', 197), ('WEREWOLF BY NIGHT/JA', 196), ('ATTUMA', 196), (\"KISMET/J'RIDIA STARD\", 195), ('MAGUS', 195), ('CALLISTO', 195), ('GRANDMASTER/EN DWI G', 195), ('VULTURE/ADRIAN TOOME', 193), ('AJAK/TECUMOTZIN [ETE', 192), ('HOBGOBLIN V/JASON PH', 191), ('FIREFIST/RUSTY COLLI', 191), ('TIGER SHARK/TODD ARL', 191), ('DEATHLOK III/MICHAEL', 190), ('SKIDS/SALLY BLEVINS', 190), (\"KARMA/XI'AN COY MANH\", 190), ('MR. SINISTER/NATHAN', 189), ('VIZIER', 189), ('HYPERION', 189), ('MAN-THING/THEODORE T', 188), ('MAD DOG/COLONEL BUZZ', 188), ('ABOMINATION/EMIL BLO', 187), ('ARBOGAST, BAMBI', 187), ('ROSENTHAL, BERNIE', 187), ('LEADER/SAM STERNS', 187), ('FORGOTTEN ONE/GILGAM', 187), ('KARNILLA [ASGARDIAN]', 186), ('BLACK GOLIATH/DR. WI', 185), ('SELENE', 185), ('GYPSY MOTH', 185), ('PRINCESS PYTHON/ZELD', 184), ('LIVING TRIBUNAL', 184), ('PILEDRIVER II/BRIAN', 184), ('ULTRON', 183), ('RINGMASTER/MAYNARD T', 183), ('COLLECTOR/TANELEER T', 183), ('GATEWAY', 182), ('SILVER SAMURAI/KENYU', 182), ('DARK BEAST/HENRY MCC', 182), ('LEEDS, NED', 181), ('LEE, STAN', 181), ('CRIMSON COWL II/', 181), ('DR. SPECTRUM/JOSEPH', 180), ('MODOK/GEORGE TARLETO', 180), ('BROTHER VOODOO/DANIE', 179), (\"SUPER SKRULL/KL'RT\", 178), ('FERAL/MARIA CALLASAN', 178), ('BULLDOZER/HENRY CAMP', 177), ('JONES, MARLO CHANDLE', 176), ('OSBORN, NORMIE', 176), ('URSA MAJOR/MIKHAIL U', 176), ('BATROC/GEORGES BATRO', 175), ('RONAN THE ACCUSER [K', 175), ('SHROUD/MAXIMILLIAN Q', 175), ('VAPOR', 175), ('SHIP', 175), (\"CH'OD\", 173), ('WHIZZER II/STANLEY S', 172), ('KENT, CLARK', 172), ('RAZA LONGKNIFE', 172), ('BLACK MAMBA/TANYA SE', 171), ('ARISHEM [CELESTIAL]', 171), ('DEMOLITION MAN/DENNI', 171), ('MELTER/BRUNO HORGAN', 171), ('BLITZKRIEG/', 171), ('CRIMSON DYNAMO V/DIM', 170), ('SOUTHERN, CANDY', 169), ('PLANTMAN/SAM SMITHER', 169), ('DIABLO/ESTEBAN DE AB', 169), ('TALISMAN II/ELIZABET', 169), ('ARABIAN KNIGHT/ABDUL', 169), ('DRAGONFLY/VERONICA D', 167), ('GREY, DR. JOHN', 167), ('SHAMROCK/MOLLY FITZG', 167), ('STARSHINE II/BRANDY', 166), ('ANACONDA/BLANCHE SIT', 166), ('TANAKA, KENJIRO', 166), ('STRUCKER, ANDREAS', 166), ('TESSA', 165), ('MAXIMUS [INHUMAN]', 164), ('STONE, LT. MARCUS', 164), ('WISDOM, PETER', 164), ('STRUCKER, ANDREA', 164), (\"MAM'SELLE HEPZIBAH\", 164), ('UNION JACK III/JOEY', 164), ('BLAQUESMITH', 163), ('PENANCE/MONET ST. CR', 163), ('RED GUARDIAN III/DR.', 162), ('POWER, DR. JIM', 162), ('ROBERTSON, RANDY', 162), ('GHAUR [DEVIANT]', 162), ('LIZARD/DR. CURTIS CO', 161), ('TEXAS TWISTER/DREW D', 161), ('MR. FANTASTIC DOPPEL', 161), ('DEVIL-SLAYER/ERIC SI', 159), ('VANISHER', 159), ('STACY, JILL', 158), ('MOLECULE MAN/OWEN RE', 158), ('MYSTERIO/QUENTIN BEC', 158), ('VENOM/EDDIE BROCK', 157), ('KINCAID, DR. KEITH', 157), ('MENTOR/ALARS [ETERNA', 157), ('BATTLESTAR/LEMAR HOS', 157), ('SWORDSMAN/JACQUES DU', 156), ('THANOS DOPPELGANGER', 156), ('LE FEY, MORGAN', 156), ('SAURON/DR. KARL LYKO', 156), ('WATER WIZARD/PETE', 154), ('CUSHING, KATE', 153), ('EPOCH', 153), ('SZARDOS, MARGALI', 153), ('ASP II/CLEO', 152), ('ZIRAN', 152), ('ARCANNA/ARCANNA JONE', 152), ('HAMMER, JUSTIN', 152), ('BOLT II/CHRIS BRADLE', 152), ('CHENEY, LILA', 152), ('GAEA', 152), ('SILVERMANE/SILVIO MA', 151), ('ORACLE/LADY SIBYL', 151), ('EGO', 151), ('THUNDERBIRD III/NEAL', 151), ('DRACULA/VLAD TEPES', 150), ('SCANNER II', 150), ('BOX IV/MADISON JEFFR', 150), ('PROWLER/HOBIE BROWN', 150), ('MERRYWEATHER, IRENE', 149), ('POWER, MARGARET', 149), ('DORMAMMU', 149), ('WINGFOOT, WYATT', 149), ('LUBENSKI, NATE', 148), ('WHIZZER III/JAMES SA', 148), ('ROBERTSON, MARTHA', 148), ('NIGHTHAWK/KYLE RICHM', 148), ('KRISTOFF/KRISTOFF VE', 147), ('EEL II/EDWARD LAVELL', 147), ('SIKORSKY, RAYMOND', 147), ('MANTIS/? BRANDT', 147), ('RINTRAH', 146), ('SHOCKER/HERMAN SCHUL', 146), ('RED WOLF III/WILL TA', 146), ('DAREDEVIL DOPPELGANG', 146), ('TOMBSTONE/LONNIE THO', 145), ('KRO [DEVIANT]', 145), ('ROMA', 145), ('LANG, CASSANDRA CASS', 145), ('PLUTO [OLYMPIAN]', 145), ('MAN-KILLER/KATRINA L', 145), ('PHOENIX II', 145), ('CORTEZ, FABIAN', 144), ('GREY GARGOYLE/PAUL P', 144), ('JONES, CHARLOTTE', 144), ('QUICKSAND', 143), ('DRUMM, JERICHO', 143), ('LEGION II/DAVID HALL', 143), ('KARKAS [DEVIANT]', 143), ('NIGHTMARE/EDVARD HAB', 142), ('MASTERMIND/JASON WYN', 142), ('TOWER, BLAKE', 142), ('CAPTAIN MARVEL III/G', 142), ('HAMMERHEAD', 142), ('GREY, ELAINE', 142), ('EBONY', 142), ('MASTER/ESHU', 142), ('IRONCLAD', 142), ('VOLCANA/MARSHA ROSEN', 142), ('VALINOR', 142), ('KRAVEN THE HUNTER/SE', 141), ('SERGEI', 141), ('M', 141), ('IRON MAN DOPPELGANGE', 141), ('COUNT NEFARIA, LUCHI', 140), ('PORCUPINE/ALEX GENTR', 140), ('STRANGER', 140), ('MADAME MASQUE/GIULIE', 140), ('RED GUARDIAN V', 140), ('BOVA', 140), (\"S'YM\", 139), ('CLOWN/CRAFTY ELIOT F', 139), ('MCLAREN, MEGAN', 139), ('ARCLIGHT/PHILLIPA SO', 139), ('X-RAY', 139), ('ANGAR THE SCREAMER/D', 139), ('GAMMENON [CELESTIAL]', 138), ('SLEEPWALKER', 138), ('BLACK TOM CASSIDY', 138), ('EXODUS/BENNET DUPARI', 138), ('ROSS, EVERETT KENNET', 138), ('COLLECTIVE MAN', 138), ('PEREGRINE, LE/FRANCK', 137), ('BANNON, LANCE', 137), (\"CERISE II [SHI'AR]\", 137), ('VECTOR', 137), ('DEFENSOR', 137), ('VOGHT, AMELIA', 136), ('ISAAC', 136), ('SWORDSMAN III/PHILIP', 136), ('SCOURGE', 136), ('CORSI, TOM', 136), ('LORD CHAOS', 135), ('MERCADO, JOY', 135), ('VERTIGO II', 135), ('HOGARTH, JERYN', 135), ('HOBGOBLIN II/RODERIC', 134), ('RADIOACTIVE MAN/DR.', 134), ('QUARTERMAIN, CLAY', 134), ('WARSTAR', 134), ('IMPOSSIBLE MAN', 134), ('LADY LARK/LINDA LEWI', 133), ('STRYFE', 133), ('JOSEPH', 133), ('BEDLAM/JESSE AARONSO', 133), ('REJECT/RAN-SAK [DEVI', 132), ('STRIDER', 132), ('KAINE', 131), ('DESTROYER III', 131), ('CAPTAIN AMERICA DOPP', 131), ('WOLVERINE DOPPELGANG', 131), ('STILT-MAN/WILBUR DAY', 130), ('EON', 130), ('REAGAN, RONALD', 130), ('FREEMAN, DUANE JEROM', 130), ('PIERCE, DONALD', 130), ('CROSSBONES/BROCK BIN', 130), ('MASQUE', 130), ('THING DOPPELGANGER I', 130), ('HUNTER, STEVIE', 129), ('COLOSSUS II DOPPELGA', 129), (\"CR'REEE\", 129), ('ANALYZER', 128), ('ELLIS, KEN', 128), ('BUCKY/BUCKY BARNES', 128), ('WIDGET', 128), ('ZARRKO, ARTHUR', 128), ('ULIK', 128), ('BALDWIN, MADELYNE MA', 128), ('LLYRA/LLYRA MORRIS', 128), ('ARCADE/', 128), ('SENTINELS', 128), ('SHANG-CHI', 127), ('FOREIGNER/RAFAEL BAS', 127), ('ARAGORN', 127), ('TASKMASTER', 127), ('MASTERSON, KEVIN', 127), ('BLACKWING/JOSEPH MAN', 127), ('TALBOT, GLENN', 126), ('FRIEDLANDER, SHARON', 126), ('COPYCAT/VANESSA', 126), ('CYCLOPS DOPPELGANGER', 126), ('CHORD, ANDREW', 126), ('FIZ [SKRULL]', 126), ('CANTOR, VERA', 125), ('LIBRA/GUSTAV BRANDT', 125), ('SCORPION/MACDONALD G', 125), ('MENTALLO', 125), ('SASQUATCH DOPPELGANG', 125), ('LOBO', 124), ('SHADOW KING/AMAHL FA', 124), ('WHITE TIGER II/', 124), ('BRUTE | MUTANT X-VER', 124), ('BLOODSTORM | MUTANT', 124), ('INFINITY II', 123), ('FRENCHIE/JEAN-PAUL D', 123), ('NEBULA', 123), ('STARBOLT', 123), ('TEMPEST/GRANNZ', 123), ('GRAVITON/FRANK HALL', 123), ('AUSTIN, SUSAN', 123), ('ICE-MAN | MUTANT X-V', 123), ('SPEEDBALL DOPPELGANG', 123), ('ONE ABOVE ALL [CELES', 122), ('LORELEI II/MELODI [A', 122), (\"MAN-APE/M'BAKU\", 122), ('VISION DOPPELGANGER', 122), ('HUMAN TORCH DOPPELGA', 122), ('WOLFSBANE DOPPELGANG', 122), ('RUIZ, RIGGER', 122), ('3-D MAN/CHARLES CHAN', 122), ('LEWIS, SHIRLEY WASHI', 121), ('ORKA', 121), ('MASTER ORDER', 120), ('POWER PRINCESS/ZARDA', 120), ('ANNIHILUS', 120), ('CANNONBALL/JACK PULV', 120), ('NITRO/ROBERT L. HUNT', 120), ('LADY DEATHSTRIKE/YUR', 120), ('SAXON, STARR', 120), ('ZOLA, ARNIM', 120), ('BRIGHTWIND', 120), ('ARES [GREEK GOD]', 120), ('HODGE, CAMERON', 120), ('ANDROMEDA/ANDROMEDA', 119), ('MAGDALENE/MARISSA DA', 119), ('MARRINA/MARRINA SMAL', 119), ('POUNDCAKES/MARIAN PO', 119), ('COTTONMOUTH II', 119), ('SMASHER IV', 119), ('RANSOME, JENNIFER AM', 118), ('LIVING MUMMY', 118), (\"VIBRAXAS/N'KANO\", 118), ('MAELSTROM/MALCOLM ST', 118), ('HALLER, GABRIELLE', 118), ('ARON [WATCHER]', 118), ('FRIGGA', 118), ('KURSE/ALGRIM [ASGARD', 118), ('AMERICAN EAGLE III/J', 118), ('GAMBONNO, ERNESTO', 117), ('GAMBONNO, LUIGI', 117), ('LANE, LOIS', 117), ('THOR III DOPPELGANGE', 117), ('VOSTOK', 117), ('TRITON DOPPELGANGER', 117), ('HERCULES DOPPELGANGE', 117), ('TORO/TOM RAYMOND', 116), ('REYES, DR. CECELIA', 116), ('BEREET', 116), ('FLYING TIGER', 116), ('TYRANNUS', 115), ('TALISMAN', 115), ('FOREARM', 114), ('BLASTAAR', 114), ('STUART, DR. ALISTAIR', 114), ('RASSITANO, MAD DOG', 114), ('CLARKE, GENERAL JERE', 114), ('MORBIUS/DR. MICHAEL', 113), ('QUASAR DOPPELGANGER', 113), ('SIKORSKY', 113), ('WINDSHEAR/COLIN ASHW', 113), ('PERSUASION/KARA KILL', 112), ('PUCK DOPPELGANGER II', 112), ('IRON MAN V/TEEN TONY', 112), ('PIPELINE/CORMICK GRI', 111), ('MIMIC/CALVIN RANKIN', 111), ('SIDEWINDER/SETH VOEL', 111), ('CLAREMONT, CHRIS', 111), ('NIGHTSHADE/TILDA', 111), ('TITAN', 111), ('TERRAX II/TYROS', 110), ('SCHEMER/RICHARD FISK', 110), ('SILVERCLAW/LA GARRA', 110), ('DOPPELGANGER', 110), ('STEELE, MARCY MASTER', 110), ('MOY, ALYSSA', 110), ('OMEGA RED/ARKADY ROS', 110), ('DIAMOND LIL/LILLIAN', 110), ('EARTHQUAKE', 110), ('NEZARR', 110), ('CHAMELEON/DMITRI SME', 109), ('SHARPE, ROSALINDE', 109), ('DRAGON MAN', 109), ('TINKERER', 109), ('SHOCKWAVE/LANCASTER', 109), ('BLACK KNIGHT IV/PROF', 109), (\"N'ASTIRH\", 108), ('SUPER-ADAPTOID/ALESS', 108), ('RICHARDS, NATHANIEL', 108), ('POSITRON/RONNIE', 108), ('CLINTON, BILL', 108), ('ONSLAUGHT II', 108), ('SPRITE', 108), ('GRIM REAPER/ERIC WIL', 108), ('MOREAU, PHILLIP', 107), ('MUGGINS, MAMIE', 107), ('SPITFIRE/LADY JACQUE', 107), ('EMPLATE/MARIUS ST. C', 107), ('CABE, BETHANY', 106), ('RATTLER', 106), ('SUPER SABRE/MARTIN F', 106), ('BLOOD BROTHERS', 106), ('YASHIDA, MARIKO', 106), ('DEWOLFF, JEAN', 106), ('PUMA/THOMAS FIREHEAR', 106), ('YELLOWJACKET II/RITA', 106), ('CYCLONE II/PIERRE FR', 106), ('SPEEDBALL II/DARRION', 105), ('ZERO', 105), ('ARRANGER/', 105), ('MASON, LOUISE', 105), ('WATSON, KRISTY', 105), ('THUNDRA', 105), ('SHE-HULK DOPPELGANGE', 105), ('OZYMANDIAS', 104), ('CENTURY', 104), ('TEFRAL', 104), ('WOLVERINE SKRULL', 104), ('MICROCHIP/LINUS LIEB', 103), ('HILDY [ASGARDIAN]', 103), (\"DEATHCRY [SHI'AR]\", 103), ('MOJO', 102), ('DEATHURGE', 102), ('FLATMAN', 102), ('MR. IMMORTAL', 102), ('DOORMAN', 102), ('DINAH-SOAR', 102), ('GIDEON', 102), ('CAMPBELL, DR. RORY', 102), ('SHA SHAN', 101), ('PIERCE, ALEXANDER GO', 101), ('WILDSIDE', 101), ('ELEKTRA/ELEKTRA NATC', 101), ('PETROVITCH, IVAN', 101), ('JOYSTICK/JANICE', 101), ('UNUS THE UNTOUCHABLE', 100), ('SHAW, SHINOBI', 100), ('KRONOS', 100), ('ELYSIUS', 100), ('GLADIATOR/MELVIN POT', 100), ('FORRESTER, CAPT. ALE', 100), ('STRONG GUY DOPPELGAN', 100), ('NAMORITA DOPPELGANGE', 100), ('PIXIE/ [ETERNAL]', 100), ('SCARFE, RAFAEL', 99), ('CARDINAL/CLEMDENON', 99), (\"ERIC THE RED [SHI'AR\", 99), ('HUSSAR', 99), ('MAN-BEAST', 98), ('WOLFE, SARA', 98), ('SHAPE', 98), ('PATHWAY/LAURA DEAN', 98), ('MOON KNIGHT DOPPELGA', 98), ('YELLOW CLAW/TZING JA', 98), ('POLARIS DOPPELGANGER', 98), ('ZURI', 98), ('CARPENTER, RACHEL', 97), ('SCARECROW/EBENEZER L', 97), ('MODRED THE MYSTIC', 97), ('SPHINX', 97), ('SUNDER', 97), ('WALTERS, BILLY', 97), ('ROCKET RACER/ROBERT', 97), ('SHOOTING STAR', 97), ('WHITE TIGER/HECTOR A', 96), ('SAPRISTI, JERRY', 96), ('MANIKIN/DR. WHITMAN', 96), ('PAIBOK, CAPT. [SKRUL', 96), ('CRIMSON COMMANDO/FRA', 96), ('HULK DOPPELGANGER II', 96), ('SUMMERS, SCOTT III |', 96), ('BEAST DOPPELGANGER I', 96), ('ASTRA', 96), ('STACY, ARTHUR', 95), ('TAROT/MARIE-ANGE COL', 95), ('KIRBY, JACK', 95), ('YELLOWJACKET III/HEN', 95), ('ONEG', 95), (\"D'SPAYRE\", 94), ('KLEINSTOCK, HARLAN', 94), ('KLEINSTOCK, SVEN', 94), ('DEATH ADDER', 94), ('ERISHKIGEL II/HOLLY', 94), ('ROSE IV/JACOB JAKE C', 94), ('MCCABE, LINDSAY', 94), ('DEVOS THE DEVESTATOR', 94), ('DARKHAWK DOPPELGANGE', 94), ('MULTIPLE MAN DOPPELG', 94), ('MOWAT, FARLEY', 94), ('ESON [CELESTIAL]', 94), ('IN-BETWEENER', 93), ('BULLSEYE II/BENJAMIN', 93), ('AMPHIBIUS', 93), ('WHITMAN, DEBRA', 93), ('GAMBIT DOPPELGANGER', 93), ('ROSEN, WALTER', 93), ('ARKON', 92), ('MESMERO', 92), ('DANSEN MACABRE', 92), ('BLACK KNIGHT V DOPPE', 92), ('QUICKSILVER DOPPELGA', 92), ('USAGENT DOPPELGANGER', 92), ('SPIDER-WOMAN DOPPELG', 92), ('NOVA DOPPELGANGER II', 92), ('HOBGOBLIN', 92), ('BROTHERS GRIMM II/BA', 91), ('REESE, MURRAY', 91), ('ELECTRON', 91), ('LYNNE, MONICA', 91), ('MARRS(-PAYNE), PHOEB', 91), ('GAUNTLET', 91), ('MAGGOTT/JAPHETH', 91), ('SIMON, ALEX FLORES', 91), ('WITCHFIRE', 91), ('HUNTARA/MARY ELIZABE', 90), ('TYPHOID MARY/MARY ME', 90), ('BARON MORDO/KARL MOR', 90), ('CHEKOV, ARTHUR ANTON', 90), ('BLOODAXE/JACKIE LUKU', 90), ('UNUSCIONE', 90), ('HARPOON', 90), ('NUKLO/ROBERT FRANK J', 90), ('NORTHSTAR DOPPELGANG', 90), ('MALICE V/NAKIA', 90), ('MAGRUDER, ALLIE', 90), ('GRIFFITH, D.W.', 89), ('EEL/LEOPOLD STRYKE', 89), ('AHAB/RORY CAMPBELL', 89), ('KORVAC, MICHAEL', 89), ('MIRAGE', 89), ('GOBLYN', 89), ('HARDRIVE', 89), ('CAPTAIN AMERICA | MU', 89), ('THING DOPPELGANGER', 89), ('BEAST DOPPELGANGER', 89), ('HULK DOPPELGANGER', 89), ('KARNAK DOPPELGANGER', 89), ('PROFESSOR X DOPPELGA', 89), ('BLACK KNIGHT IV DOPP', 89), ('PUCK DOPPELGANGER', 89), ('BLACK WIDOW DOPPELGA', 89), ('NOVA DOPPELGANGER', 89), ('SCALPHUNTER', 89), ('STACY, GWEN', 88), ('DEVLOR', 88), ('TEN FOR', 88), ('PHOBIUS', 88), ('CRUCIBLE/BYRON CALLE', 88), ('VINDICATOR II DOPPEL', 88), ('CONTROLLER/BASIL SAN', 88), ('MAGNETO | MUTANT X-V', 88), ('KRAMER, STACEY', 88), ('BUSHMASTER II/QUINCY', 87), ('HELIO', 87), ('YIN, ANGELA', 87), ('BUTCH', 87), ('ZURAS', 87), ('DAKIMH THE ENCHANTER', 87), ('ALEXANDER, CARRIE', 87), (\"R'TEE\", 87), ('NURO', 87), ('SPUNJE', 87), ('OKOYE', 87), ('FAIRMONT, HANNAH', 86), ('JACKAL/MILES WARREN', 86), ('HINDSIGHT LAD/CARLTO', 86), ('SAGITTARIUS/HARLAN V', 86), ('CHARM', 86), ('TRUTH', 86), ('BEAUTY', 86), ('COLE, WADE', 86), ('ROULETTE II/JENNY ST', 86), ('THOR II/ROGER RED NO', 86), ('NEKRA/ADRIENNE HATRO', 86), ('AQUARIAN/WUNDARR', 86), ('KATZENBERG, NICK', 86), ('MODAM', 86), ('NEWMARK, LOTUS', 86), ('ALRAUNE, MARLENE', 85), ('PSI-LORD/FRANKLIN BE', 85), ('THOMAS, COMMANDER DA', 85), ('SHELLSHOCK/', 85), ('ULYSSES II', 85), ('STUART, BRIG. ALYSAN', 85), ('WAR/ABRAHAM LINCOLN', 85), ('BRAINCHILD', 85), ('BEACH, GINGER', 85), ('BEACH, SPIDER', 85), ('QUEEN DIVINE JUSTICE', 85), ('UMAR', 84), ('UNICORN/MYLOS MASARY', 84), ('CONTEMPLATOR/TATH KI', 84), ('MADCAP', 84), ('WHITEOUT', 84), ('LIVING MONOLITH/AHME', 84), ('CHANG, DR. PHILLIP', 84), ('RADIUS/JARED CORBO', 84), ('TAI II', 84), ('ZCANN', 84), ('HYPERION II', 84), ('WALDO', 84), ('FAYRELYTE STRONGHEAR', 84), ('KREDDICK', 84), ('RAVEN, LT. JACOB', 83), ('ANCIENT ONE', 83), ('LETHA', 83), ('BUZZ', 83), ('ATALANTA', 83), ('DYNA-MITE/ROGER AUBR', 83), ('POWERSURGE/ILLARION', 83), ('KRANG [ATLANTEAN]', 83), ('STERMAN, ANDREA ANDI', 83), ('MENTOR II', 83), ('SHATTERFIST/', 83), ('HERA/AUGUSTINE JONES', 82), ('DARLA', 82), ('BOMBSHELL/', 82), ('GUARDIAN V/JAMES MAC', 82), ('DRACULA | MUTANT X-V', 82), ('SCRAMBLER', 82), ('MECHAMAGE/', 82), ('TRAINER, DR. SEWARD', 81), ('OGRE', 81), ('VALKIN', 81), ('REAPER II', 81), ('BOX/ROGER BOCHS', 81), (\"JACK O'LANTERN II/MA\", 81), ('JETSTREAM/HAROUD IBN', 81), ('OCCULT', 81), ('STONEWALL/LOUIS HAMI', 81), ('FLEX/ADRIAN CORBO', 81), ('GAMBIT | MUTANT X-VE', 81), ('ELEKTRA | MUTANT X-V', 81), ('FIRESTAR DOPPELGANGE', 81), ('MEANY', 81), ('EENY', 81), ('BISON/BILLY KITSON', 81), ('OBLIVION', 80), ('PUFF ADDER', 80), ('BOOMSLANG/', 80), ('BLACK CROW/JESSE BLA', 80), ('CODY, GARY', 80), ('MARVEL GIRL DOPPELGA', 80), ('GATOR, LORD', 80), ('RAM, SIR', 80), ('NIGHTSIDE', 80), ('MACON, ANGELO', 80), ('MALICE III', 80), ('BLACK FOX/ROBERT W.', 80), ('LODESTONE/ANDREA', 80), ('SPIDERCIDE', 79), ('BAYMAX', 79), ('TAKACHIHO, HIRO', 79), ('BLUE SHIELD/JOSEPH J', 79), ('PALERMO, VICTOR', 79), ('DIAMOND, BOB', 79), ('LEWIS, DEVON', 79), ('MISS LOCKE', 79), ('STARK, MORGAN', 79), ('MOONDRAGON DOPPELGAN', 79), ('HOLOCAUST', 79), ('BALDWIN, JUSTIN', 79), ('PHASTOS [ETERNAL]', 79), ('FIELSTEIN, FIREWORKS', 79), ('HOPKINS, STEVE', 79), ('QUASAR II', 79), ('SETH II', 79), ('AVIOS', 79), ('INSHALLAH, KHALID', 79), ('ST. THOMAS, JULES', 79), ('POLARIS | MUTANT X-V', 79), ('COACHWHIP', 78), ('RODGERS, MARIANNE', 78), ('DIAMONDHEAD/DYKER', 78), ('STROBE/', 78), ('PALERMO, HARRIET ROS', 78), ('BARBARUS', 78), ('GAZA', 78), ('IMPULSE', 78), ('CATSEYE/SHARON SMITH', 78), ('LANG, DR. STEVEN', 78), ('GRONK', 78), ('TSURAYABA, MATSUO', 78), ('MURMUR II/ARLETTE TR', 78), ('JONES, JANIS', 78), ('LUPO', 78), ('EFFIGY/LT. VELMAX/JA', 78), ('ROCK PYTHON', 77), ('GREEN GOBLIN IV/PHIL', 77), ('CREED, GRAYDON', 77), ('ARMADILLO/ANTONIO RO', 77), ('GLENN, HEATHER', 77), ('NELSON, CANDACE', 77), ('BONEBREAKER/', 77), ('BLAKE, BECKY', 77), ('BOUDREAUX, BELLA DON', 77), ('FAMINE/AUTUMN ROLFSO', 77), ('FITZROY, TREVOR', 77), ('STEELE, BOBBY', 77), ('JACKSON, ANDREW JOCK', 77), ('COY, GENERAL NGUYEN', 77), ('LELAND, HARRY', 77), (\"ARAKI [SHI'AR]\", 77), ('PIPER', 77), ('MAJOR DOMO', 76), ('MINERVA [KREE]', 76), ('TANA NILE', 76), ('STUNT-MASTER/GEORGE', 76), ('MORDRED THE EVIL', 76), ('GRIFFIN II/JOHNNY HO', 76), ('ROCK/SAMUEL JOHN ROC', 76), ('URSULA, LADY', 76), ('MALEKITH/MALCOLM KEI', 76), ('THRENODY', 76), ('GREY, JEAN | MUTANT', 76), ('TIMBERIUS', 76), ('RICHARDS, REED | MUT', 76), ('HIJACKER', 75), ('RAVONNA LEXUS RENSLA', 75), ('SCORCHER/', 75), ('HAWKEYE DOPPELGANGER', 75), ('FOXBAT', 75), ('SLYDE', 75), ('GOLDDIGGER', 75), ('U-MAN/MERRANO', 74), ('ATLAS', 74), ('RUBY', 74), ('BLACK KNIGHT/SIR PER', 74), ('BLACKOUT/MARCUS DANI', 74), ('ZEDRAO, GENERAL', 74), ('STORM DOPPELGANGER I', 74), ('WHIPLASH II/', 74), ('MANBOT/BERNIE LACHEN', 74), ('ROBERTSON, AMANDA', 74), ('EGGHEAD/PROF. ELIHAS', 73), ('CHANG, IMEI', 73), ('ERWIN, MORLEY', 73), ('CHONDU', 73), ('FUJIKAWA, RUMIKO', 73), ('NANNY II', 73), ('ORPHAN-MAKER/PETER', 73), ('ULTIMUS', 73), ('KRAVEN THE HUNTER II', 73), ('CARNAGE/CLETUS KASAD', 73), ('MOTHER NIGHT/SUSAN S', 73), ('PARIS', 73), ('SLITHER', 73), ('SURTUR', 73), ('PSYCHO-MAN', 73), ('SCARLET WITCH DOPPEL', 73), ('LEAP-FROG/VINCENT PA', 73), ('WHYTE, HARMONY (HARM', 73), ('HERMES [GREEK GOD]', 73), ('SUGAR MAN', 73), ('EXPEDITER II/ZOE CUL', 73), ('MASTER KHAN/TYRONE K', 73), ('RECORDER II', 73), ('RITTER, DONALD', 73), ('RITTER, DEBORAH', 73), ('PARETSKY, DR. GARY', 73), ('MR. JUSTICE/TIMOTHY', 73), ('ZIMMER, ABE', 72), ('WILSON, JIM', 72), ('4-D MAN/MERCURIO', 72), ('HOWARD THE DUCK', 72), ('HUXLEY, DR. ALDA', 72), ('QUASIMODO', 72), ('KAFKA, DR. ASHLEY', 72), ('SOLO/', 72), ('TUSK', 72), ('CALEDONIA/ALISANDE S', 72), ('TYGER, LORD', 72), ('FALLEN | MUTANT X-VE', 72), ('GREMLIN/', 72), ('DREADKNIGHT/BRAM VEL', 72), ('JACKSON, STEVE', 71), ('STACY, PAUL', 71), ('BLACK RACER/', 71), ('PROJECTOR/', 71), ('PURPLE MAN/ZEBEDIAH', 71), ('SHERIDAN, RICHARD RI', 71), ('MOONSTONE/LLOYD BLOC', 71), ('MOONHUNTER/ZACK MOON', 71), ('TAGAR', 71), ('SWORDSMAN II/COTATI', 71), ('CARDIAC/DR. ELI WIRT', 71), ('JOYBOY', 71), ('NIGHTCRAWLER | MUTAN', 71), ('DAN-FARR', 71), ('LIVING LASER/ARTHUR', 70), ('FER DE LANCE/TERESA', 70), ('BLAZE, ROXANNE SIMPS', 70), ('NORRISS, JACK', 70), ('BOWEN, FATHER MICHAE', 70), ('CORD, EDWIN', 70), ('SWANN, DR. EVAN', 70), ('ZALADANE', 70), ('HERMOD [ASGARDIAN]', 70), ('PARALYZER', 70), ('METEORITE', 70), ('HOTSHOT/LOUIS', 70), ('RAYMOND, ANN', 70), ('AIREO/AEOLUS [INHUMA', 70), ('LOCKE, DR. CASSANDRA', 70), ('FLORES, JAMIE', 70), ('OVERMIND/GROM', 69), ('ROTH, ARNIE', 69), ('TITANIUM MAN/BORIS B', 69), ('CHIEF EXAMINER', 69), ('LOOTER/NORTON G. FES', 69), ('JACKSON, CURTISS', 69), ('WEIN, LEN', 69), ('BUSHKIN, BARNEY', 69), ('DORMA [ATLANTEAN]', 69), ('MARVEL GIRL II/VALER', 69), ('ROGERS, GAYLE', 69), ('FARREL, MIKE', 69), ('PENANCE III', 69), ('NALES, DET. REBECCA', 69), ('LLYRON', 69), ('JONES, HUGH', 69), ('STILETTO', 69), ('THERAK', 69), ('ADAMS, NICOLE NIKKI', 69), ('JEMIAH', 69), ('WONDER MAN DOPPELGAN', 69), ('ROGUE | MUTANT X-VER', 69), ('ZARAN/MAXIMILLIAN ZA', 68), ('GEMINI/JOSHUA LINK', 68), ('WOO, JIMMY', 68), ('CORRUPTOR/JACKSON DA', 68), (\"D'KEN [SHI'AR]\", 68), ('AJAX', 68), ('APOLLO [GREEK GOD]', 68), ('NEWELL, DIANE ARLISS', 68), ('MEACHUM, JOY', 68), ('ATHENA [GREEK GOD]', 68), ('RIPTIDE', 68), ('BUSH, GEORGE', 68), ('EDGERTON, GAYLE', 68), ('STAPLES, EDNA M. GRA', 68), ('RINGTOSS', 68), ('BODYBAG', 68), ('THUG', 68), ('CHINA DOLL', 68), ('WAXWORK', 68), ('SCATTERBRAIN', 68), ('FERRO2', 68), ('DOMINA', 68), ('MAN-SPIDER | MUTANT', 68), ('MORGAN', 67), ('GAFF/SIDNEY E. LEVIN', 67), ('RIDER, CHARLES', 67), ('SHATTERAX', 67), ('GOLDEN ARCHER II/WYA', 67), ('BRAIN DRAIN/WERNER S', 67), ('OWL/LELAND OWLSLEY', 67), ('RAHN, TAMARA', 67), ('HECTOR II', 67), ('BRIGHTSWORD/CARTER D', 67), ('GENII/JASON KIMBALL', 67), ('HARVEST/CHI LO', 67), ('KALE, JENNIFER', 67), (\"IRON FIST H'YLTHRI I\", 67), ('FORTUNATO', 67), ('DR. DOOM | MUTANT X-', 67), ('MALICE IV', 66), ('STUNNER/ANGELINA BRA', 66), ('COLLINS, DEMITRIUS', 66), ('ARIES II/GROVER RAYM', 66), ('BI-BEAST II', 66), ('BRUTO THE STRONGMAN/', 66), ('SENYAKA', 66), ('WEAPON X II/GARRISON', 66), ('THOMAS, ROY', 66), ('SATURNYNE, OPAL LUNA', 66), ('TAYLOR, LEILA', 66), ('PSYNAPSE', 66), ('FOOLKILLER II/GREG S', 66), ('MERLIN', 66), ('SUPERIA/WENTWORTH, D', 66), ('THUMBELLINA', 66), ('TIMESLIP/RINA PATEL', 66), ('CARTER, JIMMY', 66), ('AEGIS/TREY ROLLINS', 66), ('RAX', 66), ('COPPERHEAD III/DAVIS', 65), ('BLIZZARD II/DONALD G', 65), ('NELSON, DEBBIE HARRI', 65), ('SONDHEIM, ERICA', 65), ('SILVER SURFER IMPOST', 65), ('KANE, MARCY/KAINA', 65), ('SHINSKI, PROFESSOR W', 65), ('JAILBAIT/JESS', 65), ('WETHERELL, MANOLI', 65), ('MADAME MENACE/SUNSET', 65), ('WOLVERINE | MUTANT X', 65), ('TORK, SGT.', 65), ('MADAME MASQUE III', 65), ('YETI', 65), ('PRETTY BOY', 65), ('WOODGOD', 65), ('MARVEL WOMAN | MUTAN', 65), ('DR. STRANGE | MUTANT', 65), ('STINGRAY | MUTANT X-', 65), ('YELLOWJACKET II | MU', 65), ('RUNNER', 64), ('RIDER, ROBERT ROBBIE', 64), ('SPIDER-MAN III/MARTH', 64), ('BEL-DANN, GEN.', 64), ('MORLAK, MARIS', 64), ('VERMIN, LADY', 64), ('IRON', 64), ('HAFNIUM', 64), ('HELIX/RAFAEL CARAGO', 64), ('BUSHWACKER/CARL', 64), ('STALLIOR', 64), ('OXBOW/', 64), ('MORRELL, SABRINA', 64), ('YAP', 64), ('GATECRASHER', 64), ('NUMBERS', 64), ('CICERO, CAESAR BIG C', 64), ('PRIMUS', 64), ('VAZHIN, ALEXEI MIKHA', 64), ('SUNSTROKE/', 64), ('ICEMASTER/', 64), ('SUPERCHARGER/', 64), ('OVERRIDE/DR. GREGORY', 63), ('TREVANE, DET. CONNOR', 63), ('TOPAZ', 63), ('KOENIG, ERIC', 63), ('OSIRIS', 63), ('SHARD', 63), ('ROGUE DOPPELGANGER', 63), ('RICHARDS, FRANKLIN 2', 63), ('KHORYPHOS [ETERNAL]', 63), ('ANDERSSEN, TANYA', 63), ('FORTUNATO, GIACOMO J', 62), ('FIREBRAND/GARY GILBE', 62), ('RIDER, GLORIA', 62), ('MONGOOSE', 62), ('TEMPO', 62), ('YUKIO', 62), ('EITRI', 62), ('BEETLE II/LEILA DAVI', 62), ('DR. OCTOPUS II/CAROL', 62), ('FIN FANG FOOM/MIDGAR', 62), ('DAMIAN, MARGO', 62), ('MAJOWSKI, SAM MOTHER', 62), ('VAMP', 62), ('VENUS/APHRODITE/VICT', 62), ('ERWIN, CLYTEMNESTRA', 61), ('STACY, CAPT. GEORGE', 61), ('SATANNISH', 61), ('MISS AMERICA/MADELIN', 61), ('REPTYL', 61), ('ASTROVIK, NORMA', 61), ('SPOOR/ANDREW HAMISH', 61), ('MALUS, DR. KARL', 61), ('NAGAN, DR. ARTHUR', 61), ('MORGAN, JERROLD JERR', 61), ('ZEMO/BARON HEINRICH', 61), ('SPACE PHANTOM', 61), ('GAUNT/MENDEL STROMM', 61), ('KORATH THE PURSUER', 61), ('RAMBO', 61), ('WILFORD, ELISABETH B', 61), ('BLOCKBUSTER III/MICH', 61), ('ANGEL DOPPELGANGER', 61), ('INVISIBLE WOMAN DOPP', 61), ('DELILAH', 61), ('RASPUTIN, MIKHAIL', 61), ('KING, HANNIBAL/HENRY', 61), ('QUICKSILVER | MUTANT', 61), ('HAWKSHAW', 60), ('BLESSING, MORGANA', 60), ('BARON BLOOD/JOHN FAL', 60), ('PLUNDER, ADAM KYLE M', 60), ('LACOSTE, RAE', 60), ('HAYWIRE/', 60), ('BLACK KNIGHT V STATU', 60), ('IMPALA/', 60), ('ANTHROMORPHO', 60), ('FATH', 60), ('FISK, VANESSA', 60), ('RANDOM II/MARSHALL E', 60), ('NAZE', 60), ('CADMIUM', 60), ('DAMIAN, DR. DANIEL', 60), ('BLACK TARANTULA II/C', 60), ('COCKRUM, DAVE', 60), ('MICROMAX/SCOTT WRIGH', 60), ('IRON CROSS/HELMUT GR', 60), ('APE/', 60), (\"W'KABI\", 60), ('HARGEN', 60), ('SASQUATCH II', 60), ('HULK | MUTANT X-VERS', 60), ('BEYONDER | MUTANT X-', 60), ('DOLLAR BILL', 59), ('BLADE', 59), ('BROWN, LAURA', 59), ('FRIDAY', 59), ('FLAG-SMASHER', 59), ('ALVAREZ, FELIX', 59), ('BAMBI', 59), ('EMPATH/MANUEL ALFONS', 59), ('TYR', 59), ('ACHILLES II/HELMUT', 59), ('SMITH, MARTY LOUIS L', 59), ('QUILL', 59), ('COURIER/JACOB GAVIN', 59), ('DORREK [SKRULL]', 59), ('CAPTAIN ULTRA/GRIFFI', 59), ('ST. LAWRENCE, COL. C', 59), ('ICEMAN DOPPELGANGER', 59), ('SILVER SURFER DOPPEL', 59), ('DRAX DOPPELGANGER', 59), ('TYGER TIGER/JESSAN H', 59), ('FREE SPIRIT/CATHY WE', 59), ('MARILLA [INHUMAN]', 59), ('PLAGUE', 59), ('ERG', 59), ('BLOOD WRAITH/SEAN DO', 59), ('CHAMPION/TRYCO SLATT', 59), ('KYLUN/COLIN MCKAY', 59), ('SCARLET CENTURION', 59), ('BATTLEAXE/', 59), ('PROFESSOR POWER/ANTH', 58), ('AURIC/', 58), ('TITANIA/', 58), ('MAGIC', 58), ('TOM THUMB/THOMAS THO', 58), ('JONES, BART', 58), ('PUDDLEGULP', 58), ('ASHEMA [CELESTIAL]', 58), ('TANAKA, OPAL', 58), ('MONGRAIN, ALISON', 58), ('BLOODLUST', 58), ('BROWN, MINDY MCPHERS', 58), ('JACK FLAG/', 58), ('STELLARIS/LEAH PRINC', 58), ('FONTANELLE/GLORIA DA', 58), ('KINGO SUNEN [ETERNAL', 58), ('GAIA', 58), ('ADORA', 58), (\"KILLMONGER, ERIC/N'J\", 58), ('MARVEL BOY VI', 58), ('STOCKBRIDGE, DEANNA', 58), ('SOFEN, MARION', 58), ('SOFEN, KARL AUGUST', 58), ('STOCKBRIDGE, CHARLES', 58), ('STARR, TRIXIE TRISH', 57), ('DELPHI', 57), ('HILDEGARDE [ASGARDIA', 57), ('RAMBEAU, MARIA', 57), ('GARDENER/ORD ZYONYZ', 57), ('FATALE/PAMELA GREENW', 57), ('HIGGINS, SAMUEL', 57), ('DELPHIS, SIR', 57), ('GROWING MAN', 57), ('ZOTA, CARLO', 57), ('PINK PEARL/', 57), ('BIG BERTHA/ASHLEY CR', 57), ('NEREEL', 57), ('UROC', 57), ('SPROCKET', 57), ('MILAN', 57), ('NIGHTINGALE/', 57), ('SUB-MARINER | MUTANT', 57), ('UNION JACK II/BRIAN', 56), ('MARTINELLI, VINCENT', 56), ('NOBILUS', 56), ('BLIZZARD/PROF. GREGO', 56), ('CANDY', 56), ('RANDI', 56), ('CHAMPION, IMUS', 56), ('KRUMA, TALIA', 56), ('NEUTRON', 56), ('AGAMEMNON III/', 56), ('FEROCIA/', 56), ('ROSSI, COL. MICHAEL', 56), ('FREEMAN, DEREK', 56), ('MASTER MAN/WILHELM L', 56), ('YASHIDA, MARIKO | MU', 56), ('RAVEN | MUTANT X-VER', 56), ('MR. JIP', 56), ('JOYCE, SAMANTHA', 56), ('CRIPPLER/KARL STRIKL', 56), ('ALBERT', 56), ('ELSIE DEE', 56), ('FANG II', 56), ('LOCKLIN, GENERAL MER', 56), ('MINDBLAST', 56), ('KNOCKOUT', 56), ('STACY, GWEN (CLONE)', 55), ('SLOAN, DR.', 55), ('HORTON, PROFESSOR PH', 55), ('STATIC', 55), ('DRAGONESS', 55), ('MIDGARD SERPENT', 55), (\"N'DELE\", 55), ('MUTAURUS', 55), ('GULLIN', 55), ('ANGLER', 55), ('AMPHIBIAN/KINGLEY RI', 55), ('VINDALOO/', 55), ('KATH', 55), ('NEOPHYTE/', 55), ('MELLENCAMP', 55), ('MAXWELL, DR. WILFRED', 55), ('LEIR', 55), (\"TATSU'O\", 55), ('SILVER SCORPION/ELIS', 55), ('KILLER SHRIKE/SIMON', 55), ('CONNORS, MARTHA', 55), ('LEONUS/LIONUS [INHUM', 55), ('TARBABY', 55), ('WIZ KID/TAKESHI MATS', 55), ('TREMONT, JONATHAN', 55), ('PRODIGAL/', 55), ('IONELLO, JASON', 54), ('MAYHEM/DET. BRIGID O', 54), ('SATAN/MARDU KURIOS', 54), ('LOVE', 54), ('HATE', 54), ('KAMIKAZE', 54), ('QUAGMIRE', 54), ('HRIMHARI', 54), ('CALCULUS/JAHAHAREL P', 54), ('BUCKY VII/RIKKI BARN', 54), ('ROYCE, JENNIE', 54), ('PUPPY', 54), ('AHURA', 54), ('CONNORS, BILLY', 54), ('JOSHUA, DR. SEGISMUN', 54), ('NORTH, DAKOTA', 54), ('HOUND', 54), ('TOLLIVER', 54), ('LORELEI', 54), ('BLACKOUT II/', 54), ('STORM DOPPELGANGER', 54), ('TECH-NOIR/', 54), ('BILE/', 54), ('STRONGARM/', 54), ('MISS MASS/', 54), ('FIREBUG/', 54), ('SINEW/', 54), ('CLARK, SARAH', 53), ('CLARK, JOHN', 53), ('SILVER', 53), ('CERA, KAY', 53), ('CAPTAIN HAWK', 53), ('SIGYN', 53), ('MANDRILL/HENSLEY FAR', 53), ('GUNTHAR II', 53), ('BLITZIANA', 53), ('CHANCE II/NICHOLAS P', 53), ('JINKU', 53), ('RICHARDS, FRANKLINK', 53), ('MONDO II', 53), ('BLAIRE, CARTER', 53), ('RED GUARDIAN II/ALEX', 53), ('MANH, COY LEONG XUI', 53), ('MANH, COY NGA', 53), ('MAGUS II', 53), ('ISHIMA, DAVID', 53), ('JONES, TAMMY ANNE', 52), ('JONES, LORRAINE LORR', 52), ('JONES, DANIEL DANNY', 52), ('NEVILLE, KATE', 52), ('PEARSON, MARCY', 52), ('PLUNDERER/LORD EDGAR', 52), ('RAMBEAU, FRANK', 52), ('MARTHA', 52), ('MANTA', 52), ('SCRATCH, NICHOLAS', 52), ('MOLTEN MAN/MARK RAXT', 52), ('X-CUTIONER/CARL DENT', 52), ('MAVERICK/CHRISTOPHER', 52), ('KRAMER, KENNY', 52), ('ARCADIUS', 52), ('PRISM', 52), ('AVIA', 52), ('LEBEAU, JEAN-LUC', 52), ('CASSADA, ROSA', 52), ('STEEL WIND', 52), ('DAREDEVIL | MUTANT X', 52), ('HOCHBERG, ROGER', 51), ('BROMWELL, DR.', 51), ('TWO-GUN KID', 51), ('JAYE-FIRESTONE, GING', 51), ('URICH, DORIS', 51), ('SLOAN, FRED', 51), ('JACKSON, CELIA', 51), ('BADALAMENTE, JESUS', 51), ('MAGNUS', 51), ('HESCAMAR/MARNOT [ASG', 51), ('YRDISIS', 51), ('SOLARR', 51), ('CAPTAIN HIP/FRED MAC', 51), ('EDGERTON, MR.', 51), ('CHEN', 51), ('SCORPIO/JAKE FURY', 51), ('CYCLONE', 51), ('ION/', 51), ('CARPENTER, LARRY', 50), ('MOREAU, DAVID', 50), ('CAPRICORN/WILLARD WE', 50), ('BRICKMAN, SEN. MILES', 50), ('EGO-PRIME', 50), ('SWITZLER, BEVERLY', 50), ('GROTESK', 50), ('HALE, JONAS', 50), ('WILFORD, BONNIE', 50), ('THUNDERBIRD/JOHN PRO', 50), (\"WILL O' THE WISP/JAC\", 50), ('TYRAK', 50), ('VERMIN/EDWARD WHELAN', 50), ('ZIRCONIUM', 50), ('GHOST GIRL II/LILLI', 50), ('DOMO', 50), ('GREENSONG', 50), ('DRAKE, WILLIAM ROBER', 50), ('GLABOO', 50), ('EELAK', 50), ('ATOR, GENERAL', 50), ('MARGOYLE', 50), ('ROOTAR', 50), ('PULSSUS', 50), ('BEAUTIFUL DREAMER', 50), ('REIGNFIRE/', 50), ('RINGER/ANTHONY TONY', 50), ('ADVERSARY', 50), ('WHITE WOLF/HUNTER', 50), ('MIDGET', 50), ('KINGSLEY, DANIEL', 49), ('DELGADO, FATHER', 49), ('FAIRMONT, AMANDA MAN', 49), ('BOUNTY II', 49), ('BIG MAN/FREDERICK FO', 49), ('LIVEWIRE/RANCE PREST', 49), ('STARK, HOWARD', 49), ('RORY, RICHARD', 49), ('APE MAN/GORDON MONK', 49), ('ANAK', 49), ('RAMPAGE/STUART CLARK', 49), ('CYBER', 49), ('YMIR', 49), ('THAKOS', 49), ('MUTO, JUNZO', 49), ('CHESBRO', 49), ('DA COSTA, EMMANUEL', 49), ('ENFORCER/DELAZNY', 49), ('DISCUS', 49), ('POWELL, GRACE', 49), ('TICKTOCK', 49), ('ADAMS, CINDY', 49), ('POWELL, JONATHAN', 49), ('PYLLAR', 49), ('MROTH', 49), ('LEVIN, MAJOR DEBRA', 49), ('EL JAGUAR', 49), ('SPHINX II', 49), ('SVAROG', 49), ('ITZAMNA', 49), ('TEZCATLIPOCA', 49), ('MANITOU', 49), ('NUADA', 49), ('MCKEEVER, TINY', 48), ('RED RAVEN', 48), ('TAURUS/CORNELIUS VAN', 48), ('FANCY DAN', 48), ('MONTANA', 48), ('KALA', 48), ('FLY', 48), ('MACINTOSH, ANN', 48), ('BROWN, ABE', 48), ('GREEN GOBLIN V/', 48), ('STRANG, COL./LT. GAR', 48), ('CAESAR, JONATHAN', 48), ('MADAME WEB/CASSANDRA', 48), ('PEREZ, GEORGE', 48), ('EUROPIUM', 48), ('BERYLLIUM', 48), ('KHANDRUVITCH, DR. VA', 48), ('HUXLEY, DR. HORATIO', 48), ('MARRS, DESMOND', 48), ('CONSUELA', 48), ('MARRERO, ED', 48), ('SHELDON, PHIL', 48), ('TURBO II (B)/MIKE JE', 48), ('MATHEMANIC/THOMAS SO', 48), ('LOBO, EDUARDO', 48), ('GENESIS/TYLER DAYSPR', 48), ('KAMO THARNN', 48), ('WINTHROP, DESIREE', 48), ('DOLAN, STACY', 48), ('SPRAGG', 48), ('MARTIN, ASHLEY', 48), ('HEMINGWAY', 48), ('POWELL, JASON', 48), ('ANNALEE', 48), ('CHURCHILL, LORD', 48), ('WORM', 48), ('MOON KNIGHT | MUTANT', 48), ('DRAX | MUTANT X-VERS', 48), ('VOLSTAGG | MUTANT X-', 48), ('FIN FANG FOOM | MUTA', 48), ('NAMORITA | MUTANT X-', 48), ('HOGUN | MUTANT X-VER', 48), ('DEVIL DINOSAUR | MUT', 48), ('VALKYRIE II | MUTANT', 48), ('BROTHER VOODOO | MUT', 48), ('THOR | MUTANT X-VERS', 48), ('IRON FIST | MUTANT X', 48), ('ABSORBING MAN | MUTA', 48), ('ABOMINATION | MUTANT', 48), ('BLACK PANTHER | MUTA', 48), ('POWER MAN II | MUTAN', 48), ('DR. OCTOPUS | MUTANT', 48), ('STRONG GUY | MUTANT', 48), ('GARGOYLE | MUTANT X-', 48), ('BETA RAY BILL | MUTA', 48), ('NOVA | MUTANT X-VERS', 48), ('FANDRAL | MUTANT X-V', 48), ('GARVIN, GEARS', 47), ('WIPEOUT', 47), ('FREDERICKS, GENERAL', 47), ('HULK III/BRUCE BANNE', 47), ('SOPHIE', 47), ('SENTRY 459', 47), ('BYRRAH [ATLANTEAN]', 47), ('RAKSOR [SKRULL]', 47), ('FERRIS', 47), (\"M'DAKA\", 47), ('SLAB/KRIS ANDERSON', 47), ('KINCAID, JIMMY', 47), ('PROTEUS II', 47), ('BAILEY, SARA GREY', 47), ('FIREWALL/THEARY/MIN', 47), ('VESSEL', 47), ('LOCKE, DR. ALEXANDER', 47), ('BENGAL/', 47), ('WILD CHILD DOPPELGAN', 47), ('AURORA DOPPELGANGER', 47), ('JONES, NELL', 46), ('TRAVELLER, DR. JUDAS', 46), ('SHADOWCAT 2013', 46), ('MACKENZIE, AL', 46), ('NEBULON', 46), ('GAROKK', 46), ('CRIMSON DYNAMO III/A', 46), ('SCREAM', 46), ('SMUGGLER II/CONRAD J', 46), ('METEORITE III/VALERI', 46), ('POTTER, BETSY BEATTY', 46), ('TEMPLE, CLAIRE', 46), ('WARRIOR WOMAN/JULIA', 46), ('HEYWERTH, GENERAL', 46), ('LADY OF THE LAKE', 46), ('ORIKAL', 46), ('DEATHLOK/COLONEL LUT', 46), ('NIELS', 46), ('BEEFER', 46), ('DIRT NAP', 46), ('SLEDGE', 46), ('NOCTURNE/', 46), ('TANTE MATTIE', 46), ('TOPSPIN/DARREN MITCH', 46), ('GOLDFIRE/AMEIKO SABU', 46), ('JAHF', 46), ('MARTIN, TERI', 46), ('HIBBERT, HOPE', 46), ('AIRBORNE/', 46), ('FIREFIGHT/', 46), ('SMOKESCREEN/', 46), ('BOOBYTRAP/', 46), ('SILVANI, VITTORIO', 46), ('ROCKETLAUNCHER/', 46), ('ACHEBE, REVEREND DOC', 46), ('DRUIG', 46), ('HADDOCK, DR. MYRA', 46), ('SUPREMOR', 46), ('TERRAXIA', 46), ('CARNIVORE/COUNT ANDR', 45), ('SPYMASTER/JAKE JORDA', 45), ('PERRIKUS', 45), ('BARNACLE/', 45), ('DARE, KATHLEEN', 45), ('HAROKIN [ASGARDIAN]', 45), ('ARAKI II', 45), ('AURA/ANN HERD', 45), ('WARTON/WARBECK', 45), ('RIGER', 45), ('SHORR, JACQUELINE', 45), ('EIGHTBALL', 45), ('TATTERDEMALION/', 45), ('BIRD MAN III/', 45), ('TALBOT, MAJ. MATT', 45), ('ROUST', 45), ('CUT', 45), ('ADMIRAL PROTOCOL/', 45), ('TOWER', 45), ('HUNCH', 45), ('MARX', 45), ('WILKS, SHANTAL', 45), ('CHANGELING', 45), ('HARD BOILED HENWY', 45), ('KID REAPER', 45), ('ANTRO', 45), ('ARACHNE', 45), ('WU, LEIKO', 44), ('UNION JACK/LORD MONT', 44), ('VOLLA', 44), ('OMEGA II', 44), ('SET', 44), ('RIVERA, DR. JASON', 44), ('GLOM', 44), ('BELASCO', 44), ('SLUG/ULYSSES X. LUGM', 44), ('MCCOY, EDNA ANDREWS', 44), ('CARLISLE, PHILLIP', 44), ('LOGA II', 44), ('LUMINOR', 44), ('BENTLEY, VICTORIA', 44), ('OMNIBUS/LT. DALLAS', 44), ('DORMA II [ATLANTEAN]', 44), ('CHANEY, AMANDA', 44), ('ZON', 44), ('DRAKE, FRANKLIN', 44), ('TERMINUS', 44), ('ALEXANDER, CALEB', 44), ('MEACHUM, WARD', 44), ('AGINAR', 44), ('HIROMITSU', 44), ('ST. CROIX, NICOLE', 44), ('ST. CROIX, CLAUDETTE', 44), ('DUNHAM, LAURA', 44), ('MIDAS', 44), ('MUNIN', 44), ('HUGIN', 44), ('FLATIRON/RUSSELL', 44), ('CRAIG, REV.', 44), ('SKULLBUSTER', 44), ('IRON MAIDEN/', 44), ('ICE PRINCESS/', 44), ('MYSTERIA/', 44), ('WRANGLER/', 44), ('SNAPDRAGON/SHEOKE SA', 44), ('CLOUD', 43), ('WARD, SEN. STEWART', 43), ('BLOODSTONE/ULYSSES B', 43), ('VYREK', 43), ('KOFI [KYMELLIAN]', 43), ('CHAMBERS, MR.', 43), ('PROMETHEUS II', 43), ('SMYTHE, ALISTAIR ALP', 43), ('SCRIER II/', 43), ('MAN-MOUNTAIN MARKO', 43), ('BUCKY II/FRED DAVIS', 43), ('FANTASMA', 43), ('STINGER III/', 43), ('CYBELE [ETERNAL]', 43), ('HOLDEN, DR. SAMUEL', 43), ('D.O.A.', 43), ('BLACKHEART', 43), ('HARDCASE/HAROLD HARR', 43), ('BYRNE, JOHN', 43), ('TAGAK', 43), ('FIREBRAND II/BROXTEL', 43), ('GRIS-GRIS', 43), ('NEBULO', 43), ('CYLLA II', 43), ('CYNAS', 43), ('SAPPHIRAS', 43), ('FURGAR', 43), ('TARGON', 43), ('STYGIAN STARBENDER', 43), ('RASPUTINA, ILLYANA I', 43), ('FU MANCHU', 42), ('VIRGO/ELAINE MCLAUGH', 42), ('CANCER/JACK KLEVENO', 42), ('STANE, OBADIAH', 42), ('FERRARI, CONNIE', 42), ('BYRD, SEN. HARRINGTO', 42), ('MOTHER SUPERIOR', 42), ('GRIZZLY II/THEODORE', 42), ('KULAN GATH', 42), ('SUN, LIN', 42), ('HARRIS, EDDIE', 42), ('CARRADINE, JESSICA J', 42), ('VAGABOND/PRISCILLA L', 42), ('JENNINGS, JOSEPH', 42), ('JADE DRAGON/DEI GUAN', 42), ('WITNESS/NESS', 42), ('ZEFRA', 42), ('TONGAH', 42), ('SETH', 42), ('BANSHEE II', 42), ('CAT MAN/HORGAN', 42), ('BIRD MAN/HENRY HAWK', 42), ('AUGUST PERSONAGE IN', 42), ('CEREBRO | MUTANT-X V', 42), ('DESIGNATE/TARENE', 42), ('MASTER PANDEMONIUM/M', 42), ('HARNESS/ERIKA BENSON', 42), ('PIECEMEAL/GILBERT BE', 42), ('JONIN', 42), ('DECAY/', 42), (\"O'NEILL, DET. BRADY\", 42), ('GEIRRODUR', 42), ('BLOODSCREAM', 42), ('SAUL', 42), ('MAXIMOFF, DJANGO', 42), ('CAPTAIN AMERICA IV/S', 42), ('CASSADA, CARLOS', 42), ('SAROYAN, NEAL', 42), ('LORD TEMPLAR/', 42), ('PUNCHOUT', 41), ('CRAWLEY, BETRAND', 41), ('CERBERUS', 41), ('KUKULCAN/VIRAKO/QUET', 41), ('LEO/DANIEL RADFORD', 41), ('PISCES/NOAH PERRICON', 41), ('CARINA/CARINA WALTER', 41), ('GRANT, SILAS', 41), ('PARKER, BEN', 41), ('QUINN, PAMELA', 41), ('HYDRON', 41), ('VAKUME', 41), ('THORNN', 41), ('BRUTACUS', 41), ('VERTIGO', 41), ('REPTILLA', 41), ('GOG', 41), ('BLAKE, DR. DONALD (C', 41), ('CUTTHROAT/DANIEL LEI', 41), ('RAPIER', 41), ('EL TORO NEGRO/SERGIO', 41), ('MR. NACHT', 41), ('RALF', 41), ('PROFESSOR X | MUTANT', 41), ('KRAKEN', 41), ('EVERY-MAN', 41), ('PRESTER JOHN', 41), ('AQUARIUS/DARREN BENT', 41), ('TOBIAS', 41), ('MALACHI', 41), ('ABSALOM', 41), ('PERUN', 41), ('LOCUS', 41), ('ENRAGED', 41), ('BLACKBALL', 41), ('ETERNAL BRAIN/PROFES', 41), ('SUNSHINE/AUTUMN MACR', 41), ('CENTURY, TURNER D.', 41), ('AXE/', 41), ('BALE, EMERSON', 41), ('CASSADA, ROBERTO', 41), ('CASSADA, MICHAEL', 41), ('THERA', 41), ('FERON', 41), ('MCKENZIE, LYDIA', 41), ('BLACKBIRD/', 41), ('AGAMOTTO', 40), ('TARANTULA/ANTON MIGU', 40), ('SHALLA BAL II', 40), ('DEATH-STALKER', 40), ('STAR-STALKER', 40), ('WILLIAMS, MINDY', 40), ('FRANKENSTEIN MONSTER', 40), ('BORA', 40), ('BLACK FOX II/', 40), ('NETWORK NINA', 40), ('ALDEN, PROF. MEREDIT', 40), ('TURK', 40), ('CARRION II/MALCOLM M', 40), ('VALKYRIE IV', 40), ('JONES, SANDY', 40), ('TWAKI, DR. TED', 40), ('OGRESS/', 40), ('WEBSTER, NORM', 40), ('MARTINEZ, ISADORA', 40), ('GARGOUILLE/', 40), ('DUBOIS, NOAH', 40), ('PATCH II', 40), ('CORONARY/JIMMY SHARP', 40), ('IMPULSE II/DWIGHT HU', 40), ('PRETTY PERSUASIONS/H', 40), ('CHANDRA, DR.', 40), (\"EMPRESS R'KILL [SKRU\", 40), ('FROST, ADRIENNE', 40), ('LEFT HAND/DIEGO CASS', 40), ('RAPUNZEL', 40), ('KETCH, DORIS AUDRA', 40), ('FROG MAN/FROG LE BLA', 40), ('STURDY, PROF. KENNET', 40), ('DIGGER', 40), ('MODT', 40), ('PIROUETTE/JOBETH', 40), ('SCHOOLCRAFT, DR. DEN', 40), ('STORM, CHILI', 40), ('SPAULDING, PETER', 39), ('KWAN, TERRY', 39), ('CASE, COL. PRESTON', 39), (\"D'ANGELO, LIEUTENANT\", 39), ('RUNCITER, GAIL', 39), ('REM-RAM/', 39), ('COOPER, ROGER CAPS', 39), ('WOLVERINE 2013', 39), ('COLOSSUS 2013', 39), ('CITIZEN V/JOHN WATKI', 39), ('MAGNUM, MOSES', 39), ('CHEETAH', 39), (\"K'RK [SHI'AR]\", 39), ('CAT III/SHEN KUEI', 39), ('MANELLI, DINO', 39), ('SHINCHUKO, LOTUS', 39), ('HAUPTMANN DEUTSCHLAN', 39), ('MAJCOMB, RENEE', 39), ('BAXTER, NOAH', 39), ('HIGHNOTE/RAOUL HERNA', 39), ('DAYDREAMER/CATHERINE', 39), ('SPLICE/CHANDRA KU', 39), ('VARUA/MIRA', 39), ('MOONSTALKER/KIANA', 39), ('CADUCEUS', 39), ('MANGOG', 39), ('EDWARDS, MARTIN/DR.', 39), ('BELLAM', 39), ('DEMONICUS/DR. DOUGLA', 39), ('DEATHWATCH/STEPHAN L', 39), ('BEETLE ROBOT', 39), ('DOUGHBOY', 39), (\"O'BREEN, GLORIANNA\", 39), ('JEFFRIES, DR.', 39), ('KANGAROO II/', 39), ('CONQUEST/BRIDGET MAL', 39), ('BANKS, SHARON', 39), ('AUTHIER, POLICE CHIE', 39), ('CHASIN, MAJOR', 39), ('ROUGHHOUSE', 39), (\"CH'THON\", 39), ('MAHA YOGI', 39), ('DR. SPECTRUM II/DR.', 39), ('PROSH', 39), ('CONAN, NEAL', 39), ('CAPTAIN U.K./LINDA M', 39), ('OMEGA-20/EUGENE', 39), ('PREYY', 39), ('SOLE, RANSOME', 39), ('BIG CASINO/', 39), ('GRAPPLER', 39), ('NEEDLE', 39), ('MARTINEZ, ALITHA', 39), ('LAMY, KELLY', 39), ('PALMIOTTI, JIMMY', 39), ('DAKESIAN, NANCI', 39), ('QUESADA, JOE', 39), ('SMITH, KEVIN', 39), ('EVERETT, BILL', 39), ('QUINN, ASHLEY', 39), ('MILLER, FRANK', 39), ('MANOLIS, LT. NICK', 38), ('BARON BLOOD II/VICTO', 38), ('MAJESTON ZELIA', 38), ('ADVA', 38), ('OX', 38), ('UNI-LORD', 38), ('MINDWAVE', 38), ('HOWARD, PROFESSOR MA', 38), ('TODD, FISHER', 38), ('GAZELLE', 38), ('SUMO', 38), ('DRUID/DREDMUND CROMW', 38), ('PUENTES, DONNA MARIA', 38), ('MAINFRAME II', 38), ('NIGHT RIDER III/HAMI', 38), ('INDIUM', 38), ('DISPROSIUM', 38), ('ARSENIC', 38), ('COBALT', 38), ('ERBIUM', 38), ('BARIUM', 38), ('THALLIUM', 38), ('SODIUM', 38), ('CARBON', 38), ('PHOSPHORUS', 38), ('SCANDIUM', 38), ('CHLORINE', 38), ('DECAY II/YOSHIRO HAC', 38), ('ALFY', 38), ('JOHNSON, ANNA', 38), ('GENERAL OBSIDIAN', 38), ('REDEEMER/CRAIG SAUND', 38), ('MANTIS (SPACE PHANTO', 38), ('TAKU', 38), ('DURAN, CONAL', 38), ('LOCKLIN, BEN', 38), ('NECRODAMUS', 38), ('DEMON BEAR', 38), ('NAMORA/AQUARIA NAUTI', 38), ('BLACK TALON II/SAMUE', 38), ('MAXOV', 38), ('LEBEAU, JACQUE', 38), ('MERLYN', 38), ('CHALMERS, JUDGE ROBE', 38), ('BAZIN, ALLEGRA', 38), ('ULTIMO', 38), ('BUCKY VI/', 38), ('ALCHEMY/THOMAS JONES', 38), ('HELLRAZOR', 38), ('JANES, FATHER MICHAE', 38), ('VIRGO II', 38), ('ALVAREZ, PAUL', 38), ('SILVER II', 38), ('PLUTONIUM', 38), ('CALIFORNIUM', 38), ('RADIUM', 38), ('GOLD', 38), ('NEPTUNIUM', 38), ('CESIUM', 38), ('URANIUM', 38), ('CALDRONE, JAVIER', 37), ('KUBIK', 37), ('BYRNES, GAYLE WATSON', 37), ('CAPUTO, DR. JULIA', 37), ('ZELDA', 37), ('PRENTISS, BETTY DEAN', 37), ('JAKAR', 37), ('ORB', 37), ('GALEN KOR, ADMIRAL [', 37), ('CALYPSO', 37), ('MALPHER, KATHY', 37), ('MURDOCK, SISTER MAGG', 37), ('JONES, LOUISE', 37), ('ROMMEL, EDWIN ROMULU', 37), ('LUMPKIN, WILHEMINA B', 37), ('CABER', 37), ('FUNARO, DONNA', 37), ('GENTRY', 37), ('LEI KUNG, THE THUNDE', 37), ('STEEL SERPENT', 37), ('BLIND AL/ALTHEA', 37), ('MONTGOMERY', 37), ('NEFFETHESK', 37), ('BLACK KNIGHT III/EOB', 37), ('BEDLAM II/OLISA KABA', 37), ('DREAMING CELESTIAL/T', 37), ('RISQUE/GLORIA', 37), ('TERRAFORMER/SAM', 37), ('FIREFALL II', 37), ('TEMPUS', 37), ('DADDY LONGLEGS/RAMSE', 37), ('NESTOR', 37), ('RAMONDA', 37), ('POWELL', 37), ('DRAGONBLOOD, ULYSSES', 37), ('LUNATIK/ARISEN TYRK', 37), ('HARRIGAN, PATRICIA P', 37), ('GILLISPIE, ANDREW AN', 37), ('AGEE, DR. AUBREY', 37), ('CLEMSON, MIKE', 36), ('MACHETE/FERDINAND LO', 36), ('RAMIREZ, JAVIER', 36), ('KRAKOA', 36), ('SISTER PLEASURE/SCAR', 36), ('POWERHOUSE/RIEG DAVA', 36), (\"LILITH/ANGEL O'HARA/\", 36), ('NIXON, RICHARD', 36), ('RALSTON, SENATOR ROB', 36), ('SHOOTER, JIM', 36), ('ARIEL II', 36), ('JOHNSMEYER, JAMES', 36), ('SENTRY III', 36), ('RAMSHOT/', 36), ('BOMBLAST/', 36), ('WYSPER/MS. STEWART', 36), ('FIREARM/', 36), ('TEMPEST II/NICOLETTE', 36), ('INFERNO III/SAMANTHA', 36), ('HEALER', 36), ('BUG', 36), ('MARIONETTE/MARI', 36), ('RANN, COMMANDER ARCT', 36), ('MADAME QWA', 36), ('BENEDICT', 36), ('GOSAMYR', 36), ('GROVEL', 36), ('HORUS [EGYPTIAN GOD]', 36), ('WENDIGO III/FRANCOIS', 36), ('THANE ECTOR', 36), ('FOOL', 36), ('SYBYL DORN', 36), ('PLANNER', 36), ('SINGER', 36), ('FIFOLET', 36), ('HELLEN', 36), ('STANCHEK, DR.', 36), ('COLON, CHERYL', 36), ('WOLFE, HEDY', 36), ('ANTEUS', 36), ('VOGE, TULLAMORE', 36), ('MINISTER BLOOD', 36), ('VON STRUCKER, WERNER', 36), ('PORCAL', 36), ('PENNYWORTH, J.C.', 36), ('GHOST', 35), ('GUDRUN [ASGARDIAN]', 35), ('JACK FROST/', 35), ('BLUE DIAMOND/PROFESS', 35), ('ARIZE', 35), (\"EMPRESS S'BYLL [SKRU\", 35), ('MACLAIN, DR. MYRON', 35), ('SISTER AGONY', 35), ('DARK COUNSEL/VARTU', 35), ('BAKER, ANNE-MARIE', 35), ('DRAKE, CARLTON', 35), ('CORD, JANICE', 35), ('RED WOLF/WILDRUN', 35), ('SPYMASTER II', 35), ('MASTERS, DR. AUGUST', 35), ('KAMAL', 35), ('TOMAZOOMA', 35), ('DORNOVA-BLONSKY, NAD', 35), ('MOONRAKER/SLADE TRUM', 35), ('STANACHEK, FREDDIE', 35), ('GRAY, CHARLES', 35), ('MOUNTJOY', 35), ('HATE-MONGER/ADOLF HI', 35), ('HURRICANE III', 35), ('BARRAGE', 35), ('CONKLIN, CAPT.', 35), ('KILLRAVEN/JONATHAN R', 35), ('ASTROVIK, ARNOLD', 35), ('BLOODSTRIKE/ERIC CON', 35), ('MAKO', 35), ('TEMPLAR/IAN FITZWILL', 35), ('FIREBALLS/JACK FARLE', 35), ('LEBEAU, MERCY', 35), ('LAPIN, EMIL', 35), ('QUESTA', 35), ('TARANTULA II/CAPT. L', 35), (\"D'AURIA, JACK\", 35), ('PHANTAZIA/', 35), ('NEMESIS', 35), ('ZARIN', 35), ('HULK ROBOT', 35), ('STONECUTTER/UTAMA TO', 35), ('STEEPLEJACK II/MAXWE', 35), ('FURY, NICK | MUTANT', 35), ('TAURUS II/', 35), ('FROG-MAN II/EUGENE P', 34), ('JOSEPH, SHEVA', 34), ('SUNDOWN/DR. DAVE LOW', 34), ('BLACKBODY', 34), ('STORM 2013', 34), ('BOGGS, MORDECAI P.', 34), ('MAGUIRE', 34), ('GIBBON/MARTIN BLANK', 34), ('GRIZZLY/MAXWELL MARK', 34), ('ARIES/MARCUS LASSITE', 34), ('LEFT-WINGER/HECTOR L', 34), ('RIGHT-WINGER/JEROME', 34), ('ASTRA II', 34), ('SAT-YR-9', 34), ('RAZORBACK/', 34), ('BERNSTEIN, DR. NOAH', 34), ('RAMROD II', 34), ('KID COLT', 34), ('AVRIL, SALLY', 34), ('BANTAM/', 34), ('RAZORFIST III', 34), ('NEPTUNE [OLYMPIAN]', 34), ('IRIDIA [INHUMAN]', 34), ('BERGIER, REBECCA', 34), ('CRIMEBUSTER/FRANK MO', 34), ('ENRAKT', 34), ('GILBERT, ROXANNE', 34), ('AREX', 34), ('TESS-ONE', 34), ('STALYENKO, COL. YURI', 34), ('CYANIDE JANE', 34), (\"M'SHULLA\", 34), ('MAELEN', 34), ('KLIGGER/SEN. EUGENE', 34), (\"MIDNIGHT'S FIRE/\", 34), ('GADFLY/RUTH MACRAE', 34), ('WALKABOUT', 34), ('THORNN II/LUCIA CALL', 34), ('BROTHER TODE', 34), ('BLACKJACK/', 34), ('TRASK, LAWRENCE LARR', 34), ('HAUPTMANN ENGLAND', 34), ('DEVILLE, ARCADIA', 34), ('FURMINTZ, HARMON', 34), ('KILMER', 34), ('EMBER', 34), ('BLACK BRIGADE', 34), ('ACBA', 34), ('EGMA', 34), ('EDDA', 34), ('TRANTRA', 34), ('REE', 34), ('HATCHWAY, VERNON', 34), ('HAMES', 34), ('SU, DR. KO BIN', 34), ('GUTHRIE, LUCINDA', 34), ('THORSON, DR. WALTER', 33), ('MAXWELL, MORRIS', 33), ('LANDERS, GENA', 33), ('DWELLER IN DARKNESS', 33), (\"GUARDSMAN/KEVIN O'BR\", 33), ('VAUGHAN, MRS.', 33), (\"MIDNIGHT/M'NAI\", 33), ('MIDNIGHT III/JEFFREY', 33), ('RIDDLEY, HIRAM RAM', 33), ('MR. FEAR III/PROF. L', 33), ('SLEEPER', 33), ('LARGO, CHIEF', 33), ('BARON BRIMSTONE/', 33), ('MCCOY, NORTON', 33), ('AWESOME ANDROID', 33), ('BAZIN, PHILLIPPE', 33), ('DARK CRAWLER', 33), ('RANSOME, DR. SUSAN', 33), ('ANDERSON, CHIEF MAGI', 33), ('MONTESI, VICTORIA', 33), ('OLSON, MRS.', 33), ('LIPSCOMB, DR. ANGELA', 33), ('SIMONSON, LOUISE', 33), ('MALTESE', 33), ('MASTER MENACE/DR. EM', 33), ('CHEEVER, JOHN', 33), ('AUTHIER, TRACY TRACE', 33), ('SPYNE', 33), ('LIFEFORCE', 33), ('ROSETTI, GABRIEL', 33), ('DOOMSDAY MAN', 33), ('LOBO, CARLOS', 33), ('JASON II', 33), ('SHAKATI', 33), (\"G'ANYM\", 33), ('MARCEAUX, THEOREN', 33), ('JONES, MAGGIE', 33), ('REFLEX/', 33), ('WEI, LINDA', 33), ('MENNINGER, CLARA', 33), ('PORTAL/CHARLES LITTL', 33), ('ZAFAR, OFFICER JIMMY', 33), ('KYMRI', 33), ('NOVA-PRIME', 33), ('STORM, JOHNNY | MUTA', 33), ('RESTON, CLIVE', 32), ('SILVER DAGGER/ISAIAH', 32), ('GORGILLA', 32), ('SAYGE', 32), ('STICK', 32), ('DEMOGOBLIN', 32), ('STERN, ROGER', 32), ('WEIN, GLYNIS', 32), ('NINA', 32), ('REBEL/', 32), ('MYSTERIO II/DANIEL B', 32), ('NEW SUN', 32), ('COWEN, BUCK', 32), ('SANTINI, DR. JOSE', 32), ('PROTECTOR III/', 32), ('CANDRA', 32), ('DRAKE, MADELINE BEAT', 32), ('BRAWN, TRISTAN', 32), ('RIGHT', 32), ('WRONG', 32), ('TRUTH II', 32), ('LEWIS, DET. GARON', 32), ('RASPUTIN, NIKOLAI', 32), ('RASPUTINA, ALEXANDRA', 32), ('RUBINO, STEVE HEADSE', 32), ('NICODEMUS II', 32), ('BURKE', 32), ('EQUILIBRIUS', 32), ('STAR THIEF III/DITMI', 32), ('ISHIHARA, ZOE', 32), ('POITIER, CLAUDE', 32), ('SAMEDAR', 32), ('LILITH II', 32), ('COMET/HARRIS MOORE', 32), ('MEDINA, ANALISA MARI', 32), ('RICOCHET RITA', 32), ('RED RAVEN II', 32), ('BLUE STREAK/', 32), ('IMMORTUS, MARCUS', 32), ('GAMESMASTER/JEREMY', 32), ('SHAUNEGHANN, MICHAEL', 32), ('PROCTOR, COORDINATOR', 32), ('FIRESTRIKE/DALTON BE', 32), ('BRICKFORD, CLAY', 31), ('TOKKOTS', 31), ('WORTHINGTON, KATHRYN', 31), ('CHURCHILL, SIR WINST', 31), ('THIN MAN/BRUCE DICKS', 31), ('ROCKET RACCOON', 31), ('ROSS, COURTNEY', 31), ('OX III', 31), ('HODER [ASGARDIAN]', 31), (\"O'HARA, ROBERT IRONG\", 31), ('AUSTIN, TERRY', 31), ('MAYE, APRIL', 31), ('GOLDBUG', 31), ('WADE, AGENT JOE', 31), ('BOONE', 31), ('MEDEA', 31), ('SNOW, CHARLIE', 31), ('CYBERMANCER/DR. SUZI', 31), ('JUVAN', 31), ('TORGO', 31), ('PHANTOM RIDER II/HAM', 31), ('SUWAN', 31), ('CERANDA', 31), ('DARK', 31), ('DRY', 31), ('LIGHT', 31), ('DEADBOLT', 31), ('GREER, GABRIELLE', 31), ('NANNY', 31), ('FORCE/CLAYTON WILSON', 31), ('WOZ/DEWOZ', 31), ('ARCHAEOPTERYX/TONAJA', 31), ('PRINCESS SANDELLA', 31), ('PARKER, MARY (ROBOT)', 31), ('KRUEGER', 31), ('WARHEAD/GREGORY SLIV', 31), ('EVER', 31), ('YANKEE CLIPPER/PAT C', 31), ('INDIGO, ODYSSEUS', 31), ('DEAN, SUSAN', 31), ('DEAN, DARBY', 31), ('ANDREWS, DARYL TROOP', 31), ('PEEL, EMMA', 31), ('POPEYE', 31), ('STEED, JOHN', 31), ('DIONYSUS [GREEK GOD]', 31), ('SISTER CHLOE', 31), ('SCORPIO IV', 31), ('JAGRFELM [ASGARDIAN]', 31), ('TARR, BLACK JACK', 30), ('HYBRID/JAMES JIMMY M', 30), ('ROBERTS, TED', 30), ('LIGHTMASTER/EDWARD L', 30), (\"STARDUST/T'URIN G'AR\", 30), ('LANN', 30), ('PRINCE REY', 30), ('PHOENIX 2013', 30), ('ENDO, DR. SUZI', 30), ('CIR, DYLON', 30), ('LOR, KONA', 30), ('KRUGGAR', 30), ('MOONBOY', 30), ('DEVIL DINOSAUR', 30), ('NOCENTI, ANN', 30), ('MULDOON, SGT. BRIAN', 30), ('KINGMAN, BILL', 30), (\"M'REEL\", 30), ('STONE, CHANTAL', 30), ('HARDY, STAN', 30), ('DARKOTH/MAJOR DESMON', 30), ('HIPPOLYTA [GREEK GOD', 30), ('CHAKRA', 30), ('MUTANT MASTER', 30), ('CONOVER, ALYSSA', 30), ('WEAPON X III', 30), ('TORG', 30), ('MERCURY', 30), ('DEUCE', 30), ('RYAN, THOMAS', 30), ('NIKKI/NICHOLETTE GOL', 30), ('MARTINEX', 30), ('MAJOR VICTORY/MAJ. V', 30), ('CHARLIE 27', 30), ('SCOURGE II/', 30), ('ZZZAX', 30), ('TARAKIS', 30), ('RIGOLETTO, DON DANTE', 30), ('MIRACLE MAN', 30), ('HITLER, ADOLF', 30), ('SPARROW', 30), ('CATAPHRAX', 30), ('CACHES, PROF. MARINA', 30), ('PATRICK, KERRY', 30), ('DAZZLER/BURTRAM WORT', 30), ('JARZINHO, COL. EDSON', 30), ('MCPHERSON, LING', 30), ('TERROR II', 30), ('ALOUETTE, GENARD', 30), ('DARK MOTHER/FINALITY', 30), ('PILGRIM', 30), ('KING BEDLAM/CHRISTOP', 30), ('TAIFU/TOSHIO SASAKI', 30), ('ASTRONOMER', 30), ('TRADER', 30), ('KILLIAN', 30), ('SNIDER, DET. LOU', 30), ('PHILLIPS, SIR GORDON', 30), ('FROST, CORDELIA', 30), ('LEVIATHAN II/EDWARD', 30), ('SAGITTARIUS II/', 30), ('PISCES II', 30), ('ASKANI', 30), ('PAGAN', 30), ('CHANDLER, PEGGY', 30), ('BLOCKADE/DEXTER PARI', 29), ('GOG III', 29), ('MAGOG II', 29), ('ORIGIN/PHYLLIS TWOMB', 29), ('EVANS, DORIS', 29), ('KRISTA', 29), ('DEVEREAUX, MICHELLE', 29), ('BOERKE, MAYOR', 29), ('SUVOROV, ADMIRAL GRI', 29), ('CONDOR', 29), ('SHAPER OF WORLDS', 29), ('IRON MAN III/EDDIE M', 29), ('PROFESSOR ANGST/DR.', 29), ('ZIRA', 29), ('LADONNA, HOLLY', 29), ('WRAITH', 29), ('JIGSAW', 29), ('HARROW, DR. JONAS', 29), ('AMIKO', 29), ('WATSON, PHILIP', 29), ('CAGLIOSTRO, ALESSAND', 29), ('IMPOSSIBLE WOMAN', 29), ('OSAMA', 29), ('SHOC/NEIL AIKEN', 29), ('ODDBALL/ELTON HEALEY', 29), ('CORNELIUS, DR.', 29), ('KRAUS, DR. FREIDERIC', 29), ('BULLET', 29), ('CRIMSON DYNAMO VI/VA', 29), ('XEMNU', 29), ('BRONA', 29), ('MAGNIR', 29), ('SENSATIONAL HYDRA/A', 29), ('FALCONA [INHUMAN]', 29), ('SPAT', 29), ('AENTAROS', 29), ('SHIRE, DR. RANDALL', 29), ('SEMIJAN', 29), ('BERGER, PROF.', 29), ('BUSHMASTER/JOHN MCIV', 29), ('PROCTOR', 29), ('OLD SKULL', 29), ('CHORD, MIYAMI', 29), ('FIRE EATER/TOMAS', 29), ('DESTRUCTOR/PROFESSOR', 29), ('TOY', 29), ('SACK', 29), ('POLTERGEIST/MICKEY S', 29), ('KATYUSHA/', 29), ('HAGGERT, BOB', 29), ('ELYSIA', 29), ('DELGADO, RUFUS', 29), ('ADAM X', 29), ('JESTER II', 29), ('MASTER MOLD', 29), ('BARRENOS, OMAR', 29), ('HITCHUCK, KELLY', 29), ('SKOLL', 29), ('DONALDSON, LINDA', 29), ('COLOSSUS II | MUTANT', 29), ('GRIMM, BEN | MUTANT', 29), ('BENNING, VERONICA', 29), ('BARONESS ZEMO/HEIKE', 29), ('ENT', 29), ('PESTER', 29), ('MOTHER INFERIOR', 29), ('FROST, BYRON', 29), ('FAWKES', 29), ('QUISLING', 29), ('MONMOUTH', 29), ('BRUTUS II', 29), ('BLOTT, BRIGADIER INK', 29), ('SMITH, SIR DENIS NAY', 28), ('COBALT MAN', 28), ('ARMBRUSTER, COLONEL', 28), ('RED SKULL II/ALBERT', 28), ('WORTHINGTON, WARREN', 28), ('TUTINAX', 28), ('ANELLE', 28), ('SKOOKA', 28), ('RON, TALLA', 28), ('PARKER, RICHARD', 28), ('SHRIEK/SANDRA DEEL/F', 28), ('CARSON, LT. PAUL', 28), ('PAPA HAGG', 28), ('CASSIOPEIA', 28), ('JASON', 28), ('YANDROTH', 28), ('MICHEL, RAFE', 28), ('RUCKUS', 28), ('HAIRBAG/SUGGS', 28), ('WARHAWK II', 28), ('RAWHIDE KID', 28), ('IKTHON', 28), ('BRUTE/REED RICHARDS', 28), ('CONWAY, GERRY', 28), ('INFECTIA/JOSEPHINE', 28), ('YONDU/YONDU UDONTA', 28), ('GENECIDE', 28), ('JILL', 28), ('DRAGONFLY II/MEIKO Y', 28), ('CRULE', 28), ('DR. SUN', 28), ('LADY LOTUS', 28), ('POLESTAR/', 28), ('FROST, CARMILLA', 28), (\"FU'SE\", 28), ('HUNTER IN DARKNESS', 28), ('SMYTHE, SPENCER', 28), ('GUTHRIE, JOSH', 28), ('CLARITY/', 28), ('SNAGG', 28), (\"O'KEEFE, CHANDRA\", 28), ('LIBERTY GIRL/BEV', 28), (\"T'CHAKA\", 28), ('BROADSIDE', 28), ('KURASOV, SIMYON BORI', 28), ('TAYLOR, JENNA', 28), ('NECROM', 28), ('YAMIR, SASHA', 28), ('BEEF/', 28), ('BEVATRON/', 28), ('HO, LI MUAN', 28), ('CAPTAIN AMERICA V/RO', 28), ('BLURRY', 28), ('GREASY', 28), ('LANIEGE, BIANCA', 28), ('BRAINY', 28), ('WINDY', 28), ('SPIKEY', 28), ('WARPY', 28), ('STINKY', 28), ('LANGSTROM, LIEUTENAN', 28), ('CIRE, EYLA', 28), ('HAMID, SHEIK', 28), ('STUART, DR.', 28), ('BRADDOCK, JAMES JR.', 27), ('SISTER DEATH', 27), ('SISTER DREAM', 27), ('BURLEY, MIKE', 27), ('DILLON, BERNIE', 27), ('KHIRN', 27), ('JYX', 27), ('LAVEAU, MARIE', 27), ('SHOTGUN III/', 27), ('LANCER/SAMANTHA DUNB', 27), ('HOBBS, HARRIS', 27), ('GRUENWALD, MARK', 27), ('NUKE', 27), ('CHERRYH, RANDOLPH WI', 27), ('RIFKIN, BIFF', 27), ('TAUREY, WILLIAM MALC', 27), ('CHADWICK, CHEER', 27), ('CHADWICK, DR. HESPER', 27), ('TAKAHAMA, JANE', 27), ('TAKAHAMA, ROBERT', 27), ('JACOBS, GLENDA', 27), ('DONLEAVY, HANNAH', 27), ('STRYKER, WILLIS', 27), ('THOR IV/DARGO', 27), ('TYNDAR', 27), ('RAA', 27), ('SSSITH', 27), ('BLACK KNIGHT II/SIR', 27), ('APOCRYPHUS', 27), ('DEATHUNT 9000', 27), ('BARBAROSSA, VINNIE', 27), ('GERASI, DON MARIO', 27), ('ZARAN II', 27), ('HANGMAN II/JASON ROL', 27), ('RUSSELL, LISSA', 27), ('THUNDERSWORD', 27), ('THOR REPLICOID', 27), ('NOVA OMEGA/GARTHAN S', 27), ('BANCROFT, MARTINE', 27), ('CHIMERA II', 27), ('NIGHT RIDER', 27), ('AVIUS', 27), ('NAHREES [INHUMAN]', 27), ('DINU', 27), ('ARKO', 27), ('STEGRON', 27), ('PARKER, RICHARD (ROB', 27), (\"O'NEIL, BRIDGET\", 27), ('SNOW, TANDY', 27), ('BLUDGEON/', 27), ('MASON, WANDA', 27), ('DELPHOS', 27), ('BIG BEN/', 27), ('ANON, LORD', 27), ('NAKOTA', 27), ('CARLISLE, JENNA', 27), ('ATTRACTIVE LAD/AUNDR', 27), ('GLAMOUR GIRL/GLORIA', 27), ('BAZIN, BRODERICK RIC', 27), ('JAWBREAKER/', 27), ('KUROKO/', 27), ('HUNTER/JAEGER', 27), ('TWEEDLEDOPE', 27), ('BLOODY BESS', 27), ('NUGENT, ALICE', 27), ('HARDCORE/', 27), ('KEMEL, MEHMET', 27), ('SERESTUS', 27), ('JACKHAMMER', 27), ('IKARIS | MUTANT X-VE', 27), ('MEDUSA | MUTANT X-VE', 27), ('TRITON | MUTANT X-VE', 27), ('SERSI | MUTANT X-VER', 27), ('KARNAK | MUTANT X-VE', 27), ('BLACK BOLT | MUTANT', 27), ('GORGON | MUTANT X-VE', 27), ('ANCIENT ONE/BARON MO', 27), ('KARKAS | MUTANT X-VE', 27), ('PROMETHEUS [OLYMPIAN', 27), ('MISFIT/', 27), ('PAINTER/WILHELM VON', 27), ('MILLER, CHRIS', 27), ('ARIA', 27), ('TRAYNOR, HARLEY', 27), ('SPARK', 27), ('SONIC', 26), ('CHAIN', 26), ('GRASP', 26), ('MANSLAUGHTER', 26), ('JESTER/JONATHAN POWE', 26), ('LUCIFER', 26), ('PATRIOT/JEFF MACE', 26), ('VIBRO/DR. FRANCIS VI', 26), ('SHANGA', 26), ('PRADDA FOL', 26), ('MENKEN, DONALD L.', 26), ('CAREGIVER/RUBANNA LA', 26), ('SORRENTINO/SORRENTIN', 26), ('SEA URCHIN/JEREMY SW', 26), ('LEVAN', 26), ('FONTAINE, CINDER', 26), ('PUNISHER', 26), ('SAPPER', 26), ('GOLDEN-BLADE', 26), ('BURKE, THERESA TRACY', 26), ('MR. SINISTER | MUTAN', 26), ('CYRA [ASGARDIAN]', 26), ('FENSTER, RICHARD', 26), ('BANDIT/', 26), ('MAN-BULL/BULL TAURUS', 26), ('PEMBROKE', 26), ('SABINI, JERRY THE WH', 26), ('HOUSTON, STELLA', 26), ('WAR TOY/ALKHEMA', 26), ('LEGAULT', 26), ('GENERAL ADMISSION', 26), ('BRIGGS, AGENT STEPHA', 26), ('GARTHAN SAAL', 26), ('CHAINSAW/', 26), ('NEUT', 26), ('COLDBLOOD/', 26), ('HAMIR', 26), ('KEY/', 26), ('MALAN Sometimes spel', 26), ('WALL/', 26), ('SMILING TIGER/', 26), ('SIN-EATER/STAN CARTE', 26), ('INFERNO II/JOSEPH CO', 26), ('MADISON, TAYLOR', 26), ('MORGAN, DR. VIVIAN', 26), ('GAMELIN, JOHN T J.T.', 26), ('CONOWAY, SEKMEHT', 26), ('CHESNEY, SANFORD', 26), ('ULTIMATOR/', 26), ('ESON II', 26), ('DEADHEAD', 26), ('SURESHOT', 26), ('CROTUS', 26), ('MACRAE, TRUTH', 26), ('HANRAHAN, GORDON', 26), ('SHEFFIELD, LEAH', 26), ('ROBERTS, CHESS', 26), ('SCRIBE', 26), ('HOLIDAY, JORDAN', 26), ('COOPER, COLE', 26), ('HELIX II', 26), ('RINGLET', 26), ('GYRE', 26), ('COIL', 26), ('SALVO', 26), ('TORK, LT.', 26), ('ASYLUM/', 26), ('STACY, GWEN | MUTANT', 26), ('GRANT, PHILLIP', 26), ('RYKING, ALEXANDER', 26), ('POWER MAN III/STEELE', 26), ('DOLMAN', 25), ('INTERLOPER', 25), ('BUSHMAN, RAOUL', 25), ('BILLUPS, AGENT', 25), ('PROTOCIDE/PRIVATE CL', 25), ('GRAND OVERSEER', 25), ('OJANI', 25), ('UR-LINI', 25), ('LANE, SILAS', 25), ('BRUTUS', 25), ('PARKER, MARY', 25), ('NARDI', 25), ('ANDROS', 25), ('LASHER/', 25), ('BRAMER', 25), ('SOLAR WIND', 25), ('ONSLAUGHT', 25), ('VOYAGER', 25), ('MOONDANCER', 25), ('CASIOLENA, QUEEN', 25), ('DR. FAUSTUS', 25), ('PIRANHA', 25), ('LECLAIRE, PROFESSOR', 25), ('JANUS', 25), ('OGUN', 25), ('DIVINITY', 25), ('INGOT/', 25), ('GLOUCESTER', 25), ('SCARUM/', 25), ('FIELDSTONE/', 25), ('LOBLOLLY/', 25), ('WATCHFIRE/', 25), ('FIZGIG/', 25), ('HOOPSNAKE/', 25), ('HOARFROST/', 25), ('NOM', 25), ('CROSSFIRE', 25), ('TIWAZ', 25), ('HANGMAN', 25), ('CHALKER, PROF. VIC', 25), ('JAMIL', 25), ('HARDERMAN, QUENTIN', 25), ('BASALLO/LAVA MEN KIN', 25), ('PENTIGAAR', 25), ('CORRIGAN, ARCHIBALD', 25), ('FALZON', 25), ('HARRIS, CHRISTINE', 25), ('MONTOYA, MARIA', 25), ('MONTOYA, JULIO', 25), ('CHATTERTON, DAVE', 25), ('MASTER ZEI', 25), ('TORES', 25), ('TUC', 25), ('REPLICUS', 25), ('RYKER, HARLAN', 25), ('CAMPBELL, MEREDITH', 25), ('NEIFI [INHUMAN]', 25), ('ALEGRIA, RICHIE', 25), ('DREYFUSS, RACHEL', 25), ('SQUIRE/', 25), ('RIOT-ACT/', 25), ('AGED GENGHIS', 25), ('BRES', 25), ('SWARM/FRITZ VON MEYE', 25), ('KATU', 25), ('HILARY', 25), ('DMITRI', 25), ('BERNIE', 25), ('COCKROACH/', 25), ('JELLA, PRIVATE', 25), ('WORD II/', 25), ('WILSON, LOUIS', 25), ('WATSON, MADELINE', 25), ('BROWN, FRANK', 25), ('BYRNES, TIM', 25), ('VIRAKO', 25), ('LUMPKIN, WILLIE | TI', 25), ('MCCALL, MEREDITH | T', 25), ('MURDOCK, MATT | TIME', 25), ('GRIMM, BEN | TIMESLI', 25), ('DR. DOOM | TIMESLIDE', 25), ('STORM, SUE | TIMESLI', 25), ('STARK, HOWARD | TIME', 25), ('STARK, MARIA | TIMES', 25), ('JARVIS, EDWIN | TIME', 25), ('PARKER, MAY | TIMESL', 25), ('PARKER, PETER | TIME', 25), ('HEADCASE', 25), ('TOTEM', 25), ('GRACE', 25), ('GLUB', 25), ('DARCO', 25), ('CANCER II/', 25), ('LIBRA IV/', 25), ('CAPRICORN II/', 25), ('ARIES III/', 25), ('AQUARIUS III/', 25), ('LEO II/', 25), ('FAWN, FELICIA', 25), ('DUGAN, DUM DUM | MUT', 25), ('SHADOWCAT | MUTANT X', 25), ('GREEN GOBLIN | MUTAN', 25), ('FIXX', 25), ('ARGOS', 25), ('VOLX', 25), ('VESTA', 25), ('ARCHER/JUDE BLACK', 25), ('GREYSTONE/BRIAN YOUN', 25), (\"O'DONNELL, EAMON\", 25), ('SIMBUS', 25), ('HAMILTON, MICKY', 25), ('GRIM HUNTER/KRAVINOF', 24), ('BOLT, COUNCILMAN AND', 24), ('DOVER, DONNA-LEE', 24), ('IZZIFIZZ', 24), ('BALLANTINE, DEVON', 24), ('SAWYER, GENERAL SAMU', 24), ('CEREBRO', 24), ('DUNCAN, FRED', 24), ('BERNARD THE POET', 24), ('WHITECLOUD, MICHAEL', 24), ('WHITE KING', 24), ('SHERIDAN, FLORENCE', 24), ('SHERIDAN, WILLIAM', 24), ('WAR MACHINE II/PARNE', 24), ('NAPIER, RAMONA DR.', 24), ('VERPOORTEN, JOHN', 24), ('WOLFMAN, MARV', 24), ('KAPPELBAUM, MRS.', 24), ('WIDOW-MAKER', 24), ('PECOS BILL', 24), ('UNCLE SAM', 24), ('FATHER TIME', 24), ('JOHNNY APPLESEED/JON', 24), ('HENRY, JOHN', 24), ('BUNYAN, PAUL', 24), ('STONE, TIBERIUS', 24), ('HIRO', 24), ('SCORPIO III/MIKEL FU', 24), ('YIN, DR. SU', 24), ('KREA, BRUNO', 24), ('ASYLUM II/HENRIQUE M', 24), ('JUPITER', 24), ('TIMESHADOW', 24), ('SCORCH II', 24), ('JINX', 24), ('SHOTGUN/ZEKE SALLING', 24), ('BATTLEAXE II/JEROME', 24), ('ARIDES', 24), ('ANIMATOR/DR. FREDRIC', 24), ('BIRDBRAIN', 24), ('JEROME, JASON', 24), ('DARK RAIDER', 24), ('DOLAN, CAPT. THOMAS', 24), ('SCANNER II/RHANLA', 24), ('STARSHINE III/ANARRA', 24), ('LORD GASPAR', 24), ('HAMMERHAND II/BRON', 24), ('JAVELIN II/DARIN JR.', 24), ('LIBERATOR/PRINCE TRI', 24), ('SENTRY IV/VAL', 24), ('TERMINATOR II/PRINCE', 24), ('FIREFALL IV/TARN', 24), ('MENGOCHAUZERAUS, GRI', 24), ('MENGOCHAUZERAUS, STA', 24), ('EROS', 24), ('UTGARD-LOKI', 24), ('REVERB', 24), ('JACKSON, BRENT', 24), ('ANGEL IV', 24), ('DENNIS, MARTY', 24), ('HAG/', 24), ('TROLL/', 24), ('QUENTINO', 24), ('HSU, CHEN', 24), ('OSHTUR', 24), ('HOGGOTH', 24), ('TRASK, DR. BOLIVAR', 24), ('BELDAME', 24), ('BENJAMIN, BYRON', 24), ('PARKER, MAY III', 24), ('BRASS BISHOP/', 24), ('LEVINE, ABBY', 24), ('PARKER, MAY II', 24), ('FONDOZZI, MICKEY', 24), ('UATU | MUTANT X-VERS', 24), ('SELENE | MUTANT X-VE', 24), ('LAMBERT, WILSON', 24), ('MILLER, STACI MURPHY', 24), ('MINISTER TOME', 24), ('MINSTER HOARD', 24), ('CIRE, MANUEL', 24), ('PANDEMONIA', 24), (\"SA'TNEEN\", 24), ('JOSTEN, LINDY', 24), ('MISSING LINK', 23), ('GREGOR', 23), ('HENDERSHOOT, COLONEL', 23), ('RAMIREZ, ALMA', 23), ('RAMIREZ, LUIS', 23), ('HUNKIR', 23), ('VORZEN', 23), ('QIRMET', 23), ('GOGO TAMAGO/', 23), ('HONEY LEMON/', 23), ('MADAME MASQUE II/', 23), ('RUDOLFO, PRINCE', 23), ('SKUNGE', 23), ('SALTZ/', 23), ('GUILOTINE', 23), ('SHAKTI', 23), ('TECHNARX', 23), ('LARROCA, SALVADORE', 23), ('MUSE/SHANNON FITZPAT', 23), ('NEKOBAH, ROMAN', 23), ('COOPER, WHITNEY III', 23), ('DELGADO', 23), ('CHROME/', 23), ('STARSHINE/LANDRA', 23), ('OVERBOSS DIXON', 23), ('MANN, DR. J. VERNON', 23), ('HEADGEAR/', 23), ('JONES, TIMOTHY', 23), ('BERKELEY, TRAVIS', 23), ('QUEEN KNORDA/NORA QU', 23), ('JAM/JASMINE ARCHER', 23), ('MARITA', 23), ('BUX', 23), ('MEXXA RIEN', 23), ('LINK', 23), ('EL AGUILA', 23), ('COLLINS, TRACY', 23), ('ANSWER', 23), ('TABOO', 23), ('DORCAS, LEMUEL DR.', 23), ('PRYDE, TERRI', 23), ('PRYDE, CARMEN', 23), ('KARGUL', 23), ('HARDY, LYDIA', 23), ('TRION', 23), ('EJULP', 23), ('SEESHA', 23), ('TYGERSTRYKE/', 23), ('PICO', 23), ('ISBISA/DR. SANDERSON', 23), ('FEVER PITCH/', 23), ('MEMBRAIN/', 23), ('CHUNG, LAO WEI', 23), ('PARK, ARCHIE', 23), ('ARSENAL', 23), ('SSSESTHUGAR', 23), ('ROBINSON, LUCY', 23), ('SAVAGE STEEL/HARRY L', 23), ('POWELL, OFFICER MIKE', 23), ('APE-X/XINA', 23), ('DR. DECIBEL/ANTON DE', 23), ('FOXFIRE/OLIVIA UNDER', 23), ('STONE, MEG', 23), (\"W'KANDRO\", 23), ('BURRTHROP, T. BARTON', 23), ('PARADIGM', 23), ('SWITCH/DEVON ALOMAR', 23), ('SEBASTIAN, MARISSA', 23), ('JUNCTION', 23), ('SAVAGE STEEL II/ARTH', 23), ('HAMMERHAND', 23), ('PHIM, FATHER', 23), ('BALOR', 23), ('FURY, DAWN', 23), ('BEAUTIFUL DREAMER II', 23), ('DEXAM', 23), ('BERENGHETTI, SUSAN', 23), ('DEATHLOK II/COL. JOH', 23), ('OCULUS, LT.', 23), ('HATE-MONGER V', 23), ('WOLF', 23), ('ARTEMIS', 23), ('ZONA', 23), ('STRANGLEHOLD', 23), ('PYRE II', 23), ('MANIPULATOR II', 23), ('REILLY, MAVIS', 23), ('LONGBOW/AMELIA GREER', 23), ('STANFORD, DWIGHT ROL', 23), ('ERIC THE RED II', 23), ('JOVAN', 23), ('GAUNT II', 23), ('BLUNT', 23), ('JZEMLICO, WARDEN', 23), ('LITTLE, ABNER', 22), ('LOCKER, MR.', 22), ('AQUARIUS II/', 22), ('QUARK', 22), ('UNBEING/BILLY BETELH', 22), ('HRILL', 22), ('SPIDER-WOMAN IV/CHAR', 22), ('GLORIAN/THOMAS GIDEO', 22), ('HAMMER III/EISENHOWE', 22), ('FIELDING, CLARENCE', 22), ('PRIME MOVER', 22), ('BYRD, NATHANIEL ALEX', 22), ('PRAZNIKI, ANNIE', 22), ('BORROUGHS, CHARLES C', 22), ('JUSTICE PEACE', 22), ('WILBURN, MYRON', 22), ('PRO, LE/', 22), ('PERSEPHONE', 22), ('RENO, AGENT', 22), ('BEALE, ERIC', 22), ('LANDSLIDE', 22), ('COPPER', 22), ('CHROMIUM', 22), ('NICKEL', 22), ('TUNGSTEN', 22), ('HELIUM', 22), ('BROMINE', 22), ('VANADIUM', 22), ('MAGNESIUM', 22), ('MERCURY II', 22), ('SKIN II/DONNA BLISS', 22), ('TYPHON', 22), ('CASS, LARRY MAD DOG', 22), (\"O'DONNELL\", 22), ('ELWOOD', 22), ('TIMMONS', 22), ('TOKEN', 22), ('M-PLATE', 22), ('DARIA', 22), ('RANDEAU, DR.', 22), ('TAI', 22), ('GOLDEN GIRL/GWENNY L', 22), ('COLLINS, NICK', 22), ('CARTHUS', 22), ('KALIKYA [INHUMAN]', 22), ('OXTON, PROFESSOR HEN', 22), ('BRANDT, ELLEN', 22), ('SUAREZ, RAPHAEL', 22), ('MAULER/BRENDAN DOYLE', 22), ('JACOBS, BEN', 22), ('CROSS, STANLEY', 22), ('LORD BALDAR', 22), ('NAKKA', 22), ('MARCEAUX, BELIZE', 22), ('CARTER, TAD', 22), ('SCYTHE/', 22), ('BAZIN, ANDREW', 22), ('SCRATCH', 22), ('GOTH', 22), ('MARIN, DR.', 22), ('MENDICUS', 22), ('SILENT ONE', 22), ('PRINCE BAYAN', 22), ('MANGLER/', 22), ('DEATHSTROKE/', 22), ('FORGE | MUTANT X-VER', 22), ('FONG, DR. CHARLES WA', 22), ('DEVOURER', 22), ('BOUDREAUX, MARIUS', 22), ('BLISS, MISS', 22), ('DABOIA, RUSSELL', 22), ('GRANT, DONALD', 22), ('WOLFE, MR.', 22), ('HALE, TOM', 22), ('GRANT, MARY MEEKS', 22), ('HALE, NAN', 22), ('WALKER, MICKEY', 22), ('VANDERGILL, GEORGE', 22), ('NIGHTWATCH/', 22), ('MORELLE, NOLAN', 22), ('CROIX, ASHLEY', 22), ('BIG ONE/KENJIRO SASA', 22), ('KEREM', 22), ('SPECTRUM, SINCLAIR', 22), ('SHIFFMAN, MAXIE', 21), ('SCORPIO II', 21), ('GARFIELD, MURRAY', 21), ('UNIT 101101', 21), ('WIND-WARRIOR/PAMELA', 21), ('EARTH-LORD/KYLE BROC', 21), ('SUNTURION/ARTHUR DEA', 21), ('PESTILENCE/CAPT. F.R', 21), ('VAN HELSING, RACHEL', 21), ('BRUTE II/', 21), ('SNAKE', 21), ('OX IV', 21), ('RABBIT', 21), ('CRUSADER X/BRIAN BRA', 21), ('KANNOR, ORLANDO', 21), ('MASTER PROGRAMMER', 21), ('TSO, JASON', 21), ('LAVENDER, MAXINE', 21), ('WINGFOOT, WYNONA', 21), ('STEM', 21), ('DIAMONDE, YVETTE', 21), (\"B'ARR\", 21), ('SMITH, COL. TOLLIVER', 21), ('BEHEMOTH', 21), ('DEMI-GOD', 21), ('SHE-CAT', 21), ('STINGER IV', 21), ('DRAGONFIST', 21), ('KNIGHT ERRANT II', 21), ('AMAZON', 21), ('EILIF DRAGONSLAYER', 21), ('FIN/PETER NOBLE', 21), ('WANG, VICTORIA VICKY', 21), ('MEEK', 21), ('BIRDY', 21), ('APOCALYPSE | MUTANT', 21), ('WEASEL/JACK HAMMER', 21), ('BUCHANAN, SAM', 21), ('HASTINGS, PROF. LOUI', 21), ('TOOTHGNASHER', 21), ('TOOTHGRINDER', 21), ('SKYHAWK/WINSTON BILL', 21), ('MAHKIZMO', 21), ('MCELROY, JAMES', 21), ('CRIMSON', 21), ('BLACK LAMA', 21), ('IZANAMI', 21), ('SCOTT, PETER', 21), ('LUMP', 21), ('ST. CROIX, CARTIER', 21), ('NIGHT', 21), ('SCHWINNER, DR. ERIC', 21), ('MELTON, LORRIE', 21), ('CHURCH, LYNN', 21), ('SERVITOR', 21), ('MCCOURT, ALLISON', 21), ('TOI/REXEL TOIVEN', 21), ('ABRAXAS', 21), ('GROK', 21), ('GRYPHON/COMMANDER EK', 21), ('HARBINGER', 21), ('GALEN', 21), ('BLAKE, DR. DONALD', 21), ('PULSAR II/LAN', 21), ('MELLACE, LUCY SANTIN', 21), ('IT', 21), ('CUMMINGS, DIANE', 21), (\"O'BRYAN, BOB\", 21), ('ARNSTROM', 21), ('AGUIRRE, ISOBEL', 21), ('CLAY, GORDON', 21), ('GAUNT, OFFICER KIM', 21), ('HIDALGO, DETECTIVE J', 21), ('BATTLE, MONTGOMERY', 21), ('ARYAN', 21), ('MO MONEY', 21), ('VULCAN/', 21), ('DARE, ROSSALYN', 21), (\"A'YIN\", 21), ('BARAK', 21), (\"RA'AL\", 21), ('REDSTONE/', 21), ('GAPON, DZHOKHAR', 21), ('DR. SPECTRUM III/REV', 21), ('MONOCLE', 21), ('SANDOVAL, JULIANA', 21), ('CHASE, DETECTIVE SLO', 21), ('RINGO KID', 21), ('STAR HAMMER', 21), ('GOROTH', 21), ('WEBWING', 21), (\"GRASSWIND, Z'OOFREY\", 21), ('MOJO II', 21), ('JESTER III', 21), ('HUNTSMAN', 21), ('RANDOM', 21), ('DEMOLITION MAN DOPPE', 21), ('GAARD/JOHNNY STORM E', 21), ('BERSERKER III', 21), ('BETTY-6', 21), ('PO', 21), ('CYBERSLIK', 21), ('SLEEK', 21), ('MOK', 21), ('LIBRITO', 21), ('KASPIN', 21), ('CHAR', 21), ('REYES, DR. DANIEL', 21), ('POWER, LEFTENANT', 21), ('ROBESON, PROFESSOR K', 21), ('CHEMISTRO/CURTIS CAR', 21), ('SANDOR, PROFESSOR IS', 21), ('AUTHORITY/', 21), ('SINGH, DR.', 21), ('SCORPIA', 21), ('BUMPKIN', 21), ('ECLIPTIC', 21), ('PELE/MICHI SASAKI', 21), ('LEGS/', 21), ('BUCKNER, GRANT', 20), ('ZAWADI', 20), ('KLINE, MR.', 20), ('MANIPULATOR/', 20), ('MADAME HYDRA VI', 20), ('SOMMERS, APRIL', 20), ('PROFESSOR XAVIER 201', 20), ('DESTINE, ADAM', 20), ('DESTINE, NEWTON', 20), ('WALLOP/WALTER DESTIN', 20), ('IMP/PANDORA DESTINE', 20), ('GAMBLE, GRACIE', 20), ('SYNRAITH', 20), ('CRIMSON CRUSADER/ROR', 20), ('HEX/DOMINIC DESTINE', 20), ('HASARD, SAMANTHA', 20), ('QNAX', 20), (\"S'LAR\", 20), ('SOUL-EATER', 20), ('BALLANTINE, MRS.', 20), ('WAYOPEX', 20), ('BALLANTINE, MR.', 20), ('THOMPSON, HARRISON', 20), ('THOMPSON, ROSIE', 20), ('BERENGHETTI, MICHAEL', 20), ('HUNTER, IAN', 20), ('DWYER, MARISSA', 20), ('CHANCE', 20), ('VIPER/JORDON DIXON', 20), ('GARABED/BASHUR', 20), ('COMMCAST/GARABED BAS', 20), ('SHINAR', 20), ('BRADLEY, CARRIE', 20), ('YEAGER, CALLIE', 20), ('SIBERCAT/', 20), ('SPAR, DR. KATHERINE', 20), ('SABRETOOTH | MUTANT', 20), ('WILD CHILD | MUTANT', 20), ('T-RAY/WADE WILSON', 20), ('SHANZAR', 20), ('BONES/ELIZABETH BLIS', 20), ('BRAITHWAITE, JUDGE R', 20), ('BASILISK III/', 20), ('AGONY/', 20), ('ANCESTOR/', 20), ('BUTTERFLY', 20), ('DELUGE II', 20), (\"Q'WAKE/QUAKE\", 20), ('LICH', 20), ('FOUNDRY', 20), ('FIREFLY', 20), ('BRAWN, HUNTER', 20), ('OMEGA', 20), ('ZAPPER, DAN', 20), ('AHQLAU', 20), ('CENTARIUS', 20), ('HEADLOK', 20), ('HUMAN TOP/DAVEY MITC', 20), ('SCRIER II/S. CRIER', 20), ('BURR, CLAYTON', 20), ('SIR', 20), ('DELANY, CAPT.', 20), ('VANIUM', 20), ('KREIGER, SIMON', 20), ('ANUBAR, ANWAR', 20), ('MARTINEZ, LINETTE', 20), ('OLAR', 20), ('SILVER FOX II/ZORA D', 20), ('STRANGLER', 20), ('MURDER', 20), ('CARRERA, MIA', 20), ('HOWLER/LUKE GARROW', 20), ('SOCRATES SOCK', 20), ('THERMITE/', 20), ('INERTIA/', 20), ('MOONGLOW/', 20), ('SCANNER/SKERA', 20), ('SEEKER/TARM', 20), ('FANG III', 20), ('WIBBOW', 20), ('BASALTAR', 20), ('SINTARIIS', 20), ('ALBERIK', 20), (\"P'KAR\", 20), ('DIBDEB', 20), ('BARTOS', 20), ('MANAT', 20), ('DONNELY, VICTORIA TO', 20), ('TARTARUS', 20), ('WANDERER', 20), ('SANGUINE', 20), (\"STECK'EE\", 20), ('ARKANIAN, GLIB', 20), ('EXECUTIONER IV', 20), ('KNAVE', 20), ('RED QUEEN', 20), ('TIMBERIUS II', 20), ('MARAUDER', 20), ('SIMON, FELIX', 20), ('JARDINE', 20), ('SARDAN', 20), ('FAITH', 20), ('ANOMALY', 20), ('THORPE, GAVIN', 20), ('BLACK WIDOW II/YELEN', 20), ('BURST/', 20), ('STEED, MR.', 20), ('NACHT, HERR', 20), ('HEADMISTRESS/', 20), ('SHREW/MARILYN MAYCRO', 20), ('X THE UNKNOWABLE', 20), ('ENTITY', 20), ('GAMECOCK/', 20), ('KNUTZ, CINDY', 20), ('BOAK', 20), ('SMALLWOOD, DAN', 20), ('HEPHAESTUS', 20), ('QUAYLE, DAN', 20), ('RAKIM, SEN. KAMAL', 20), ('GO-DEVIL/GO ISHIMORI', 20), ('WATERS, SETH', 20), ('PARSONS, DR. DEREK', 20), ('WYNDHAM, LUCAS', 20), ('LOMENZO, NICOLE', 20), ('ARMSTRONG, MYRA', 20), ('KRYPT, DR.', 20), ('MOBIUS, DR.', 20), ('COACH', 20), ('U-GO GIRL/EDIE', 20), ('ANARCHIST/TIKE ALICA', 20), ('DOOP', 20), ('HARQUIS TEY', 19), ('RANGER I/', 19), ('HUNGER', 19), ('THOMPSON, JESSICA JE', 19), ('WHITE RABBIT', 19), ('MORG', 19), ('COMET MAN/DR. STEPHE', 19), ('SCRIER', 19), ('HUMP/', 19), ('JORRO', 19), ('MIST MISTRESS', 19), ('SANCTITY/TANYA TRASK', 19), ('DR. DOOM CLONE/VICTO', 19), ('VOICE', 19), ('MISSING LINK II/RAY', 19), ('MASTER LINK/WILLIS H', 19), ('UPLINK/HECTOR FUENTE', 19), ('WEAK LINK/ERNIE MILL', 19), ('HESSLER, WOLFGANG', 19), ('ARMS MERCHANT/ANDREA', 19), ('COURTNEY, DELPHINE', 19), ('DREADNAUGHT', 19), ('PSI-BORG/', 19), ('STEVENS, MILO', 19), ('CAT KING', 19), ('VALERIA', 19), ('PHINEAS', 19), ('FLYING DUTCHMAN', 19), ('KARIM, MERYET', 19), ('TULLY, DEREK', 19), ('SENNET, PAMELA', 19), ('SICKLE', 19), ('LYNN, NORMA', 19), ('DILLON, ANITA', 19), ('DILLON, JONATHAN', 19), ('PHAE-DOR', 19), ('MECHADOOM', 19), ('DWORMAN, JIM', 19), ('OTHER', 19), ('ALVAREZ, CARLY', 19), ('VINCENTE/', 19), ('WENDIGO II/GEORGES B', 19), ('COMANCHE', 19), ('STANDISH, GEN.', 19), ('KEL, JANOTH', 19), ('YOVA', 19), ('XYOSS', 19), ('BIANDU', 19), ('THAN, VELENA', 19), ('DARK MASTER', 19), ('TALO', 19), ('VIRA', 19), ('RAGAR', 19), ('DELUGE', 19), ('STEPHANAPOULUS, COSM', 19), ('ELLENTHORPE, MARIAH', 19), ('MANH, COY TRANH', 19), ('WRAP', 19), ('MUELLER, AMANDA', 19), ('MESSENGER, TOBIAS', 19), ('PRINCESS ZAFINA', 19), ('JAMEEL', 19), ('KHADIJAH', 19), ('CARMODY, MARY', 19), ('BADALINO, LT. MICHAE', 19), ('ECSTACY/MME. RENE DE', 19), ('KING (OF THE SEWER P', 19), ('DANVILLE, SEN. OWEN', 19), ('SETH III', 19), ('KONIEV, IRINI', 19), ('KONIEV, MRS.', 19), ('KONIEV, DMITRI', 19), ('ZEY-ROGG', 19), ('DROMEDAN', 19), ('TRAPPER/VOLA', 19), ('RED GUARDIAN IV', 19), ('GLADIATRIX', 19), ('FANTASIA', 19), ('ELEJEA', 19), ('WYNTER', 19), ('OPSIDIAN/', 19), ('IRON MAIDEN II/', 19), ('INTEGER', 19), ('DARGIL', 19), ('MCKENNA-DRAKE, MARLE', 19), ('SUNFIRE/SHIRO YASHID', 19), ('CEREBRO MARK XIII |', 19), ('CREED, GRAYDON | MUT', 19), ('JEFFRIES, MAGGIE', 19), ('RED SHIFT', 19), ('DEMONSTAFF', 19), ('TYRUS', 19), ('HARDBALL', 19), ('RED RONIN', 19), ('BARRACUDA/', 19), ('STRONGHOLD/', 19), ('WARBOW/', 19), ('RIOT II/', 19), ('BLACKWING II/', 19), ('KIKO', 19), ('SUPER-NOVA', 19), ('CHINOOK', 19), ('IREZUMI/', 19), ('CYBERTOOTH/YEN HSIEH', 19), ('POMEROY, SYLVIA', 19), ('VISARA', 19), ('HAAG', 19), ('LLAN', 19), ('GREEN GOBLIN III/BAR', 18), ('FEAR EATER/KKALLAKKU', 18), ('GIGANTUS', 18), ('VAUGHAN, GAYLE', 18), ('FLASH/BARRY ALLEN/BU', 18), ('SMITH, JOE', 18), ('PSYKLOP', 18), ('WALSH, LYNN', 18), ('EXECUTIONER III/BRUT', 18), ('LATHAM, JORGE', 18), ('AMERICAN EAGLE II/JA', 18), ('STROUD, SIMON', 18), ('CAPTAIN BARRACUDA', 18), ('HOARFEN', 18), ('SIINGARD', 18), ('BROTHER ROYAL', 18), ('CEREBRITE BETA', 18), ('MERCURY III/', 18), ('REINMAN, PAULA', 18), ('RAPTURE/SISTER JOY', 18), ('CHAOS/DANIEL DASH', 18), ('CRUX/CRISTAL LEMIUEX', 18), ('GREY KING/ADDISON FA', 18), ('LANDSLIDE II/LEE BRO', 18), ('HELLSCOUT/KENNETH TE', 18), ('OLSEN, JIMMY', 18), ('MINDSINGER/GREGOR', 18), ('VIXEN', 18), ('CARLISLE, MELISSA BO', 18), (\"O'CONNELL, TARYN\", 18), ('I.Q./ISHMAEL QUESTOR', 18), ('KID COLT II/ELRIC FR', 18), ('TORO II/BENITO SERRA', 18), ('STEWART, MACKINLEY', 18), ('DR. BONG', 18), ('DONYELL', 18), ('ANTOINETTE, MARIE', 18), ('YUAN, BILLY', 18), ('HEADHUNTER/', 18), ('MARTS, MR.', 18), ('IVORY/', 18), ('KNOCKABOUT/', 18), ('VIOLENCE/', 18), ('ZANIAC II/THUG THATC', 18), ('GERASI, JOEY', 18), ('BASILISK/BASIL ELKS', 18), ('JONES, PHILLIP', 18), ('JONES, ANDY', 18), ('STEWART, MADDIE', 18), ('JONES, DRUCILLA', 18), ('MYSTERIUM/DR. JOSEPH', 18), ('JONES, KATIE', 18), ('CROWLEY', 18), ('NIGHTHAWK III/NEAL', 18), (\"SKYMAX/SK'YM'X/JAMES\", 18), ('STEWART, TINA', 18), ('HOLLYWOOD', 18), ('HENDERSON, CAROL', 18), ('MADDEN, CHET', 18), ('WALTERS, SHERIFF MOR', 18), ('PURL, DR. NOAH', 18), ('ERISHKIGEL', 18), ('TILDA', 18), ('HIGH OVERLORD', 18), ('ST. HUBBINS, SARI', 18), ('JAVITZ', 18), ('MAINFRAME/IAN WAJLER', 18), ('EL GIBAR, ACHMED', 18), ('MARVEL BOY III/ROBER', 18), ('MR. LUCK II/PHILIP G', 18), ('PRAZNIKI, SYLVIA', 18), ('CARRION', 18), ('AGENT AXIS/', 18), (\"MUNROE, N'DARE\", 18), ('ASBERY, SHAMARI', 18), ('DEPAUL, SHIELD SPECI', 18), ('ZARATHOS', 18), ('BLAZE, CRAIG', 18), ('BLAZE, EMMA', 18), ('FUANARO, RENEE', 18), ('SISTER SALVATION', 18), ('FONG, LI', 18), ('VINCENT, DANNY', 18), ('SLICE/', 18), ('KLEINFELDT, LORNA', 18), ('CYTTORAK', 18), ('HENCKEL, MARIA', 18), ('IZANAMI II', 18), ('BENWAY, DR.', 18), ('FRANKLIN, JEREMY', 18), ('OLD WOMAN', 18), ('WARFIST', 18), ('EXETER, LT.', 18), ('MYSTIQUE | MUTANT X-', 18), ('DELACORTE, ARTHUR', 18), ('DE LA COURTE', 18), ('MONDO', 18), ('VEEG', 18), ('LIPTON, LAURA', 18), ('COLE, PRISCILLA', 18), ('ZARATHUSTRA', 18), ('BELGRADE, DR. HORATI', 18), ('KRYZEWSKI, LEONARD M', 18), ('OGADA, DR.', 18), ('BEAUMONT, SPENCER', 18), ('CIRE, EZRA', 18), ('GLEASON, KAREN', 18), ('CROSS, JASON', 18), ('BECKFORD, NOEL', 18), ('ANTORO', 18), ('MARLES, DR. THOMAS', 18), ('SAUNDERS, DABNEY', 18), ('SMITH, WANDA JO BIAL', 18), ('DREAM QUEEN', 18), ('ANDERS, JOSHUA RICHI', 18), ('BLOODWRAITH/SEAN DOL', 18), ('TEN-THIRTIFOR', 18), ('SMITHSON, T.B.', 18), ('MADAME MASQUE VI', 18), ('ICHIHARA, SHIGERU', 18), ('STEEL COLLAR', 18), ('KILLOBYTE', 18), ('BITMAP/', 18), ('KILLBURN, MACK', 17), ('PROUST, PAUL', 17), ('LURKING UNKNOWN', 17), ('SCARECROW II', 17), ('KINE, BENEDICT', 17), ('LOCOMOTIVE BREATH/LA', 17), ('OBLITERATOR [ELDER]', 17), ('WARREN, MR.', 17), ('RAMIREZ, MARTA', 17), ('RAMIREZ, ROSA', 17), ('JARELLA', 17), ('HUMBUG/PROF. B. MITT', 17), ('THRAXON', 17), ('AIR-WALKER/GABRIEL L', 17), ('STAR, JOAN', 17), ('MOLLE, DR.', 17), ('PAI', 17), ('CEREBRITE ALPHA', 17), ('BAXTER, ABIGAIL', 17), ('SAUNDERS, KRISTINE', 17), ('AYALA, AWILDA', 17), ('HUMUS SAPIEN', 17), ('YETRIGAR', 17), ('BUCHOVITZ, STANLEY &', 17), ('DAHN, FARNOQ', 17), ('NINJA/', 17), ('TERMINATOR', 17), ('HUDSON, JAMES | MUTA', 17), ('SQUID/DONNY CALLAHAN', 17), ('SIMMONS, RANDALL', 17), ('TANNER, ARCHIE', 17), ('HANRAHY, JIM', 17), ('WING, PROFESSOR', 17), ('BRUKNER, ILANEY', 17), ('ASTER, LUCIAN', 17), ('ANGEL III/HALLOWAY', 17), ('CERISE', 17), ('COBALT II', 17), ('BERYL', 17), ('SLAG/SLAGHT, DR. THE', 17), ('WILSON, MERCEDES', 17), ('AYALA, MRS.', 17), ('ADVENT/KYLE GROBE', 17), ('CHEN, DR.', 17), ('WITNESS II/REMY LEBE', 17), ('KOSINSKI, HARLEY', 17), ('SIEGEL, DR. AVRAM', 17), ('BULWARK/', 17), ('MISTY/VINCENTE', 17), ('NECROMANCER/DR. STEP', 17), ('SHORT CIRCUIT/HENRY', 17), ('SHADES', 17), ('OGUR', 17), ('SPOILSPORT/', 17), ('JET-BLACK/', 17), ('NOY', 17), ('NIGHTWIND/', 17), ('SIGN/', 17), ('TOUGH LOVE/', 17), ('DRAGONWING/', 17), ('KOPPISCH, DR. ERIC', 17), ('HU, DR.', 17), ('CASSANDRA', 17), (\"COAL TIGER/T'CHALLA\", 17), ('SLOTH', 17), ('KETCH, BARBARA', 17), ('ATKINSON, MAJ. EDMON', 17), ('DEUTSCH, GEN.', 17), ('SKADI', 17), ('MIST', 17), ('KANDRA', 17), ('WORMWOOD', 17), ('SNARE', 17), ('AGENT-X/', 17), ('TURK II', 17), ('D.K./DAVID KALEN', 17), ('DARK WIND/KENJI OYAM', 17), ('ALISTRO', 17), ('DEWITT, KEARSON', 17), ('ARMAGEDDON MAN', 17), ('OMORO', 17), ('REVENANT/', 17), ('SKETCH/', 17), ('FARAHD', 17), ('CUDGEL/', 17), ('MANACLE/', 17), ('GALADRIEL', 17), ('GODSTALKER', 17), ('REXEL TOIVEN', 17), ('RAINBOW', 17), ('JAVELIN/DARIN', 17), ('ANTI-PHOENIX', 17), ('TENPIN/ALVIN HEALEY', 17), ('RINGLEADER', 17), ('KNICK KNACK', 17), ('WILFORD, ETHAN', 17), ('SCICLUNA, MICHELE', 17), ('THREADGOLD', 17), ('QUARRY', 17), ('WATTS', 17), ('SHULK', 17), ('MO', 17), ('JOUST', 17), ('FLO', 17), ('PREECHA', 17), ('BARON ZEBEK', 17), ('CROWN', 17), ('FLINCH/', 17), ('OUIJA/', 17), ('MEATMARKET', 17), ('VILLA-LOBOS, GETULIO', 17), ('CALLISTO | MUTANT X-', 17), ('MOLE MAN | MUTANT X-', 17), ('GANCE, TABITHA TABBY', 17), ('TERREL, DEBORAH', 17), ('BAILEY, JOEY', 17), ('BAILEY, GAILYN', 17), ('DOC', 17), ('SCINTILLA', 17), ('JONES, AUGUSTINE', 17), ('WARHAWK III/TOM NAKA', 17), ('RANGER II', 17), ('PISTON/ANDREI SEMYAN', 17), ('LIFELINE/DEACON', 17), ('TIMEBOMB/LOUIS JOUBE', 17), ('BLINDSIDE II/BOBBI C', 17), ('BLACK CRANE/', 17), ('SNAKE-EYES', 17), ('AGEE, REBECCA', 17), ('STONE, MARGARET', 17), ('ISLEY, LYNN', 17), ('MARTINEZ, CARMELLO', 17), ('BIOHAZARD II/FLETCHE', 17), ('CARMODY, MRS.', 17), ('AZAZEL', 17), ('GANTRY', 17), ('VACUUM', 17), ('SATELLITE', 17), ('ORBIT', 17), ('KITCHENER, CHIEF INS', 17), ('TITAN, TRISH', 17), ('HINKLEY, ADMIRAL', 17), ('DAMBALLAH II', 17), ('JACK', 16), ('TRICKSHOT', 16), ('NOX', 16), ('KRIEGHUND, COL.', 16), ('BRADLEY, HANK', 16), ('GRIMM, JAKE', 16), ('OUTRIDER/OCLIN UWIR', 16), ('TINKER, SHEA', 16), ('DANNING, SHEILA', 16), ('LETTERMAN, DAVID', 16), ('MINOR DOMO', 16), ('HUNT, JERRY', 16), ('MERCY', 16), ('HELL-EYES', 16), ('GORNKAI', 16), ('GORGEOUS GEORGE', 16), ('FALLON, RIGBY', 16), ('SOUL MAN/FATHER JASO', 16), ('STAINED GLASS SCARLE', 16), ('AZIR', 16), ('ARLISSE', 16), ('KATAR', 16), ('MAA-GOR', 16), ('CHI-CHEE', 16), ('MAINSPRING', 16), ('HOPE', 16), ('MADAME MASQUE IV', 16), ('MEGATAK', 16), ('RICOCHET/SEN. STEVEN', 16), ('BLAZING SKULL/MARK T', 16), ('HUSK/PAIGE GUTHRIE |', 16), ('CANNONBALL/SAM GUTHR', 16), ('SALLA', 16), ('STARHAWK/STAKAR', 16), ('STARHAWK II/ALETA OG', 16), ('WILD MAN/ALEX WILDMA', 16), ('THUNDERBOLT/BILLY CA', 16), ('HATE-MONGER IV', 16), ('NELIT', 16), ('SATANA', 16), ('EXPEDITER/JOHN WRAIT', 16), ('MR. DOLL/NATHAN DOLL', 16), ('KRIVEN', 16), ('BURKE, RICKY', 16), ('SANDERS, DET. NAPOLE', 16), ('BANTOCK, LT. OLIVER', 16), ('BENTON, TERRY', 16), ('JONES, WALTER', 16), ('STRONG, SUSAN', 16), ('TOLLIVER, REV. JACKS', 16), ('GIGANTO', 16), ('KLOSS, BERNARD', 16), ('BROOP', 16), ('ARCHER, ULYSSES SAMS', 16), ('BEERE, JASON', 16), ('FATE, IAN', 16), ('BRICKMAN, GLORIA', 16), ('SHERMAN, GEN.', 16), ('AUSTIN, GEN.', 16), ('WALKER, TESS', 16), ('WALKER, SHERIFF CHAN', 16), ('HIBBERT, ELLEN', 16), ('VON VOLTZMANN, FRITZ', 16), ('XIANDU', 16), ('FERA', 16), ('FIELDS, TRACI', 16), ('MCCAMBRIDGE, MEGAN', 16), ('CALDERONE, HANNAH', 16), ('COLLINS, BRADBURY', 16), ('WISDOM, ROMANY', 16), ('SEBASTIAN, MRS.', 16), ('QUEEN OF STAR SWORDS', 16), ('SLOAN, JASON', 16), ('SMERDILOVISC, VICTOR', 16), ('ZINGH', 16), ('MANDARIN, JAMES', 16), ('MACTAGGART, JOE', 16), ('LUCAS, JAMES JR.', 16), ('BRUTUS KLOR', 16), ('SKARABROUS', 16), ('MOLGOTHA', 16), ('SIFFROR', 16), ('MALEVOLENCE', 16), ('PHEMOUS', 16), ('THOG', 16), ('VILIVEN', 16), ('HEDRON', 16), ('WITHERS', 16), ('HYENA/HENRY MORTONSO', 16), ('TOLLIVER, SHERIFF JO', 16), ('ELATHAN', 16), ('CETHLANN', 16), ('INDECH', 16), ('TETHRA', 16), ('DULB', 16), ('SCHOENFELD, ELAINE', 16), ('RIVERS, JERRY', 16), ('REAGAN, NANCY', 16), ('FROST', 16), ('STRIKER, SAM', 16), ('CUTTER', 16), ('DEVINE, ANTON', 16), ('IDUNA', 16), ('GILBERT, PROFESSOR G', 16), ('NIGHTSTICK/', 16), ('WIRETAP/', 16), ('CUFFS/', 16), ('WYRE/', 16), ('PRINCE, DIANA', 16), ('TREVOR, STEVE', 16), ('ROLLINS, MRS.', 16), ('FAHE', 16), ('URSON-WELLZ', 16), ('REMIPED', 16), ('EVILHAWK/DARGIN BOKK', 16), ('PARTRIDGE, STEVE', 16), ('TELLIS', 16), ('PRIMUS II', 16), ('COMMANDO/M-NELL', 16), ('ANAMI, HIROSHI', 16), ('DOMINEX', 16), ('PONG, WU', 16), ('TASHA', 16), ('FORTUNE, DOMINIC', 15), ('GARTH, DONNA', 15), ('VULTURE II/BLACKIE D', 15), ('MEPHISTA', 15), ('EL TIGRE', 15), ('MORLEY', 15), ('CHAKARA, KANU', 15), ('HYZAKTL', 15), ('STRACU', 15), ('HARGROVE, ELIAS', 15), ('REINHOLDT', 15), ('MASTERMIND IV/MARTIN', 15), ('RAHL', 15), ('CHALIZ, SHANAZ RAYNA', 15), ('CHALIZ, TABRIAZ', 15), ('CONUNDRUM/', 15), ('CHALIZ, HAZRAM', 15), ('HILLIARD, JACOB', 15), ('DIPALMA, JOHNNY', 15), ('CYBORG X/', 15), ('CAT BURGLAR', 15), ('WEISENTHAL, DR. JACO', 15), ('GANGER, DR. ALEXEI', 15), ('BURLINGAME, CALVIN', 15), ('COYOTE', 15), ('SMITH, MANDY', 15), ('LITTLEWING, SUSIE', 15), ('BLACK SPECTRE/CARSON', 15), ('MASKED MARAUDER/FRAN', 15), ('ROSE II/SGT. BLUME', 15), ('SPITZ, BARRY', 15), ('AYALA, FILIPPO', 15), ('MCDOWELL, SCOTTY', 15), ('IRONWOOD, CISSY', 15), ('PLEXICO, DET.', 15), ('WIDDOWS, SGT.', 15), ('TRAUMA', 15), ('HAMILTON, JEROME', 15), ('RAMROD III/', 15), ('SAVANNAH, LOU-ANN', 15), ('RALEIGH, RICHARD', 15), ('DAKINI', 15), ('SLUJ', 15), ('FAMINE | MUTANT X-VE', 15), ('PESTILENCE | MUTANT', 15), ('DIRKSON, GUS', 15), ('JOSTEN, CARL', 15), ('RAND, HEATHER DUNCAN', 15), ('LEQUARRE, GERRY', 15), ('MOLTO', 15), ('DONOHUE, TREVOR', 15), ('XEMU', 15), ('LEVIATHAN IV', 15), ('SPOT/', 15), ('JAMESLEY, ALOYSIUS R', 15), ('GRUNCH, ALESTAIRE FI', 15), ('CRIMSON DAFFODIL', 15), (\"ZA'KEN\", 15), ('DRAN, DAMON', 15), ('BREWER, AMY', 15), ('HANSEN, BILLY', 15), ('KNIGHT/MALCOLM KNIGH', 15), ('FOGG/THOMAS FOGG', 15), ('DEVERAUX, INSPECTOR', 15), ('SKAR', 15), ('VOLCANA ASH', 15), ('EVE 3,031', 15), ('ADAM 3,031', 15), ('ATALON', 15), ('SACRIFICER', 15), ('BLACKSHEAR, JONAS', 15), (\"DIE'ODE/\", 15), (\"ELEC'TRIX/\", 15), ('VIBRATO/', 15), (\"CH'VAYRE\", 15), ('AGENT 18/JACK TRUMAN', 15), ('LLOIGOROTH', 15), ('AMENHOTEP', 15), ('RHODES, MRS.', 15), ('ANDERSON, MARJORIE', 15), ('ANDERSON, CHET', 15), ('ANDERSON, NICKY', 15), ('NIVENA, JOANNA', 15), ('SABOTEUR/', 15), ('VEDA', 15), (\"NHU'ABDAR\", 15), (\"M'KUMBA\", 15), ('CHAPMAN, DEVIN', 15), ('POLOMBO, CATHY', 15), (\"P'KRRD, CAPTAIN\", 15), ('KID QUARRY', 15), ('ADORA CLONE', 15), ('WILCOX, DR. BRENT', 15), ('STONECOLD/', 15), ('ROYTON, RAYMOND', 15), ('HENSHAW, CURTIS', 15), ('GERARD, TERENCE', 15), ('GUNDERSON, COL. ROLA', 15), ('MOORE, CONNIE', 15), ('ANDERSON, GINA', 15), ('TYCHO', 15), ('TYPHOON/', 15), ('AXIS/', 15), ('RUMOR/', 15), ('REBOUND/', 15), ('DANVERS, MRS. JOE', 15), ('CROSSAN, ANNIE', 15), ('REANIMATOR/', 15), ('ZODIAK/NORMAN HARRIS', 15), ('VONYA, DR. ANATOLY', 15), ('SIBERION', 15), ('SCATTERSHOT/NATALIA', 15), ('VOLGA BELLE/', 15), ('MARLEY, MITCH MADMAN', 15), (\"WHEELER, M'KONI MARY\", 15), ('AKAFE', 15), ('LU, MR.', 15), ('BOULDER/', 15), ('WATER WITCH/', 15), ('DIGGER II/', 15), ('KLEIN, SHIRLEY', 15), ('KLEIN, STANLEY', 15), ('FORTHWARD, KENT', 15), ('MARKO, KURT', 15), ('CHI DEMON/PROFESSOR', 15), ('TOMORROW HAWK/CEYOTE', 15), ('DEVEREAUX, IRIS', 15), ('SPARX/AURELLE', 15), ('PSYCHE II/PSYKOS/RON', 15), ('PULSAR/PLOR', 15), ('RICHARDS, REED | EAR', 15), ('GARRETT, JOHN', 15), ('THERMO II/', 15), (\"AJES'HA\", 15), ('DEATHLOK IV', 15), ('SOLE, MAJOR REMINGTO', 15), ('KILGREW, GERARD', 15), ('KILGREW, BASIL BETA', 15), ('ANDWELLA', 15), ('KLEIN, CAMERON', 15), ('DREADFACE', 15), ('CHEMISTRO III', 15), ('JANSON, DR. ANDREA', 15), ('TOSHI', 15), (\"KO'ICHI\", 15), ('TANAKA, RITA', 15), (\"KATSU'TA'RO\", 15), ('TANAKA, GEORGE', 15), ('ROSETTA STONE', 15), ('DANTES, DR. EDWINA', 15), ('LOCKDOWN', 15), ('REDJEK/', 15), ('CANDLEMAS/', 15), ('BOLERO/', 15), ('BLACK WIDOW | MUTANT', 15), ('TYPHOID MARY | MUTAN', 15), ('HAWKEYE | MUTANT X-V', 15), ('IRON GIANT MAN | MUT', 15), ('DEATHLOK | MUTANT X-', 15), ('DRAGONA', 15), ('METABO', 15), ('CACHE', 15), ('TAYLOR, JACK', 15), ('MOTHER OF PEARL/', 15), ('HAZARD/CARTER RYKING', 15), ('MEAGHER, TYLER', 15), ('MOON WOLF/', 15), ('MURPHY, MELISSA', 15), ('LOOP', 15), ('GOYER, SAUL', 15), ('DECIBEL', 15), ('ROSELLINI, ROBERTA', 15), ('LONKARR', 15), ('TSERRON', 15), ('SNOWBIRD | MUTANT X-', 15), ('SASQUATCH | MUTANT X', 15), ('SHAMAN | MUTANT X-VE', 15), ('PUCK | MUTANT X-VERS', 15), ('NORTHSTAR | MUTANT X', 15), ('GUARDIAN | MUTANT X-', 15), ('AURORA | MUTANT X-VE', 15), ('ABCISSA', 15), ('SUNSPYRE/LEYU YOSHID', 15), ('PROVENZANO, PAULIE', 15), ('WRAITH II/HECTOR REN', 15), ('DIRECTOR X', 15), ('KELLY, SARA', 15), ('KELLY, KAREN', 15), ('SHIGARU', 15), ('CISCERNOS, SELENA', 15), ('KRUELLA', 15), ('BENCHLEY', 15), ('LEONARD, DR.', 15), ('DOCTOR DREDD', 14), ('DRAGON OF THE MOON', 14), ('NEDDA', 14), ('LANDERS, RICKY', 14), ('LANDERS, RAY', 14), ('FITZPATRICK, WILL', 14), ('HITMAN/LT. BURT KENY', 14), ('MAGMA II/JONATHAN DA', 14), ('ANDERSON, CHARLES', 14), ('AMPHARON', 14), ('PRINCESS FEN [ATLANT', 14), ('CRUSADER II/ARTHUR B', 14), ('PRINCESS PEARLA', 14), ('APOSTATE', 14), ('WATSON, KEVIN', 14), ('HYPERSTORM', 14), ('IVANOVA, ELENA', 14), ('NIGHT FLYER', 14), ('8-BALL/', 14), ('GALLAGHER, BOB', 14), ('RHAPSODY/RACHEL ARGO', 14), ('FALLON, MEG', 14), ('STACY, NANCY', 14), ('X-MAN | MUTANT X-VER', 14), ('PELTINO, LT.', 14), ('BRANNEX, ALLESSANDRO', 14), ('CAPTAIN TERROR/DAN K', 14), ('STONE', 14), ('WING', 14), ('SPEAR', 14), ('FLAME', 14), ('STAR', 14), ('BARNETT, MIKE', 14), ('GIDEON, GREGORY HUNG', 14), ('THERMAL MAN', 14), ('FALCONER, CALVIN', 14), ('TENDRIL/RIVER VERYS', 14), ('CHAKA KHAN', 14), ('YANO', 14), ('GIL', 14), ('KINLAN KARTH KITH', 14), ('CHAR, BRON', 14), (\"SEA WITCH/BRIGIT O'H\", 14), ('ORINI', 14), ('MURMUR/', 14), ('FOROPULIST', 14), ('SNAKESKIN II/', 14), ('ROUSSEAU, ETIENNE', 14), ('ARMADA II/', 14), ('MADMAN/PHIL STERNS', 14), ('CROSS, GENEVIEVE', 14), ('KARNIVOR', 14), ('RAMA KALIPH', 14), ('GRAY, SGT.', 14), ('REISZ, RAY', 14), ('GULADKIN', 14), ('NIMROD III', 14), ('STRONG, MARTIN HENRY', 14), ('SKYE', 14), ('BROTHER WONDERFUL/DR', 14), ('WENDY', 14), ('SPOOKY', 14), ('CASPER', 14), ('BENEDICT, ANDREW', 14), ('REAVES, VERNON', 14), ('STROUGHTON, WILLIAM', 14), ('JONES, JOHN', 14), ('KNOBLACH, HANS', 14), ('KNOBLACH, GLORIA', 14), ('KNOBLACH, GERTRUDE H', 14), ('BUEL', 14), ('KUTUZOV, COL.', 14), ('SAINT, JOHNNY', 14), ('DR. DOOM DOPPELGANGE', 14), ('SANDMAN DOPPELGANGER', 14), ('CATHODE/', 14), ('GEATAR', 14), ('ROM CLONE', 14), ('GUTHRIE, LUKE', 14), ('GUTHRIE, TYLER', 14), ('SHAZANA', 14), ('VALTORR', 14), ('MUNIPOOR', 14), ('RAGGADORR', 14), ('IKONN', 14), ('DENAK', 14), ('WATOOMB', 14), ('FACADE', 14), (\"N'GAMO\", 14), ('TORQUE II', 14), ('KLAER', 14), ('HAV-AK', 14), ('HELKOOKY', 14), ('COFFY, DET.', 14), ('GAARK', 14), ('EKAK', 14), ('TAROOK', 14), ('PROWLER III/RICK LAW', 14), ('MENTUS', 14), ('SUPREME COMMANDER', 14), ('ENGLEHART, STEVE', 14), ('MASTERMIND III', 14), ('BARRINGTON', 14), ('VENDETTA | MUTANT X-', 14), ('DOC SAMSON | MUTANT', 14), ('FIRESTAR | MUTANT X-', 14), ('WEISMAN, DR.', 14), ('BOUNTY', 14), ('GRIMM, BEN | EARTH-A', 14), ('MURPHY, JOBOA', 14), ('ISIS', 14), ('LENO, JAY', 14), ('SPRINGER, JERRY', 14), ('TERRAX', 14), ('FLAMBE/', 14), ('VAGUE/', 14), ('BRIQUETTE/', 14), ('TREMELO/', 14), ('BOX II/JERRY JAXXON', 14), ('GARABALDI', 14), ('TRASK', 14), ('GUTHRIE, JOELLE', 14), ('MICAWBER, TRISTRAM', 14), ('MUNSON, CLAUDIA', 14), ('LOPEZ, MARIA II', 14), ('GREER, DAVID', 14), ('SANDERS, MAC', 14), ('RODRIGUEZ, DET. PHIL', 14), ('CARBONE, ROSALIE', 14), ('AYESHA', 14), ('SENTRY II/BOB REYNOL', 14), ('REYNOLDS, LINDY', 14), ('ZEALOT/MOREAU', 14), ('AVATAR', 14), ('BULLET BIKER', 14), ('WALKER, JILL', 14), ('DR. MIME', 14), ('ZANKOR/JAY STEVENSON', 14), ('RAKKUS', 14), ('FOLD', 14), ('SHAW, SAMARRA', 14), ('ROK', 14), ('PARKS, JOE', 14), ('ENTITY II', 14), ('MUNROE, DAVID', 14), ('POGUE, BARTON', 14), ('SLAUGHTER II/CONSTAN', 14), ('AINET', 14), ('SAI/', 14), ('LIONMANE/GEN. LO CHI', 14), ('REIKO', 14), ('REMORA', 14), ('CLEARWATER, JUDGE MA', 14), ('SLASHER II', 14), ('RAZORBLADE/', 14), ('SPENCER, TRACY', 14), ('GATES, JUNIOR', 14), ('SHADOW KING | MUTANT', 14), ('MACTAGGART, MOIRA |', 14), ('JUGGERNAUT | MUTANT', 14), ('ZOMBIE/SIMON GARTH', 13), ('LUMLEY, JUDY', 13), ('CONOVER, REV. WILLIA', 13), ('CONOVER, HANNAH', 13), ('SAMUELS', 13), ('LOCUST', 13), ('SLASHER', 13), ('MANNING, DR.', 13), ('TANNER, JACKO', 13), ('GENUARDI, MR.', 13), (\"JACK O'DIAMONDS\", 13), ('SNIPES, DET.', 13), ('NUMBER NINE', 13), ('WOLF SPIRIT/OWAYODAT', 13), ('PRAZNIKI, VICTOR', 13), ('SAMHAIN', 13), ('MOUSE', 13), ('CAT II', 13), ('WAYFINDER', 13), ('NAGALA', 13), ('CARTER, BRAD', 13), ('RAT', 13), ('SHAMAN II', 13), ('KILLBREW, DR.', 13), ('SCARBO', 13), ('MCCABE, NINA', 13), ('RAINBOW, BECKY', 13), ('FLINT, LT.', 13), ('MORPHEUS/ROBERT MARK', 13), ('SCIMITAR', 13), ('REEVES, MAJOR', 13), ('WILD WHIP', 13), ('HALBERG, DONALD', 13), ('CLOONEY, DR.', 13), ('SISTER NIL', 13), ('MOONDARK', 13), ('QABIRI', 13), ('HARKER, QUINCY', 13), ('DIXON, GENERAL', 13), ('ETUBAN', 13), ('BATWING/', 13), ('DAGGER/TANDY BOWEN |', 13), ('RAZOR WIRE/', 13), ('LIGHTNING FIST', 13), ('MS. FORTUNE/', 13), ('OGRE II', 13), ('MASTER MONARCH/', 13), ('BATTERY/', 13), ('SMOKESCREAM/', 13), ('OVERRIDER/', 13), ('ASSAULT/', 13), ('JEKUAKKEKT', 13), ('TIKUAK', 13), (\"KEKA' AKELUAK\", 13), ('JIKEKT', 13), ('FENWAY', 13), ('C.F.', 13), ('VISE/', 13), ('SCANLON, COMMANDER', 13), ('CANCELLATOR', 13), ('TIMESLOT', 13), ('SWEEPZWEAK', 13), ('LEAD-IN', 13), ('DEADAIR', 13), ('LANSING, CHERYL', 13), ('BLACK MARVEL/DAN LYO', 13), ('CORAL', 13), ('ZAMORA, PETE', 13), ('ROEBERG, SEN.', 13), ('HAYDEN', 13), ('WIDE LOAD ANNIE/ANNI', 13), ('POPPA WHEELER', 13), ('AVANDALIA', 13), ('GHOST GIRL/', 13), (\"SPIRIT OF '76/WILLIA\", 13), ('KING GEORGE VI', 13), ('CAPTAIN WINGS/', 13), ('TOMMY LIGHTNING/', 13), ('THUNDERFIST/', 13), ('MARTELL, SHIELD AGEN', 13), ('TYNE, ELIZABETH/JANI', 13), ('LANDSCAPE/BRETT', 13), ('MR. TERMINEUS/AMODEU', 13), ('MEPHISITOID', 13), (\"T'KYLL ALABAR\", 13), ('MELONIE', 13), ('RAPTOR II/PROFESSOR', 13), ('MORPH', 13), ('DEAD RINGER/LOU', 13), ('SERAPH', 13), ('ASMODEUS', 13), ('TABESHAW, HARRY', 13), ('TAKIMOTO, RON', 13), ('PRESIDENT ITOES [TRI', 13), ('PIERSO [TRIONIAN]', 13), ('LINAK', 13), ('SAKAA', 13), ('FONTREAUX, GUY', 13), ('EQUINOX/TERRY SORENS', 13), ('CRITIC', 13), ('SANTA CLAUS/NICK ST.', 13), ('SHIVER MAN', 13), ('ROSE, HENRIETTA', 13), ('TULAK', 13), ('DADDY WRONGLEGS', 13), ('ALBINO/DR. AUGUSTA S', 13), ('SNOWBLIND/', 13), ('DANIELS, BRIE', 13), ('HARRIS, MONROE', 13), ('PETROVITCH, DMITRI', 13), ('SPINNERET', 13), ('PORGA', 13), ('BUZZARD', 13), ('FLYING FOX', 13), ('KOMODO', 13), ('ANUBIA', 13), ('CRUSHTACEAN', 13), ('JUNIPER', 13), ('KATOS', 13), ('SAWYER, RYAN', 13), ('BRYCE, ARCHER', 13), ('POWELL, AMY', 13), ('TSUNG, MARCUS', 13), ('SABU', 13), ('KIRKEGAARD', 13), ('HAUS', 13), ('FEUER', 13), ('ALANYA', 13), ('BUSIEK, KURT', 13), ('DAVID, PETER', 13), ('TRYKUR', 13), ('GRESIG', 13), ('GRIMM, SUE STORM EAR', 13), ('KRUEL/VICTOR KRUELLE', 13), ('KAA', 13), ('PICARO/FELIPE', 13), ('DAY', 13), ('MILLER, TRACE', 13), ('RIORDAN, JIMMY', 13), ('ULTARNT', 13), ('VERITUS', 13), ('CRANUS', 13), ('GULLO', 13), ('DEAD HEAD/', 13), ('THUNDERHEAD/', 13), ('KINCAID, MOSES', 13), (\"QUINN, MIRANDA/M'RYN\", 13), ('QUINN, MR.', 13), ('LONGBOW, DESIREE', 13), ('FEIFFER, DEPUTY BEAU', 13), ('HOWLER II/ZED', 13), ('CONTRARES, ANASTASIA', 13), ('DEL HIERRO, BLANCA', 13), ('OBLITERATOR II', 13), ('YSSA', 13), ('BROTHER VIRGIL', 13), ('CAESAR', 13), ('BOLT/LAWRENCE EVANS', 13), ('TRUMP/', 13), ('CACTUS', 13), ('CYCLOPS | MUTANT X-V', 13), ('SILVER SURFER | MUTA', 13), ('NOVA II | MUTANT X-V', 13), ('BINARY | MUTANT X-VE', 13), ('ARLINGTON, DR. MARCU', 13), ('PSIMON', 13), ('BAIRD, DR.', 13), ('INFINITY', 13), ('BOBCAT/', 13), ('BOGATYR/MIKULA GOLUB', 13), ('SVYATOGOR/SASHA POKR', 13), ('DR. VOLKH/VLADIMIR O', 13), ('MORNING STAR/ZVEZDA', 13), ('SPECTRA/SELENA SLATE', 13), ('COBWEB', 13), ('JACKAL II/WARREN', 13), ('HARVEST II', 13), ('AYALA, NESTOR', 13), ('BLACK, RACHEL', 13), ('SEEKER III', 13), ('SHRILL/', 13), ('GRAVEMOSS', 13), ('BANSHEE 2013', 13), ('KIMBLE, DR.', 13), ('ORPHAN II/GUY SMITH', 13), ('BLOKE/MICKEY TORK', 13), ('SAINT ANNA', 13), ('PHAT/BILLY BOB REILL', 13), ('VIVISECTOR/MYLES ALF', 13), (\"D'WON\", 13), ('TECHNOSPIKE', 13), ('INFOMORPH', 13), ('WIREHEAD', 13), ('GUARDIAN IV', 12), ('PHOBOS', 12), ('DEIMOS', 12), ('RHODES, MR.', 12), ('GUNSHIP/CARY ROUNTRE', 12), ('SANCTION/AARON', 12), ('SEGAR, OWEN', 12), ('MASTER ELO', 12), ('ELO', 12), ('KRAA', 12), ('SZARKUS', 12), (\"O'CONNOR, A.C. ACE\", 12), ('OSBORN, NORMAN', 12), ('JAKAL', 12), ('MARAUD', 12), ('DESTRAK', 12), ('ANOMALY III', 12), ('COHEN, IZZY', 12), ('WILLIAMS, MRS.', 12), ('CHALMER, JUDGE', 12), ('TSKAROV, GENERAL', 12), ('DAVIDOFF', 12), ('COMMANDER COURAGE/', 12), ('DOCKERY, RUPERT', 12), ('STONE II', 12), ('STYX/JACOB EICHORN', 12), ('RINGER II', 12), ('THURM, ETHAN', 12), ('STONE, JOHN', 12), ('KIRIGI', 12), ('XANDU', 12), ('DARE, JOHNNY', 12), ('GLAZER, FAST FREDDY', 12), ('VANKIN, JONATHAN', 12), ('HAVEN/RADHA DASTOOR', 12), ('ASH, BRANDY', 12), (\"O'HOOLIHAN, SERGIUS\", 12), ('MOLE', 12), ('CAT MAN III/', 12), ('APE MAN II/ROY MCVEY', 12), ('ARMAGEDDON', 12), ('AJAX II', 12), ('MADAME MASQUE V', 12), ('YRIK', 12), ('BYREL', 12), ('QUANTUM', 12), ('BLACK AVENGER/JERRY', 12), ('HONIKAWA, SHO', 12), ('HALFTREE, HORACE', 12), ('NICHOLS, TOM', 12), ('YOUNG, KIM SUNG', 12), ('GERASI, LESLIE', 12), ('FITZGERALD, MOLLY', 12), ('KEMBLE, DR.', 12), ('PURSUER', 12), ('MCGRILL, MARY', 12), ('GIDEON, CLAIRE', 12), ('PHILLIPS, HANDSOME H', 12), ('DAKOR, YOGI', 12), ('BROGIN, BULL', 12), ('THULE, GEN.', 12), ('BERGLUND, GEN.', 12), ('STONE, NELSON', 12), ('RADION', 12), ('EL UNO', 12), ('TRACKER', 12), ('CLARISSA', 12), ('OMERTA/', 12), ('PRODIGY/', 12), ('URSULA', 12), ('SHAITAN, AL', 12), ('VIRAGO', 12), ('MADDICKS, PROFESSOR', 12), ('BURKE, JACK', 12), ('BURKE, GWYNETH', 12), ('BURKE, JOB', 12), ('THORPE, GORDON', 12), ('DEWITT, LUCIUS', 12), ('RODRIGUEZ, DEBRA', 12), ('FURMAN, RICHARD', 12), ('HOBBS, DET.', 12), ('SATHAN', 12), ('XELOCKS [TRIONIAN]', 12), ('FIST/', 12), ('KATANA/', 12), ('DEKKER, GENERAL LYLE', 12), ('COWEN, ELAINE', 12), ('GARTH', 12), ('BUKOWSKI, BUCK', 12), ('EXALT', 12), ('STARR, AARON', 12), ('LEVESSEUR, LARENT', 12), ('DUBOIS, HERVE', 12), ('ROSE, JUSTICE', 12), ('GRON', 12), ('SABUKI, DR. SAM', 12), ('SINCLAIR, MORGAN', 12), ('SNAKEBITE/', 12), ('FURY, NICK L.M.D.', 12), ('ZORN', 12), ('HUGO, CAPTAIN EDVARD', 12), ('CEAUSECU, IONEL', 12), ('CRIME-BUSTER/', 12), ('STERN', 12), ('MCPHEE, LOUIE', 12), ('VRIES, KALI', 12), ('WARKOVSKY, SEN.', 12), ('DEVASTATOR II/GREGOR', 12), ('DELPHI II', 12), ('DR. STRANGE DOPPELGA', 12), ('GRANDE DAME', 12), ('JARA', 12), ('LEEBRE, VEEDA', 12), ('HALL, MORGAN', 12), ('DELAZNY, CHARLES L.', 12), ('THOMAS, DR. JOHN', 12), ('SOUSA, PAUL', 12), ('APPLEBAUM, PHANTASY', 12), ('RADCLIFFE, TODD', 12), ('BRADDOCK, JAMES', 12), ('RASPUTIN', 12), ('CRIMSON DYNAMO IV/YU', 12), ('MASTER OM', 12), ('SENREICH, GUNTHER', 12), ('COGGER', 12), ('KOSHIMA', 12), ('RAMROD', 12), ('CHIRA', 12), ('AGARN, CAPT.', 12), ('RAI', 12), ('UNIT', 12), ('TENELLE', 12), ('HEAT-RAY/', 12), ('FIELDS, PROF. WILLIA', 12), ('FIELDS, MARJORIE', 12), ('FIELDS, TODD', 12), ('LANNING, DR.', 12), ('PARADOX', 12), ('NAUDA', 12), ('MERENGUES, SMOOTH MA', 12), ('LEE, LITTLE LARRY', 12), ('RUIZ, RHYTHM', 12), ('LUBOWSKI, LUGWRENCH', 12), ('BOYD, TWO-FISTED TOM', 12), ('DAWSON, DICTIONARY', 12), ('LUCAS', 12), ('KREE GIANT MAN [KREE', 12), ('REDWING II', 12), ('KREE IRON MAN [KREE]', 12), ('KREE CAPTAIN AMERICA', 12), ('KREE SCARLET WITCH [', 12), ('LEVIATHAN V', 12), ('CREED', 12), ('BELIAL', 12), ('MALPRACTICE', 12), ('ROTWRAP', 12), ('INNARDS', 12), ('PYRE', 12), ('KIRIN', 12), ('FROSTBITE/DR. SLOANE', 12), ('LIPTON, MILES', 12), ('DARROW, MARISSA II', 12), ('PAM', 12), ('SANDOVAL, DIEGO', 12), ('CORTES, MARIA PILAR', 12), ('SHERIDAN, LEAH', 12), ('PIXIE II/', 12), ('BERTRAM', 12), ('GRANT, SILAS II', 12), ('PO, KIM', 12), ('WOO, SONIA', 12), ('ASBESTOS LADY', 12), ('RAYMOND, FRED', 12), ('RAYMOND, NORA JONES', 12), ('BALABAN/', 12), ('ST. CROIX, LOUIS', 12), ('KARYGMAX', 12), ('PARADOX II', 12), ('LOWELL, DR.', 12), ('SUTTON, JOHN', 12), ('MCKENZIE, LEON', 12), ('SIR BENEDICT', 12), ('RON, DAN', 12), ('STARR, JACQUELINE', 12), ('VIENNEAU, JACQUES', 12), ('FIDDLER, BARNEY', 12), ('KICKBACK/RICHARD', 12), ('PRINCESS ZANDA', 11), ('RAVEN, SABBATH II/EL', 11), ('TOLOC', 11), ('RAMON', 11), ('MASTER MOLD III', 11), ('GILBERTI, ROSE', 11), ('DIAMOND, CHUCKY', 11), ('PAYGE, REEVA', 11), ('KAUR, BENAZIR', 11), ('HUNTER, LANCE', 11), ('KNIGHT ERRANT/MATSON', 11), (\"ICON/DR. U'MBAYA A'K\", 11), ('STINGER II/', 11), ('MOOMJI, INDRIES', 11), ('YLA', 11), ('HYNNIT', 11), ('CRIX', 11), ('ALIST', 11), ('JUSUR', 11), ('TEI', 11), ('REI', 11), ('MIBA', 11), ('FIM', 11), ('YURGE', 11), ('TRIAX', 11), ('OSNICK, OLLIE', 11), ('MCDONNELL, OSCAR', 11), ('TYRANT', 11), ('MIESHO', 11), ('HELLER, DR. JOSEPH', 11), ('CONSUMPTION', 11), ('JAGATAR', 11), ('KAMINARI', 11), ('KAZE', 11), ('INAZUMA', 11), ('SOAP, DET.', 11), ('MAX II', 11), ('SPEEDFREEK/SHAPPE', 11), ('BOWMAN, MAJ.', 11), ('ALLEN, TERRY', 11), ('POISON/CECILIA CARDI', 11), ('BERNSTEIN, EMMA WEBS', 11), ('SUEE, FAH LO', 11), ('MEER, MAX', 11), ('RABIN, GRETTA', 11), ('GUNTLY, DAVID', 11), ('CUSSLER, PHILLIP', 11), ('CUSSLER, PHILLIP JR.', 11), ('MCKENZIE, SCARLETT', 11), ('BEYNON, DR. BRADLEY', 11), ('PSIREN', 11), ('CRAWFORD, GEN.', 11), ('CLAYBORNE, REGINA', 11), ('TUMBLER/JOHN ROBERT', 11), ('TERROR/LASLO PEVELY', 11), (\"L'KLEKK'TAK\", 11), ('BARTLETT, STU', 11), ('DOMINUS II', 11), ('DIETZ, SUSAN', 11), ('JOHNSON', 11), ('RYKER, GENERAL', 11), ('MR. SCRATCH II/BLISS', 11), ('MISS ITCH/BLISS', 11), ('GERASI, MARY ROSE', 11), ('CATHERWOOD', 11), (\"N'GAMI\", 11), ('LOHAN, PETER', 11), ('GARCIA, REV.', 11), ('ECLECTA/', 11), ('PYRON/', 11), ('MALOVICK/', 11), ('SLOAN, ANNA', 11), ('CONTONI, PAUL', 11), ('THUMPER', 11), ('SEER', 11), ('NOTE', 11), ('ZANE, DONOVAN', 11), ('MASTER MAN II/ALEXAN', 11), ('THOMAS, DR. STAN', 11), ('THOMAS, IDA', 11), ('MINXI [INHUMAN]', 11), ('STALKING FOX', 11), ('SANDHURST, VINCENT', 11), ('GARRISON, DR.', 11), ('HUMAN ROBOT', 11), ('GORILLA-MAN', 11), ('VENUS II', 11), ('LIGHTNINGBOLT II/RAN', 11), ('MULDOON, TEXAS JACK', 11), ('TRASK, RAYMOND', 11), ('RAYMOND, HENRY/ADAM', 11), ('TITHE COLLECTOR', 11), ('WOLFGANG', 11), ('WILD ONE', 11), ('ETZION, GENERAL', 11), ('TAL, GENERAL', 11), ('CHASE, TREVOR', 11), ('BROWSER', 11), ('RETREAD', 11), ('FIREBRAND III/RICHAR', 11), ('WEED', 11), ('BENTLEY, MILES', 11), ('OUTLAW/NIGEL HIGGINS', 11), ('RAPIDO', 11), ('CHIMERA/ZUHN', 11), ('SCOTT, JAKE', 11), ('SENTRY 571', 11), ('SNOW, VICTORIA', 11), ('SMITH, DR. ARMSTRONG', 11), ('KHYBER/', 11), ('GROUNDHOG/SEAN BENAR', 11), ('SAINT ELMO', 11), ('STITCH/', 11), ('SMART ALEC/ALEC THOR', 11), ('LANGFORD, DR. DAVID', 11), ('ELECTRYON', 11), (\"RY'LOR\", 11), ('ASTARTE', 11), ('GRIEFSAVOR', 11), ('YGMLOSVORRAICH', 11), ('MOTHER-OF-PAIN', 11), ('BAKER', 11), ('ABEL', 11), ('CHARLIE', 11), ('FALK, DR. JENNIE', 11), ('TOL-NOK', 11), ('MASTON-DAR', 11), ('THERNON', 11), ('KRUSH', 11), ('TARNOK-KOL', 11), ('KITANG', 11), ('SIGMAR', 11), ('PELIALI', 11), ('SHAARA, MR.', 11), ('SHAPANDER, KARIMA', 11), ('SHAARA, MRS.', 11), ('SHAARA, SANJIT', 11), ('VOLKHVY', 11), ('RENKO, DR. IRENO', 11), ('BROKER', 11), ('SKEWER', 11), ('ZOM', 11), ('BRANSON', 11), ('SHARK/', 11), ('RU', 11), ('BORROB', 11), ('FUSION/MARKLEY', 11), ('BARKER', 11), ('EARLE, CARYN', 11), ('NOVA III/FRANKIE RAY', 11), ('RATLIFF, OFFICER LAR', 11), ('COLLECTIVE MAN II', 11), ('NUWA', 11), ('MENDELSON, DR. MACK', 11), ('SENSO', 11), ('NUMBER ONE FAN/PROF.', 11), ('HUNT, ROBERTA', 11), ('DIZZIE', 11), ('ZELIG, LON', 11), (\"O'MEARA, KATHLEEN\", 11), ('CHALMERS, MR.', 11), ('DR. PHOBOS', 11), ('ZEITGEIST, NICOLA', 11), ('WILD BLOOD', 11), ('TAE', 11), ('STERIXIAN, LOATIA', 11), ('PENNSU', 11), ('STERIXIAN, ALMONNAS', 11), ('KRONITT', 11), ('DESAK/DESAK STERIXIA', 11), ('STYGE, REV.', 11), ('WOODS, TIMOTHY', 11), ('WOODS, MIRANDA', 11), ('PEARSON, AUBREY', 11), ('GIRABOOR', 11), ('FLORES, SHANICE', 11), ('FLORES, DAHLIA', 11), ('MARISSA (OF GENE-TEC', 11), ('WALTERS, CHAP', 11), ('DEGANN, KRIS', 11), ('KLEB, ROSA', 11), ('SPETSBURO, GEN. YURI', 11), ('ALPHA', 11), ('JIOMO', 11), ('LEOPOLD, ARCHER', 11), ('STYGLUT/', 11), ('BLACK TARANTULA/LAMU', 11), ('PILEDRIVER', 11), ('HOARD, JOSH', 11), ('RIDGEWAY, DAWN', 11), ('JERICHO, JUSTINA', 11), ('KALIN KARTH KITH', 11), ('JERICHO, DUNCAN', 11), ('HANCOCK, CALISTA', 11), ('MOSES', 11), ('DIBBS, LIONEL', 11), ('PARKS, JUDITH', 11), ('YOUNG, AGNES', 11), ('BLACK, CAL', 11), ('YOUNG, MR.', 11), ('YOUNG, LOUISE', 11), ('TILTON, ROLAND R.', 11), ('BELLADONNA', 11), ('SISTER SOPHIA', 11), ('BROTHER CAESAR', 11), ('KEATON', 11), ('KERIVAK', 11), ('ASHUR', 11), ('LOBO III', 11), ('LIN, PAULA', 11), ('MOOT', 11), ('BULLSEYE | MUTANT X-', 11), ('MUSTANG/', 11), ('KOJIRO', 11), ('BLOOD SPIDER/', 11), ('JAGGED BOW/', 11), ('DEATHSHIELD/', 11), ('HOLKAR, DR. SHYAM', 11), ('HAVERSHAW, JASON', 11), ('HAVERSHAW, ANDREA', 11), ('SKULL-JACKET', 11), ('MURPHY, SEAN', 11), ('CELLANOS, MARCELLA', 11), ('PAYNE, EDWARD', 11), ('PAYNE, MICHAEL', 11), ('QUORUM/', 11), ('MOSH/GLENN', 11), ('OLIVIER', 11), ('GADRIEL', 11), ('BIOHAZARD', 11), ('DORREK II', 11), ('SHELL/', 11), ('ARMSTRONG, ?', 11), ('FLARE/', 11), ('SHOT/', 11), ('STAMPEDE/', 11), ('BOMBADIER/', 11), ('CLASH/', 11), ('CORDITE', 11), ('PELE II', 11), ('STYRAK', 11), ('BORAKU', 11), ('KROTOK', 11), ('EPURER, GISCARD', 11), ('RAZOR/', 11), ('GOLDIELOCKS/', 11), ('BLASTING CAP/', 11), ('LEGS II/', 11), ('LUCAS, JAMES', 11), ('BARRANCO, MARIA ESME', 11), ('SIEGE/JOHN KELLY', 11), ('PEACEKEEPER/JOSHUA', 11), ('BLACKWULF', 11), ('WAGNER, ERNIE WHACK', 11), ('ZANIAC/BRAD WOLFE', 10), ('HOBGOBLIN III/LEFTY', 10), ('SUPREME ONE', 10), ('DEAN, BETTY', 10), ('WHITE DRAGON', 10), ('OXNARD, PHIL', 10), ('REYNOLDS, KATHERINE', 10), ('TYN-DARMUTH', 10), ('GRUX', 10), ('JURIAS', 10), ('HAMMER II/', 10), ('DRAGONUS', 10), ('NYLES, JENNIFER', 10), ('GOTTFRIED, WILLIS', 10), ('ROOSEVELT, FRANKLIN', 10), ('RUSSIAN', 10), ('JONES, WILLIAM', 10), ('RICKMAN, JONATHAN', 10), ('CAPTAIN POWER/DR. CH', 10), ('HAWLEY, PAMELA', 10), ('PINKERTON, PERCIVAL', 10), ('MCGIVENEY, BULL', 10), ('BENNETT, DANNY', 10), ('BENNETT, MITCH', 10), ('SCOTT, PARIS', 10), ('CARDINALE, CARLOS', 10), ('LIPTON, TRENTON III', 10), ('KARLSON, KAREN', 10), ('FERGUSON, ISABEL', 10), ('SALOME', 10), ('SCENE STEALER', 10), ('GORR', 10), ('GREEN, LILA', 10), ('IMPACT/', 10), ('SOUNDBYTE/', 10), ('METALSLASH/', 10), ('LINCOLN, WILLIAM WIL', 10), ('BELL, HERBERT', 10), ('WEST, DALE', 10), ('ROWEN, MIKE', 10), ('ROWEN, CARL', 10), ('POWER, DR. MAX', 10), ('BRAIN CELL/', 10), ('MEME', 10), ('ESTAVES, MARIE', 10), ('ESTAVES, DR. ROSA', 10), ('HATCHET MAN/HACHIMAN', 10), ('JAMEKA', 10), ('SIMPSON, CRASH', 10), ('UNICORN III/', 10), ('JEFFERSON, DR.', 10), ('SLOTOTH', 10), ('LANG, TIMMY', 10), ('GALANNAN, BILL', 10), ('STAPHOS, DR. MONICA', 10), ('MATADOR/MANUEL ELOGA', 10), ('MR. FEAR/ZOLTAN DRAG', 10), ('FITCH/', 10), ('CROSS/', 10), ('LIBRA III/', 10), ('RANIER, MIKE', 10), ('PATTERSON, JACK', 10), ('RAVEN, HELEN', 10), ('RAVEN, MATTHEW', 10), ('TANNEN, VINCENT', 10), ('KENNEDY, LOUISE', 10), ('GUNTHAR', 10), ('CROW, REV. JOSHUA', 10), ('GERHARDT, JOSEPH HEI', 10), ('RILEY, JACK', 10), ('HELLSTROM, VICTORIA', 10), ('TEUTONIC KNIGHT/FRAN', 10), ('THOMAS, KIM HO TWAE', 10), ('ATOM SMASHER/', 10), ('HAMMER/LEROY JACKSON', 10), ('ANVIL/JOHNNY ANVIL', 10), ('FLAME II', 10), ('FILLMORE, SHERIFF DO', 10), ('MINT JULEP', 10), ('RATTACK', 10), ('SABRE', 10), ('SCHUYLER, DR. REBECC', 10), ('BRIGGS, AGENT', 10), ('FORTUNATO, MARY', 10), ('FORTUNATO, JAMES', 10), ('ADRIA', 10), ('KOWALSKI, TRISH', 10), ('MONGU', 10), ('MARSHALL, GRANT', 10), ('DELAZNY, DORIAN', 10), ('DR. VAULT', 10), ('BUTTONS', 10), ('SCALEFACE/', 10), ('TAKAHASHI, REI', 10), ('PETRIE, JUDGE RICHAR', 10), ('NOVA 0:0', 10), ('EXALTED ONE', 10), ('REANDEAU, DR.', 10), ('SPANKER/FRED HOVEL', 10), ('BLACK HOLE/MORTON KI', 10), ('DR. ANGST/FLOYD MANG', 10), ('TILLIE THE HUN/MATIL', 10), ('SITTING BULLSEYE/', 10), ('CHAUFFARD', 10), ('AFTERLIFE', 10), ('BOWDEN, DENNIS', 10), ('SANGRE/JULIA CONCEPC', 10), ('WILDSTREAK', 10), ('WHITE DRAGON II', 10), ('YELLOW CLAW ROBOT', 10), ('MALONE, JULIUS', 10), ('KESTRUS', 10), ('DANIA', 10), ('CORONER', 10), ('FOGG, ARCHIMEDES ARC', 10), ('RINTRAH DOPPELGANGER', 10), ('BOUNCER', 10), ('BLISS', 10), ('TRAVELER', 10), ('FORD', 10), ('ROMAN, DR. NILES', 10), ('SYPHONN', 10), ('DEVOOR, ALBERT', 10), (\"SHYM'R\", 10), ('BAV-TEK', 10), ('HAV-ROGG', 10), ('MARISTA', 10), ('RYNDA', 10), ('AGON', 10), ('CARLTON, JAKE', 10), ('CARLTON, LUCY', 10), ('WILLIAMS, NILES', 10), ('ADAMS, CONGRESSMAN H', 10), ('SMASHER II', 10), ('ROTH, DR. GERALD', 10), ('CHTYLOK', 10), ('TOWNSEND, CHRIS', 10), ('GRIMM, PETUNIA PENNY', 10), ('NETTLES', 10), ('CHAMBLISS', 10), ('MUNSON', 10), ('PET', 10), ('KRAGAR', 10), ('KILLDRAGON, HARMONY', 10), ('VITCHEN', 10), ('NUGENT', 10), ('CODY', 10), ('MEGA MAX/', 10), ('CROWE, GERONIMO', 10), ('MINI MAX/', 10), ('CARGO', 10), ('HARDWIRE/', 10), ('PIGSKIN/', 10), ('VANCE REBUS/', 10), ('RECKLESS ERIC/', 10), ('CORONA/DAGNY FORREST', 10), ('FORRESTER, DR. CEDRI', 10), ('MONSTER FROM THE LOS', 10), ('ELAMRON', 10), ('FREDD', 10), ('GABRIEL III', 10), ('HECK, DON', 10), ('ROMITA, JOHN', 10), ('TRIMPE, HERB', 10), ('SEVERIN, MARIE', 10), ('HARRIS, BERNARD', 10), ('MICO, RODOLFO', 10), ('BOSCO, ELAINE', 10), ('GOG II', 10), ('MAGOG', 10), ('UNA', 10), ('CHALMERS, CYNTHIA', 10), ('GRID', 10), ('VIDAR', 10), ('DANGOR', 10), ('OCCULUS', 10), ('LANDA', 10), ('CANE/', 10), ('ROC/', 10), ('STILETTO II/', 10), ('TEQUILA/', 10), ('COMBAT/', 10), ('GAROTTE/', 10), ('SILENCE/', 10), ('ZOLA, ARNIM II', 10), ('FIREFIST II/', 10), (\"X'HOSS\", 10), ('MILLENNIUM MONARCH', 10), ('DOOMSDAY MAN II', 10), ('KANGAROO/FRANK OLIVE', 10), (\"D'ALEXIS, AMBER\", 10), ('MERRIAN', 10), ('TRICKSTER', 10), ('TIAMAT', 10), ('THAIS', 10), ('VARGAS', 10), ('VERSCHLAGEN, FRAU', 10), ('BLINK/FERGUSON, CLAR', 10), ('BIGGERS, MELVIN', 10), ('SOTO, BERNARD', 10), ('STEWART, MARY', 10), ('YOUNG, LAWRENCE', 10), ('MINDMELD/', 10), ('CLEARCUT/', 10), ('BANNERJEE, DR.', 10), ('SEDNA', 10), ('ATLAS III', 10), ('DEADLY DORIS', 10), ('PILGRIMM', 10), ('PROSPERO, DR./HARPER', 10), ('PLASMA WRAITH', 10), ('SHIN', 10), ('FRANKIE THE FISH', 10), ('AUTOLYCUS', 10), ('JUDGE KRAY-TOR', 10), ('SAPIR, HERSCHEL', 10), ('DENNAGER, MICHAEL', 10), ('MASTERMIND V', 10), ('SHALAK', 10), ('KO-GAR', 10), ('FISHER, PROF. FRANCE', 10), ('LAO-TSE, GEN.', 10), ('RIFKIN, MARJORIE', 10), ('CADAVER', 10), ('CORDOVA, JUAN', 10), ('WANG, LI', 10), ('PLAZM', 10), ('GIN GENIE/BECKAH', 10), ('BATTERING RAM', 10), ('ZEITGEIST II/AXEL CL', 10), ('LA NUIT', 10), ('SLUK', 10), ('RACAL, CONSTANTIN', 10), ('KONO', 10), ('CINDER/', 10), ('ANIMATOR II/', 10), ('BURNING PUDDLE', 10), ('KANE, SUGAR', 10), ('MISTER CLEAN', 10), ('MISS SACCHARINE', 10), ('CYCLOPS II', 10), ('HARMONY', 10), ('JILLETE, RANDI', 10), ('JENKINS, WALTER', 10), ('DENNEHY, ROBERT', 10), ('STEELE, SIMON/WOLFGA', 9), ('STAR THIEF II', 9), ('MACE', 9), ('PULASKI, JOSEPHINE J', 9), ('VON FRANKENSTEIN, BA', 9), ('CALLAGHAN, JAMES', 9), ('FRASER, DET. KATE', 9), ('CYCLOPS 2013', 9), ('NIGHTCRAWLER 2013', 9), ('BEAST 2013', 9), ('ANGEL 2013', 9), ('SUNDRAGON/PAMELA DOU', 9), ('SMASHER III', 9), ('FIREFALL III/ARCHIE', 9), ('ULTRON 2010', 9), ('WONDER MAN 2010/SIMO', 9), ('EXECUTIONER V', 9), ('BENDIX, DR. ALBERT', 9), ('FREDERICKSON, KOLINA', 9), ('GLITTER/', 9), ('BLUR', 9), ('ANTIBODY', 9), ('CAPTAIN MANHATTAN', 9), ('PEARLA', 9), ('GOMURR', 9), ('TAR', 9), ('COSMIC MESSIAH', 9), ('FLEMING, PHILIP', 9), ('MCBRIDE, BEATRICE', 9), ('FROH', 9), ('LOGA', 9), ('BRUNNHILDE/MCM-XLI (', 9), ('DONAR', 9), ('HINDS, PATRICK', 9), ('MR. MOBIUS', 9), ('THAMES, SERIPHA', 9), ('HELLSTORM DOPPELGANG', 9), ('KABALLA', 9), ('TENNYSON, JACOB', 9), ('ROGERS, CAPT. STEVEN', 9), ('BLOCKBUSTER/', 9), ('AUNTIE FREEZE/', 9), ('LAU, KING', 9), ('FAROUK', 9), ('DAVIS, ABBY', 9), ('NOCTURNE II/ANGELA C', 9), ('DAGDA', 9), ('BLACK, CYRUS', 9), ('PUSHKIN, IVAN', 9), ('SICKLE II/', 9), ('HAMMER IV/', 9), ('PENDRAGON, ARTHUR', 9), ('YUAN, ANNIE', 9), ('DRAKE, MALCOLM', 9), ('HOLY/FATHER HECTOR R', 9), ('MEACHUM, HAROLD', 9), ('LIZARD II', 9), ('HAVOK | MUTANT X-VER', 9), ('TENG, NIKKI', 9), ('SIROCCO', 9), ('AMINEDI', 9), ('BLACK RAAZER/', 9), ('VEIL', 9), ('NULLITRON', 9), ('WALDERS, BEATRICE', 9), ('WONG CHU', 9), ('RYKER, LUCY', 9), ('FLUX/PRIVATE BENNY T', 9), ('HACK/', 9), ('BUCHETTO, SALVATORE', 9), ('KORREK', 9), ('LANG, ALLISON', 9), ('GOLEM/JACOB GOLDSTEI', 9), ('MARX, DR.', 9), ('MOORE, TONI', 9), ('BARRON, RICK', 9), ('STRONGARM II/ARMSTRO', 9), ('WHITE, PROFESSOR', 9), ('TANNEN, PAUL', 9), ('MAJOR MAPLELEAF/LOUI', 9), ('ARMAZIEL', 9), ('PORTER, KIM', 9), ('SAMMAEL', 9), ('DAVIS, PRINCIPAL', 9), ('DE LA JOYA, SISTER M', 9), ('HARRAS, BOB', 9), ('KNIGHT, LEO', 9), ('WARLORD', 9), ('WALRUSS', 9), ('JAKES, JUDSON', 9), ('LYLLA', 9), ('UNCLE PYKO', 9), ('JONES, ARMAND', 9), ('KALE, NAOMI', 9), ('REVELATION II/', 9), ('HARRISON, COL. EDWAR', 9), ('BASILISK II', 9), ('GRIFFIN III', 9), ('KEEPER OF THE COMICS', 9), ('RIDGE, CHRISTINA DEV', 9), ('CLAYTON, KATRINKA JA', 9), ('THERMO/DR. WALTER MI', 9), ('ATOM SMASHER II/', 9), ('ARMADA', 9), ('DANTE', 9), ('CHAN, SARAH', 9), ('MARLOWE, STEVE', 9), ('BARBAROSSA, MARIO', 9), ('SOMERS, KATHY', 9), ('MARLOWE, STEVE JR.', 9), ('MAUVIUS', 9), ('MORRISON, AMANDA PAY', 9), ('MORRISON, JESSICA', 9), ('DE LA SPIROSA, COUNT', 9), ('YOUNG, MAX', 9), ('BUCKMAN, EDWARD', 9), ('BRADDOCK, JOHN', 9), ('VIENNA', 9), ('CARETAKER', 9), ('PSI-WOLF/NIKOLAI VON', 9), ('IDNAR', 9), ('NAIP, SYNTHIA', 9), ('GATTLING/', 9), ('CROMWELL, HAMILTON', 9), ('YEE, WAI CHEE', 9), ('VON DOOM, CYNTHIA', 9), ('DIEGO, MANUEL', 9), ('TAREVA', 9), ('GLOB/DR. SUMNER BECK', 9), ('PAPA GRANITE', 9), ('VOGEL', 9), ('WHEELER', 9), ('RAZORFIST ROBOT', 9), ('SMITH, HELEN BACK', 9), ('SMITH, ANDY', 9), ('REBO', 9), ('WEALS, MELVIN J.', 9), ('DRISCOLL, MAYOR', 9), ('NIRA', 9), ('RIESER, ROB', 9), ('BROOKS, ANNA', 9), ('GOONER, MELVIN', 9), ('GROVES, GEN. MCALLIS', 9), ('BERSERKER', 9), ('COLLINS, EMMA', 9), ('MALTZ', 9), ('ARMAND', 9), ('SEWARD, ANNE', 9), ('SEWARD, DR. CHARLES', 9), ('SEWARD, ELISABETH', 9), ('SEWARD, JANE', 9), ('FLORESCU, ANTON', 9), ('PENNINGTON, AUDRA', 9), ('FALLON, HOWARD', 9), ('UNSEEN/UNAM', 9), ('BREAKER/RAAK', 9), ('MAGNOR', 9), ('GRANITOR', 9), ('CRIME-MASTER/NICK LU', 9), ('DEATHTOLL', 9), ('INSOMNIA/', 9), ('BRINKE, NIOMI', 9), ('DR. MIDAS/', 9), ('CITYDWELLER/JERRY |', 9), ('PROFESSOR X | EARTH', 9), ('THOR | EARTH 253', 9), ('HATORI, DESMOND', 9), ('WEYING, ANN', 9), ('MAN-OF-WAR', 9), ('UNDERTAKER/CONRAD EI', 9), ('COFFIN, WARDEN JOHNS', 9), ('RAVENWOOD', 9), ('FIELDER', 9), ('SAMSON', 9), ('HULK IV', 9), ('RYDER', 9), ('MOONSTOMP/', 9), ('DICE/ROB FORTUNE', 9), ('RIOT/HEIDI SLATKIN', 9), ('CATWALK/KIMBERLY DEE', 9), ('KUROV, WASSILY', 9), ('RAMOS, MANUEL', 9), ('VISALIA', 9), ('WENDIGO V/ANDRE', 9), ('SHADOWKNIGHT/RANDALL', 9), (\"K'RIN\", 9), ('INNOCENT', 9), ('MCCORMICK, FIONA', 9), ('TREVANI, DANIKA', 9), ('DELGADO, LUZ', 9), ('LIN, MEI', 9), ('KILLER CLOWN', 9), ('SCARLET SCARAB/DR. F', 9), ('LOPEZ, JOSE', 9), ('GANNON, SGT. FRANK', 9), ('SAGE, HENRY', 9), ('LOPEZ, SALMA', 9), ('LOPEZ, ANTONIO', 9), ('LOPEZ, MARIA', 9), ('DR. ZEUS', 9), ('MEDUSA II', 9), ('MINOTAUR III', 9), ('SPHINX III', 9), ('HARPY II', 9), ('CERBERUS II', 9), ('MAJOR LOVE', 9), ('CAIRN, DET.', 9), ('MORETTI', 9), ('MILLENIUS', 9), ('RAMAN', 9), ('QUIET BILL', 9), ('MICHELLE', 9), ('GANNON, RICH', 9), ('GOULDING, DR.', 9), ('VAN NUYS, PROF. RODE', 9), ('LESTRADE, DR.', 9), ('JASMINE', 9), ('BELLE', 9), ('ANGSTROM, EARL', 9), ('WESTPHAL, SIMON', 9), ('WEAVER, ZEKE', 9), ('BOSHLOVOR', 9), ('JOCASTA II', 9), ('PACE, MICHAEL', 9), ('HARDY, MORGAN MACNEI', 8), ('ZOTA', 8), ('CLEOPATRA', 8), ('DOMINUS', 8), ('ZINOVIEV, IVAN', 8), ('GEORGE, DAVID LLOYD', 8), ('CRANDAL, BEN', 8), ('MANTONE, JORGE', 8), ('DR. SYNNE', 8), ('PYRAKH, COMMANDER', 8), ('NURIL', 8), ('OSHIMA', 8), ('EVERWRAITH/', 8), ('TAKACHIHO, MRS.', 8), ('LUDLUM, ROSS', 8), ('OSWALD', 8), ('HOFFMAN', 8), ('FAGIN', 8), ('ASHER, MICHAEL', 8), ('ORWELL', 8), ('DR. NEMESIS/DR. STOC', 8), ('DIRTY WOLFF', 8), ('FIREFALL/KARAS', 8), ('TYPEFACE/GORDON THOM', 8), ('POPE', 8), ('ASANO', 8), ('DUBOIS, DR. CLAUDIA', 8), ('SYNAPSE/', 8), ('CONCIERGE, LE/', 8), ('CAMBRIDGE, MOXIE', 8), ('SENYAKA, TIA', 8), ('EL CONQUISTADOR', 8), ('MULLANY, MIKE', 8), ('CENTURIUS', 8), ('WERNER, P.D.Q.', 8), ('WEISS, KONRAD KONNIE', 8), ('RAVAGE/PROF. GEOFFRE', 8), ('ROSE III/', 8), ('WALSH, CAPT. ALEXAND', 8), ('VON RICHTOFEN, LT. M', 8), ('GNUCCI, MA', 8), ('CREEP/', 8), ('DESTINY/PAUL DESTINE', 8), ('PEREZ, DET. CECILIA', 8), ('EPSTEIN, MRS.', 8), ('BAYLOR, FRANK', 8), ('MCMURRAY, YVONNE', 8), ('EPSTEIN, MORRIS', 8), ('CLINTON, CHELSEA', 8), ('ROGERS, W.T.', 8), ('MAESTRO', 8), ('DEANGELO, DEVLIN', 8), ('ELITE/', 8), ('BUMPO, MR.', 8), ('MR. PAYBACK/', 8), ('ATOM-SMASHER/', 8), ('MONSTROID/BALIOX/7NH', 8), ('GANYMEDE', 8), ('OLALLA', 8), ('HINKLEY', 8), ('RAZORFIST II', 8), ('BLISS, BONNIE', 8), ('AZURE', 8), ('DHEREK', 8), ('CALKIN, SUSAN', 8), ('HOYT, TONY', 8), ('TURMOIL', 8), ('URTHONA', 8), ('BLUE BULLET/PROF. JO', 8), ('LIVING ERASER', 8), ('CHAPMAN, GEN. ULYSSE', 8), ('FLUFFY', 8), ('EPSTEIN, PROF. NORA', 8), ('VEGA, ROBIN', 8), ('STALIN, JOSEF', 8), ('MCBRIDE, MARTHA', 8), (\"KALADAR [SHI'AR]\", 8), ('ZOOG [KYMELLIAN]', 8), (\"BLOODWING [SHI'AR]\", 8), ('LOPEZ, ANGELA', 8), ('VICTORIUS/PROF. VICT', 8), (\"DEATH'S HEAD\", 8), ('SISTER MARIA', 8), ('ANAIS', 8), ('STRANGE', 8), ('EPHESUS', 8), ('SOTEIRA', 8), ('ARCTURUS', 8), ('BLAIR, CALEY', 8), ('SORROW/', 8), ('IKARYS', 8), ('ARVAK', 8), ('MR. DEATH', 8), ('WEISENTHAL, DR. JONA', 8), ('DRUMM, COLLETTE', 8), ('T', 8), ('BLOK', 8), ('MR. X', 8), ('A', 8), ('OTHER II', 8), ('FUJIKAWA, KENJIRO', 8), ('WRANGLER II/EMILY DO', 8), ('HARVEY, SUE', 8), ('MCKNIGHT, BOB', 8), ('RAMOS, ROGER', 8), ('AKUTAGAWA, OSAMU', 8), ('MADAME ROSE', 8), ('DARK ONE', 8), ('KARMA 2013', 8), ('CAPTAIN BRITAIN 2013', 8), ('WISDOM, PETE 2013', 8), ('MEGGAN 2013', 8), ('WOLFSBANE 2013', 8), ('DOUGLOCK 2013', 8), ('PSYLOCKE 2013', 8), ('TANGERINE 2013', 8), ('FARGO, FLAGG', 8), ('CY-PHYRR 4', 8), ('TENEBRAE', 8), ('THINGEE', 8), ('GALE, SHERIFF', 8), ('LILLIAN, BEA', 8), ('NUTT', 8), ('FILLMORE, BETTY', 8), ('FILLMORE, GARRET', 8), ('BENNY, JAKE', 8), ('DOCTOR, DR. JOSHUA', 8), ('FOGELSTROM, HIRAM', 8), ('HALLOWEEN JACK', 8), ('LOCKHART', 8), ('DEATHRAVEN/JOSHUA RA', 8), ('LANGTREE, GINA', 8), ('DESOLATION/', 8), ('LAMENT/', 8), ('REQUIEM/', 8), ('DIRGE/', 8), ('VAVELLA', 8), (\"LYTH'KA, COMMANDER\", 8), (\"MYLZOB'RYN, CHIEF\", 8), ('NASH, SABRINA', 8), ('NASH, JOHN JOHNNY TH', 8), ('BRAHAMS', 8), ('SUPER-ANDROID F-4', 8), ('THORPE, LUKE', 8), ('PATCHWORK/KYLE BARKE', 8), ('GEIGER/DELILAH DEEDE', 8), ('SHARP, TRINA', 8), ('KAISHEK, KIA', 8), ('MIFUNE, DR.', 8), ('FENTON, BARNEY', 8), ('JENSKOT/ALIYA', 8), ('GANGER, CARMEN', 8), ('MCCULLOUGH, DR. ANDR', 8), ('WILLIFORD, BRENT', 8), ('PIKE, FRISCO', 8), ('GRAZIA, VINCENT VINN', 8), ('GATZ, WILLIAM BILLY', 8), ('VENOMM', 8), ('KING CADAVER', 8), ('DANVERS, JOE', 8), ('GAULTHING, ANDERSON', 8), ('ANSWER II/DAVID FERR', 8), ('SISTER PERPETUA', 8), ('WATCHDOG', 8), ('VOID', 8), ('MINOTAUR', 8), ('SOMERS, JOHNATHAN', 8), ('SEVILLE, STACY', 8), ('BARKER, MATTHEW T.', 8), ('CHECK', 8), ('TECHNOCRAT/RANDY', 8), ('NIGHTFIGHTER/', 8), ('WHITE BIRD/AMARA', 8), ('BARTON, SEN.', 8), ('WRECKER/DR. KARL KOR', 8), ('RICHMOND, DELROY', 8), ('MCPHAIL, NATALIE', 8), ('BECKLEY, BENNY', 8), ('BLOODHOUND/', 8), ('MODEM/', 8), ('KRAFT, DONNA', 8), ('STACY, HELEN', 8), ('VOR/TEX', 8), ('DRACCHISS', 8), ('TULL', 8), ('WILLIAMS JOHN', 8), ('REYNOLDS, DR.', 8), ('DEPALMA, MR.', 8), ('ECCE [WATCHER]', 8), (\"B'KOSA, GEN. JONATHA\", 8), ('ARSENAL II', 8), ('MONTANA II', 8), ('THOMAS, JEANIE', 8), ('VIBRAVORE', 8), ('CANDLER, OWEN', 8), ('SUMMERS, DEBORAH', 8), ('SUMMERS, PHILIP', 8), ('KAREL', 8), ('TU', 8), ('KEERG', 8), ('KALI', 8), ('PARRISH, MAX', 8), ('BRANDEIS, CAMMY', 8), ('ST. GERMAINE, COMTE', 8), ('MARIK', 8), ('BARROWS, WALTER', 8), ('WU, SONIA', 8), ('HYPNO-HUSTLER/', 8), ('SHIVA', 8), (\"HETH'SA\", 8), ('FITZGERALD, KENNY', 8), ('COPPERHEAD IV/', 8), ('ABBOTT, JACK', 8), ('KITAGOWA, DR. KITTY', 8), ('FRANKENSTEIN, BASIL', 8), ('CARR, DAN', 8), ('CARLY', 8), ('BEAR/', 8), ('VANE, ROGER', 8), ('WATSON, TOMMY', 8), ('UGLY JOHN/STEVE', 8), ('MS. NOVA', 8), ('TRASK, DR. DONALD TR', 8), ('FUTURIST', 8), ('VULTURE III/DR. CLIF', 8), ('PROGENITOR', 8), ('WENTWORTH, JENNIFER', 8), ('TALISMAN III/NAHITA', 8), ('TABULA RASA', 8), ('ANTI-VISION', 8), ('MCCORMICK, BARRY', 7), ('CAESAR, JULIUS', 7), ('KRAGG, GEN.', 7), ('INFINITY THRALL', 7), ('SHE-WOLF/PAULETTE BR', 7), ('HALDEMAN, CALVIN', 7), ('ASHER, DONNA', 7), ('ASHER, CARL', 7), ('PARKER, HORACE', 7), ('JUNIPER, JONATHAN JU', 7), ('CASEY', 7), ('STELLARAX', 7), ('RAVEN, SABBATH', 7), ('PACKER, ARTIE', 7), ('HOUSE OF SHADOWS', 7), ('SERPENTYNE', 7), ('MANX', 7), ('DAWN', 7), ('DUSK III', 7), ('BARRIER/', 7), ('THUNDERBOLT II/LUIS', 7), ('KUROYAMA', 7), ('AMERICAN SAMURAI/', 7), ('DARKOVER, PROFESSOR', 7), ('CRAZY EIGHT/LESLIE A', 7), ('SHARYD/CONAL', 7), ('SHIPPINSKY, MALIK', 7), ('DEATH STING/MIRANDA', 7), ('LOBO II', 7), ('JORNICK', 7), ('CROSS, HAROLD', 7), ('LULLABY/FELICITY HOP', 7), ('LOVEJOY, FRANKLIN', 7), ('WALRUS', 7), ('GROSS, IRA', 7), ('PATILIO, MARIE', 7), ('TOMAZOOMA II', 7), ('WINGFOOT, WYATT II', 7), ('BRASS/SEAN WATANABE', 7), ('WATANABE, YUJI', 7), ('KALUU', 7), ('FACE/COL. EISEN', 7), ('CRIMSON DYNAMO VIII/', 7), ('KRANG II', 7), ('TITANIUM MAN III/BOR', 7), ('RADIOACTIVE MAN II/D', 7), ('WHIRLWIND II/DAVID C', 7), ('BLACK KNIGHT VI/PROF', 7), ('MELTER II/BRUNO HORG', 7), ('MORAN, KEVIN', 7), ('GORN', 7), ('MAXXAM', 7), ('POWDERKEG II', 7), ('MONTGOMERY, SIR BERN', 7), ('NOMAD II/EDWARD FERB', 7), ('VIGILANT/PSTUN-RAGE', 7), ('AMERICOP/', 7), ('SANADA, KONO', 7), ('ITOBU, DR. JOSHUA', 7), (\"M'KAMBA\", 7), (\"N'GASSI\", 7), ('ALIOTH', 7), ('REVELATION', 7), ('CROSSBOW', 7), ('ICONOCLAST', 7), ('UNICORN II/', 7), ('OUTRIDER II/MARTIN Z', 7), (\"K'AD-MON\", 7), ('SPAULDING, JILL', 7), ('OTOMO', 7), ('BONITA', 7), ('NUNTOO', 7), ('PAKAI', 7), ('TAKAR', 7), ('TAREE', 7), ('MANTLO, BILL', 7), ('NEUROTAP/MICHELLE BA', 7), ('HANRANSHA/ASAHI', 7), ('AVRIL, YVETTE', 7), ('TUATARA/COMMANDER AR', 7), ('DABUTA, NIGEL', 7), ('HAUPTMAN', 7), ('LA BANDERA', 7), ('SPORE', 7), ('GEIST', 7), ('ADAMS, MARTHA', 7), ('ADAMS, GEORGE', 7), ('LOVECCHIO, ARGUS', 7), ('SCRIPPS, LAHOYA', 7), ('SPLICE II/', 7), ('SHANE, BRIDGIT', 7), ('NITAL, DR.', 7), ('CARPATHIAN, ANDREW', 7), ('JESSUP, DR.', 7), ('HORTON, DOUGIE', 7), ('PRIMO, ALEXIS', 7), ('SPIRAL II/ESTELLE GE', 7), ('RAZORFIST IV/MARCO S', 7), ('PAVANE', 7), ('SHOCKWAVE ROBOT', 7), ('DREAMGUARD/DEPUTY WI', 7), ('MUNDY, SHANE', 7), ('ORPHAN', 7), ('GLEEG', 7), ('LUDI', 7), ('WENDIGO/PAUL CARTIER', 7), ('ANGKOR', 7), ('ROCKWALL', 7), ('WORD', 7), ('ULTIMA', 7), ('KAISHEK, HAAN', 7), ('TUPA', 7), ('MARTINEZ, MR.', 7), ('MARTINEZ, AKASHA', 7), ('STITHY, THEODORE', 7), ('WALKER', 7), ('OLAFSON, ERIC', 7), ('INTELLIGENTSIA', 7), ('YORK, SANDY', 7), ('HURRICANE II', 7), ('STAHL, VERONICA', 7), ('DOCTOR MANDIBUS', 7), ('GRIPPO, BILLY', 7), ('MACKENZIE, DR. NEIL', 7), ('BARON MACABRE/', 7), ('LORD KARNAJ', 7), ('MALICE', 7), ('SHADOWCASTER/', 7), ('PARADY, CAPT. RONALD', 7), ('JONES, RICARDO', 7), ('SHOTGUN II/WALKER', 7), ('CARBONE, JULIUS', 7), ('CARBONE, SALVATORE', 7), ('WATANABE, EMMALINE B', 7), ('BATAL/', 7), ('KHOON', 7), ('BAXTER', 7), ('STARK, MARIA CARBONE', 7), ('SCARLOTTI, MICHAEL J', 7), ('SCARLOTTI, MRS.', 7), ('WENDIGO VI/LARRY', 7), ('PRINCESS NEPTHYS/SAN', 7), ('CACHES, FABIAN', 7), ('ESSEX', 7), ('BERNHARD, CLARICE', 7), ('SIMMONS, ARCHIE', 7), ('TOFIELD, FRANCESCA', 7), ('SCHEELE, STEPHANIE', 7), ('KEMPLETON, PROFESSOR', 7), ('SKARLET', 7), ('MASTER TWELVE', 7), ('ARROW', 7), ('RASPUTIN, LUCIFER', 7), ('LITTLETREE, LINDA', 7), ('DEVILLE, JENNIFER CR', 7), ('DEADMAKER/GREGORI AN', 7), ('TOLLIVER, EMMA', 7), ('FAZE', 7), ('SCAR THE STALKER/BRI', 7), ('LEASH, MICAH', 7), ('EHMAN, HEIDI', 7), ('BERDITCHEV, ITZHAK', 7), ('TANTRUM/', 7), ('MADSDEN, TREVOR', 7), ('BRANNEX', 7), ('MAN-SPIDER CLONE | M', 7), ('SHREEVE', 7), ('STONE-FACE', 7), ('CHAKA KHAN II', 7), ('KELLEHER, MARY', 7), ('LOBO, LUCKY', 7), ('KAISHEK, GOM', 7), ('EZEKEEL', 7), ('AZAZEL II', 7), ('ARMAROS', 7), ('SARIEL', 7), ('POWDERKEG/FRANK SKOR', 7), ('HOTAMITANIO', 7), ('CALUMET', 7), ('NANABOZHO', 7), ('OWAYODATA', 7), ('RYCHENKO, MAJ. VALEN', 7), ('MANNING, ERIKA', 7), ('PHARAOH KHAFRE', 7), ('ICE WORM', 7), ('GROTTU', 6), ('HEATER DELIGHT', 6), ('DEMITRIUS', 6), ('BETELHEIM, NORMA', 6), ('HALFLIFE', 6), ('LOGOS', 6), ('APPALLA', 6), ('SUZIE', 6), ('NILES, SEN. CATHERIN', 6), ('VESPER', 6), (\"MIND'S EYE/MEACHAM\", 6), ('BACILLUS', 6), ('STRONTIUM-90/', 6), ('CURZON, DETECTIVE IN', 6), ('ROSSIN, DR.', 6), ('DIAMOND, KATHY', 6), ('JORDAN, HAL', 6), ('COLDHEART', 6), ('MACENDALE, JASON JR.', 6), ('MACENDALE, KAREN', 6), ('PEYER, DANNY', 6), ('FULLERTON, MARY ELLE', 6), ('GILMORE, BERT', 6), ('SYNARIO/ANGELA BRADF', 6), ('BLACK MOUNTAIN/KUROY', 6), ('PLASMA/', 6), ('CRIME-WAVE/HOLLIS', 6), ('DUVALL, SNAKY', 6), ('GALVIN, TOMMY', 6), ('MR. FX/', 6), ('BOOKWORM/NELSON GRUB', 6), ('HUDDLESTON, PROF.', 6), ('FOOLKILLER III/KURT', 6), ('DEADEYE/', 6), ('LEVIATHAN', 6), ('BOND', 6), ('KARIMA', 6), ('IRON MAN ARMOR', 6), ('SUN-TAO', 6), ('HO YINSEN', 6), ('SHADOW-HAND/LI CHUN', 6), ('GOLEM III', 6), ('SHEPPARD, JOAN ACE', 6), ('MYCROFT', 6), ('COLLETTE', 6), ('CONROY, KAREN', 6), ('SLADE', 6), ('FIXER/SWEENEY', 6), ('MURDOCK, BATTLING JA', 6), ('OLLSEN, BO', 6), ('CHLOE', 6), ('ACROBAT/CARL ZANTE', 6), ('ROMANOV, MICKEY', 6), ('DARK HUNTER', 6), ('SPIKE', 6), ('SLICK', 6), ('PAIN', 6), ('RAINTREE, VIVIAN', 6), ('HOLDSWORTH, PARKER', 6), ('DUNLEAVY, GEN. ARLEN', 6), ('SOULFIRE/JASON MALDO', 6), ('RILEY, MARIEL', 6), ('RILEY, KIM', 6), ('BROTHERS GRIMM', 6), ('ENCHANTER', 6), ('HOLLISTER, SHERIFF', 6), ('CALLAHAN, MIKE', 6), ('OSBORN, EMILY', 6), ('DOMINO', 6), ('CRUSHER/EL PROFESSOR', 6), ('KURRGO', 6), ('ROBERTSON, PROF. BOB', 6), ('WESSEL, HARRY', 6), ('STANLEY, TOM', 6), ('GEESEY, KARL', 6), ('CLARIS, SVEN', 6), ('SANDY', 6), ('ROSE, MICHKA', 6), ('POTTS, VIRGINIA PEPP', 6), ('GUINNESS', 6), ('PARSON/', 6), ('CROSSBONES II/', 6), ('HATE-MONGER II', 6), ('MORDO, ASTRID', 6), ('GLITCH/CHARLES J. AM', 6), ('METOXO', 6), ('WHYTEOUT/STUART ANTH', 6), ('VIRTUAL REALITY', 6), ('LO, JIMMY', 6), (\"D'KAY\", 6), ('SHAW, ESAU', 6), ('SHAW, JACOB', 6), ('SHRINE', 6), ('CELESTE', 6), ('GALTUS', 6), ('ELECTRA', 6), ('RAKESH', 6), ('KHAT', 6), ('SAMA-D', 6), ('BRAHMANES', 6), ('HUNGYR', 6), ('HARRIER', 6), ('COMMANDER BLAZE', 6), ('MILLER, JENETTE', 6), ('REVER, BRAD', 6), ('WEASON, SENATOR', 6), ('DUNER, MAJOR', 6), ('HAGER, GENERAL', 6), ('REVER, DAN', 6), ('WARGOD/MORA HAGER', 6), ('BLACK DEATH/DR. IVAN', 6), ('LORD LEADER', 6), ('NINGAL', 6), ('CRIMSON DYNAMO/PROF.', 6), ('PANTHER CUB/', 6), ('MANT/ERNEST', 6), ('SWORDSMAN IV/', 6), ('DARLEGUNG, GEN.', 6), ('AMAZO-MAXI-WOMAN/', 6), ('MISS THING/MARY', 6), ('STERLING', 6), ('PINKERTON, RUDY', 6), ('COPPERHEAD/LAWRENCE', 6), ('HELLSPAWN', 6), ('BAAL II', 6), ('MOBIUS', 6), ('COLD WARRIOR', 6), ('TALOS', 6), ('SKINNER', 6), ('WHISPER II/', 6), ('WARFARE/', 6), ('SWIFT/', 6), ('PULSE II/', 6), ('TRI-SENTINEL', 6), ('MUNOZ, CARLOS', 6), ('SKIN, NYLA', 6), ('LOCKHEED | MUTANT X-', 6), ('JACKKNIFE/JACK COLE', 6), ('RELAY', 6), ('LANDERS, DR.', 6), ('GOLDFARB, AARON', 6), ('VAZIR, DR.', 6), ('P', 6), ('Q', 6), ('KWANNON', 6), ('NZAGA', 6), ('SKUL/JOHN SKULINOWSK', 6), ('SILICON/GERALD SIMMS', 6), ('KID/E.B. FARRELL', 6), ('NAILS II/JOANIE EATO', 6), ('M-80/SAYURI KYOTO', 6), ('BURGOS, CARL', 6), ('DEX', 6), ('MORLUN', 6), ('SIMS, EZEKIEL', 6), ('DON, GAI NO', 6), ('CARRION III/DR. WILL', 6), ('TOLLIVER, MELBA', 6), (\"GRENDEL'S MOTHER\", 6), ('CAPTAIN RECTITUDE', 6), ('ABOMINATRIX', 6), ('IGOE, MAX', 6), ('SCARPETTI, ALPHONSE', 6), ('SILENCER', 6), ('MCKENZIE, LEONARD', 6), ('MARTINEZ, MRS.', 6), ('BRANDEIS, LIZ PARRIS', 6), ('BRANDEIS, PROF. HENR', 6), ('FROST, DEACON', 6), ('CAULDER, SAFRON', 6), ('SECOND/ALECTO', 6), ('DAI-KUMO', 6), ('CARDENAS, PACO', 6), ('CURSON, LT. TARA', 6), ('MELLACE, TONY', 6), ('ALBUQUERQUE, JEREMIA', 6), ('JUSTIN, GLORIA', 6), ('ANGELOPOULOS, ANGEL', 6), ('SEAWEED MAN', 5), ('FRANKENSURFER/BORGO', 5), ('NIGHT PHANTOM II', 5), ('BLOODY MARY', 5), ('ANDERSON, BAXTER', 5), ('MAD VIKING/KNUT CAIN', 5), ('NEPHRI', 5), ('BAAL', 5), ('LEGION', 5), ('DR. STRANGER YET', 5), ('DEMEITYR', 5), ('VERMICELLI, GIANNI', 5), ('MCNAIR, TAD', 5), ('SCYLLA', 5), ('AL-KHALAD', 5), ('TUVO', 5), ('BYRRAH | HEROES REBO', 5), ('BREEGAN', 5), ('PAINE, DR.', 5), ('DOMINO II', 5), ('MASON, JOHN', 5), ('TAUREY, SIR WILLIAM', 5), ('GREEN, JAMES', 5), ('TIERS, MICHELLE', 5), ('ESSEX, REBECCA', 5), ('COMPUTO', 5), ('BLACK MARIAH', 5), ('THREETREES', 5), (\"SSS'LETHCOTT\", 5), ('MCHELE, JEREMY', 5), ('WILSON, DUBOSE', 5), ('HELLER, ERIC', 5), ('NOBLE', 5), ('MR. SCRATCH', 5), ('CRIMEWAVE/', 5), ('MOODY, RUNYAN', 5), ('WHITMAN, PATRICIA', 5), ('DUSK', 5), ('CRITICAL MASS', 5), ('DEZOAN, JOHN', 5), ('BULL', 5), ('FOX, PHIL', 5), ('DIAMONDBACK', 5), ('FISHMAN, DR. JONATHA', 5), ('SAHREED', 5), ('BLACKWOOD, JENNY', 5), ('CAPTAIN UNIVERSE/STE', 5), ('COFFIN, RAY', 5), ('DR. GOODWRENCH', 5), ('EEL III', 5), ('UNDERTOW', 5), ('STAMP, J.Q.', 5), ('PHANTOM EAGLE', 5), ('ECHO/MAYA LOPEZ', 5), ('LEAP FROG/LANG', 5), ('MARKED MAN', 5), ('BRADLEY, JESSICA', 5), ('GONZALEZ, RAYMOND', 5), ('WIGGINS, TRACY', 5), ('EXITAR', 5), ('RYKER, MAJOR SIMON', 5), ('CARTER, SHARON II', 5), ('FURY, NICK II', 5), ('MIRAGE III/MARGE', 5), ('X-RAY II/', 5), ('WILMOTT, DR. KEITH', 5), ('WHITE, JONATHAN', 5), ('DR. HYDRO', 5), ('LORVEX', 5), ('RECOIL/', 5), ('MODINE, REP. BERNARD', 5), ('MR. FEAR V/', 5), ('STEVENS, DR. VINCENT', 5), ('MUMM, MAX', 5), ('CROSS-WALLACE, SIR G', 5), ('OZ, DR. MALACHI', 5), ('MINOTAURUS', 5), ('DOVINIA', 5), ('PINTA', 5), ('LEONINUS', 5), ('THOUSAND', 5), ('PATTON, JESS', 5), ('GAR-TOOM', 5), ('JACK SERIOUS/DR. JOH', 5), ('NOSFERATA/PURPLE HAY', 5), ('AKULIA', 5), ('SUPER-PATRIOT', 5), ('NAILS/', 5), ('BLACKWELL', 5), ('MIDWIFE', 5), ('WORTHINGTON, ELIZABE', 5), ('WORTHINGTON, MAJOR G', 5), ('SHAW, OBADIAH', 5), ('HARKNESS, ABIGAIL', 5), ('SHAW, HIRAM', 5), ('SHAW, SARAH', 5), ('SUICIDE/CHRIS DANIEL', 5), ('GREEN, ARNIE', 5), ('HARR, DR.', 5), ('ZET', 5), ('TYRUS KRILL', 5), ('JEXIA', 5), ('ULARA', 5), ('SURGEON GENERAL/ANGE', 5), ('YAYAUHCO', 5), ('CRIMSON DYNAMO II/BO', 5), ('SPERZEL, ANTON', 5), ('REISS, JACOB', 5), ('BAPTISTE, TANTE MATT', 5), ('STOKER, OLIVIER', 5), ('ANIELLE', 5), ('SYBIL', 5), ('SISTER KATRINA', 5), ('GARM', 5), ('LEVITICUS', 5), ('CURSED LOTUS', 5), ('WILD TIGER/DENG LING', 5), ('WOO, MAI YIN', 5), ('WOO, CHOW YUN', 5), ('HELLFIRE/MIKAL DRAGO', 5), ('MARVEL BOY VIII/NOH-', 5), ('PLEX INTELLIGENCE', 5), ('SOMBRE', 5), ('GRANT, GATOR', 5), ('PULSE/', 5), ('WHISPER/', 5), ('SMASHER V', 5), ('TORPEDO', 5), ('SHAARA', 5), ('JUDE', 5), ('JANUS II', 5), ('PUNISHER/FRANK CASTL', 5), ('AGAMEMNON', 5), ('ACHILLES', 5), ('HECTOR', 5), ('ULYSSES', 5), ('SOMON', 5), ('KOLOMAQ', 5), ('TUNDRA', 5), ('LEESHA', 5), ('IDRIS', 5), ('HASSAN', 5), ('PARETTI, TONY', 5), ('AZOR', 5), ('RAVEN', 5), ('NAMELESS ONE II', 5), ('WINDSTORM/', 5), ('RAZORFIST', 5), ('WARR', 5), ('BROTHER AXE', 5), (\"G'RATH\", 5), ('24-HOUR MAN/EMMANUEL', 5), ('KOLE, MICHELLE', 5), ('HIGGINS, LINDA', 5), ('KOLE, JOHN', 5), ('HIGGINS, RICHIE', 5), ('HIGGINS, JANE', 5), ('TWIT', 5), ('PRETTY LARRY', 5), ('SLAMBEAUX', 5), ('RIPSTER', 5), ('BLACK MORAY', 5), ('DRAGONHEAD', 5), ('KAISHEK, YOLYN', 5), ('FUGUE', 5), ('CARVER', 5), ('CHIANG, PROF.', 5), ('WATKINS, MELODY', 5), ('WATKINS, STEVIE', 5), ('HURDLER, THOMAS', 5), ('BERMAN, ADAM', 5), ('MAHONEY, GINNY', 5), ('ARIANE', 5), ('LEFLER, BOB', 5), ('COWAN, EARL', 5), ('STALKER', 5), ('KHATYLIS', 5), ('ZAKKA', 5), ('SILVERCLOUD, SAM', 5), ('STERNBERG, DR. BERTH', 5), ('SHADOW QUEEN/SHIALMA', 5), ('SILVER FOX/BAYAN', 5), ('CHAKARA, MADAN', 4), ('MOSLEY, WARDEN', 4), ('GELLER, URI', 4), ('LOPEZ, DONNA', 4), ('MARTINS', 4), ('SMITH, DAPHNE', 4), ('DUCHARME', 4), ('BRAINSTORM/', 4), ('KURAGARI', 4), ('KREIGKOPH, GEN.', 4), ('BIZEN', 4), ('MONTENEGRO', 4), ('HONDA, DR.', 4), ('LAYLA', 4), ('TRACER', 4), ('HYPERTRON II/STURDEV', 4), ('HYPERTRON/CHESTER', 4), ('MODULAR MAN/STEPHEN', 4), ('MENDOSA, EMILIO', 4), ('WILDPRIDE/KYLLIAN', 4), ('DR. POWER/DR. MAXIMU', 4), ('PERSEPHONE II', 4), ('LEVIATHAN VI', 4), ('MADDICKS, NADINE', 4), ('TUMOLO, DR. JOANNE', 4), ('MERIDIAN, DR. ROBERT', 4), ('LEIGHTON, BRIAN', 4), ('WESTON, SALLY', 4), ('ADAMSON, JASON', 4), ('ADAMSON, REBECCA', 4), ('LOGAN, WAYNE', 4), ('FLYNN', 4), ('STRINGER, AMY', 4), ('FULLERTON-SMITH, CAS', 4), ('SCRIER JR.', 4), ('HILDEBRANT, DR.', 4), ('THOMAS, BECKY', 4), ('BECKMAN, CHARLES', 4), ('BECKMAN, JOSEPH', 4), ('BECKMAN, SARAH', 4), ('BECKMAN, LISA', 4), ('COPPERSMITH, ALFRED', 4), ('PAVANE II', 4), ('BRAWLER', 4), ('AMPERE/', 4), ('MASTER FOUR', 4), ('KASEMA', 4), ('DE LA SALLE, BEATRIC', 4), ('LUCIFER, REV.', 4), ('MADAME SLAY', 4), ('KASTYX', 4), ('BLANDING, HALEY', 4), ('BLANDING, ANDREW', 4), ('BLANDING, MRS.', 4), ('VINYL, MILO', 4), ('STRIKER', 4), ('SLAUGHTER', 4), ('SUNDANCE', 4), ('NICHOLS, LORNA', 4), ('BREWER, DR. MELINDA', 4), ('MANNING, JANICE', 4), ('LOOPNER, LEXINGTON', 4), ('KANE, LARRY', 4), ('DAMAGE', 4), ('RIP', 4), ('PHILIPS, PHILIP', 4), ('GAMMA-BURN/', 4), ('HAMILTON, PAUL', 4), ('PIRANHA II/', 4), ('SHUMA-GORATH', 4), ('GEDDINGS, JUDITH GHO', 4), ('NORTH, RICKY', 4), ('ROCKET RACER II/', 4), ('KEEVER', 4), ('MASTERBLASTER/', 4), ('POWERHOUSE II/', 4), ('STYX II', 4), ('MALICE II', 4), ('RADD, FENNAN', 4), ('BI-BEAST', 4), ('CAMPBELL, VALERIE', 4), ('BRADDOCK, ELIZABETH', 4), ('SEETAH', 4), ('RODOR', 4), ('TINAC', 4), ('SKY-WALKER', 4), ('TORPEDO II/MICHAEL S', 4), ('FORD, GERALD', 4), ('KARSANO', 4), ('DRAGONMEGAS, JESSIE', 4), ('TENKO, CARTER', 4), ('HEDERMAN, LOTTIE', 4), ('MERREE', 4), ('CAPTAIN GLORY', 4), ('EXILE', 4), ('OX II/DR. KARL STRAG', 4), ('REAPER', 4), ('PUMPKIN', 4), ('MARVEL BOY VII/DAVID', 4), ('BANK, IRVING', 4), ('FOWLER, RED', 4), ('QUENTIN, RALPH', 4), ('RIVERA, MS.', 4), ('CLUSTER', 4), ('RAZORBLADE II/', 4), ('SCUZZ', 4), ('LUPE', 4), ('MINDSTORM/', 4), ('VEGA-SUPERIOR', 4), ('STEIN, EMIL', 4), (\"KRAY, D'VON\", 4), ('CYPRESS/', 4), ('PHANTOM', 4), ('GUARDIAN III', 4), ('GRIFFIN', 4), ('WILLIS', 4), ('BENAZA', 4), ('INES, DR. DIDIER', 4), ('NAMELESS ONE', 4), ('JACOBY, KYLE', 4), ('HARRINGTON, PRINCIPA', 4), ('GARGOYLE/IGOR DRENKO', 4), ('MOURNING PREY', 4), ('INFERNO', 4), ('MR. LUCK/RAMON GARCI', 4), ('SURGE', 4), ('HOSEK, BULL', 4), ('VOLK/ILYA DUBROMOVIT', 4), ('SUKHAROV, DIMITRI', 4), ('SUKHAROV, VIKTORIA', 4), ('CUEBALL/', 4), ('NAUTILUS', 4), ('SLIDE', 4), ('RAZORWIRE', 4), ('VOID-EATER', 4), ('SHADOWOMAN/JILLIAN W', 4), ('JARDINE, AMANDA', 4), ('WISDOM, HAROLD', 4), ('CHEN, JOANNA', 4), ('BRUKNER, DR. FRANK', 4), ('HOO', 4), ('FREAK QUINCY', 4), ('MARVEL BOY/MARTIN BU', 4), ('AVATAR II/PRINCESS A', 4), ('SPELLBINDER/ERICA FO', 4), ('ROULETTE/DUDE JENSEN', 4), ('MITCHELL, ROBERT', 4), ('SLAVINSKI, SALLY', 4), ('DOGGEREL', 4), ('WARP SAVANT', 4), ('HAWKINS, DR. EDWIN E', 3), ('PETERS, NIGEL', 3), ('FALSWORTH, KENNETH', 3), ('EXECUTIONER', 3), ('CRUSHER II/JUAN APON', 3), ('FANG', 3), ('DIAMOND HEAD', 3), ('BRUNO', 3), ('COCO', 3), ('GREGORY, TODD', 3), ('GESTALT', 3), ('DICHINSON, RICKY', 3), ('BLOODSHED/WYNDELL DI', 3), ('BROKEN MAN', 3), ('MARCHALLA', 3), ('URCHALLA', 3), ('MARCHALLA II', 3), ('FORGE | EARTH 998', 3), ('SINGER, MERLE', 3), ('EL TORO ROJO', 3), ('EL VAMPIRO', 3), ('CYLLA', 3), ('ANIMUS', 3), ('ZABO', 3), ('NIGHTEYES/ERIC', 3), ('FAVERSHAM, DAPHNE', 3), ('RAGA', 3), ('TABUR', 3), (\"B'GON\", 3), ('AGAMEMNON II/ANDREI', 3), ('HOFFMAN, ALICE', 3), ('SARACEN', 3), (\"O'HARA, GERALD\", 3), ('RAGA-SHAH', 3), ('MCSHANE, PATRICK', 3), ('TRAVERS, MIKE', 3), ('BLAKE, EMILY', 3), ('ROSENBERG, ANNIE', 3), ('KATHAR', 3), ('MACKAY, MURDO', 3), ('MACKAY, AILSA', 3), ('SHAMAN III', 3), ('MINOTAUR II', 3), ('HALF-FACE', 3), ('VANESSA', 3), ('LUCIFER II', 3), ('COTTONMOUTH', 3), ('SHALLA BAL', 3), ('DOOM, DR. BOB', 3), ('BULLSEYE', 3), ('NICODEMUS', 3), ('TIGER WYLDE', 3), ('ZONE', 3), ('FORTUNE', 3), ('BIRD, TUESDAY', 3), ('TARGET', 3), ('STILES, TATJANA', 3), ('JUTTA', 3), ('SZARDOS, STEFAN', 3), ('LONGARM/', 3), ('SCORCH/TOMMY NG', 3), ('HATCHET-9', 3), ('FLEET, JONAS', 3), ('WENDIGO IV/MICHAEL F', 3), ('FLEET, TAMARA', 3), ('EISMAN, BETTY', 3), ('RUIZ, DR. BERNARDO', 3), ('VIBRANIA/SHARA', 3), ('NAGA', 3), ('LACE/', 3), ('LEATHER/', 3), ('DEVASTATOR/KIROV PET', 3), ('HILL, GEORGE', 3), ('ASTROLOGER/', 3), ('OUBLIETTE/', 3), ('SYLPH', 3), ('REAVER/JOSHUA STRAGG', 3), ('LANCELOT, SIR', 3), ('KELLOG, SHERIFF L.B.', 3), ('COLOSSUS', 3), ('DEWOLFF, MEREDITH', 3), ('CAT IV', 3), ('PIERSON, FRED', 3), ('ANANASTASIA/ANNA', 3), ('BLOODVESSEL, BUSTA', 3), ('SUNSET GRACE', 3), ('SEERESS', 3), ('STORMER', 3), ('DETHSTRYK', 3), ('BLOCKBUSTER II', 3), ('THREE-FACE', 3), ('HARRIGAN, CHESTER CH', 3), ('SKULLCRASHER/', 3), ('ARGOSY, HERVE', 3), ('MASTIFF', 3), ('MASTIFF, MINNIE', 3), ('DUCRESTE, ABRIAN', 3), ('ANGEL II/THOMAS HALL', 3), ('STINGER/', 3), ('RAPTAR', 3), ('KAZAKI, SHINJI', 3), ('DEATHLOK III DOPPELG', 3), ('VERMIN II', 3), ('ULTRA-MAX', 3), ('SUNSET', 2), ('MAX', 2), ('PAYBACK/', 2), ('WINDEAGLE/HECTOR SAN', 2), ('SLUGANSKI, ERNIE', 2), (\"O'SHAUGNESSY, COLLEE\", 2), ('GREICO, LINDA', 2), ('MICHAELS, DAWN', 2), ('WOLMAN, GIDEON', 2), ('PRIMAX/JAROMEL', 2), ('COPPERHEAD II/', 2), ('MR. FEAR IV/ALAN FAG', 2), ('FLINN, LANCELOT LANC', 2), ('GROSS, CLIFFORD', 2), ('MR. SINISTER | AOA', 2), ('PAPA NEBO', 2), ('SMEDLEY', 2), ('BROTHER STEPHEN', 2), ('BLACK TALON/DESMOND', 2), ('BARON SAMEDI', 2), ('DAMBALLAH', 2), ('DUFFY, SGT. MIKE', 2), ('BEDFORD, BRAD HULK', 2), ('STILWELL, RON', 2), ('TERRIGENE', 2), ('WRECKER II', 2), ('SANCHEZ, DET. LOUISA', 2), ('KINGSIZE', 2), ('KRAGG', 2), ('TRAPSTER II/LARRY CU', 2), ('DULTRY, MARGARET', 2), ('RASCAL/', 2), ('MCLEISH', 2), ('AI-CHIA', 2), ('PILLMAN, JIM', 2), ('AGGAMON', 2), ('MINDWORM/WILLIAM TUR', 2), ('DISTORTER', 2), ('TREVORIK', 2), ('WIZARD OF THE WEST', 2), ('STARK, ISAAC', 2), ('KLEIN, SUMMER', 2), ('NAVARRO', 2), ('AZOPARDI', 2), ('SANTOS, MARIO', 2), ('SANTOS, JOSE', 2), ('SMASHER', 2), ('RYANS, JIM', 2), ('SQUIRREL GIRL/', 2), ('KALMARI', 2), ('AIR WALKER/ARLO SAMU', 2), ('BLACK RAZER', 2), ('BLAKE, KENT', 2), ('MASTERMIND II/BOWERS', 2), ('DOMANI, DINO', 2), ('ROMANO, TONY', 2), ('FOOLKILLER/ROSS EVER', 2), ('HECATE', 2), ('NIGHT PHANTOM/TRAVIS', 2), ('PETERS, SHANA TOC', 2), ('CROWLEY, SEN.', 2), ('SYRRH', 2), ('RAPTOR/PAUL HAZLETT', 2), ('SPITE/', 2), ('SCARLET BEETLE', 2), ('SNIPER/VON BURIAN', 2), ('GODWULF', 2), ('KYSA', 2), ('LORD YARU', 2), ('BLACK TALON III', 2), ('STRUNK, BELLA', 2), ('SAINT, AMANDA', 2), ('ANTIQUARY/', 2), ('BLOOD-TIDE', 2), ('KHAN', 2), ('POWERHOUSE IV/', 2), ('STEEPLEJACK', 2), ('PROTO-GOBLIN/VAN ADD', 2), ('JARMAN, TOMMY', 2), ('ZEAKLAR', 2), ('TETHERBLOOD/', 2), ('COLE, LYNETTE', 2), ('SAMURAI STEEL/YOSHID', 2), ('CONRAD, LUTHER DUTCH', 2), ('WATCHLORD/', 2), ('LORD OF LIGHT/BOWEN', 2), ('AZRAEL', 1), ('PAST MASTER/PROFESSO', 1), ('CAPTAIN FATE', 1), ('MARKS, DR. SHIELA', 1), ('SHAW, MILDRED', 1), ('DRAGO, VALERIE', 1), ('FELDSTADT, DR. HANS', 1), ('PINKWATER, ELLA', 1), ('CHAKRA II', 1), ('PROFESSOR GIBBON/', 1), ('SAJA', 1), ('SANDSTORM/', 1), ('COVEY, LAWRENCE K.', 1), ('GLORIOLE', 1), ('KURLYCHEK, PATTY', 1), ('STERLING, SID', 1), ('MOTH/', 1), ('EDITOR', 1), ('PEACEMONGER/', 1), ('ELLINGTON, DR./TRAVI', 1), ('NIMROD', 1), ('FIREBOLT', 1), ('VINDIKTOR/', 1), ('GREASE', 1), (\"D'SPRYTE\", 1), ('STAR THIEF/', 1), ('COOPER, TERI', 1), ('HOUSTON, LT. COMMAND', 1), ('SNOW QUEEN/GITTE', 1), ('MURRAY, WILLIAM T. B', 1), ('SLAYER/', 1), ('MARAUDER II', 1), ('UNCEGILA', 1), ('VIGIL', 1), ('MARLOPOLIS, EDGAR', 1), ('DESADIA', 1), ('GOOM', 1), ('RIPPER/DR. JACQUELIN', 1), ('SUNTURION II/MIKE ST', 1), ('GARNOK REBBAHN', 1), ('FIREFLY II', 1), ('SPARROW BEAR, MELLIS', 1), ('BLOWTORCH/', 1), ('THANADEMOS', 1), ('CLASS CLOWN/GLASS', 1), ('FONG, KATY', 1), ('HO TI', 1), ('GOLEM II', 1), ('STEEL SPIDER/OLLIE O', 1), ('MASTER OF VENGEANCE', 1), ('SCOPE', 1), ('QUASAR', 1)]\n"
          ],
          "name": "stdout"
        }
      ]
    },
    {
      "cell_type": "code",
      "metadata": {
        "colab": {
          "base_uri": "https://localhost:8080/"
        },
        "id": "xfhv7sIMZSAE",
        "outputId": "b6c5e121-56ec-4cdb-cfd7-33a148124baa"
      },
      "source": [
        "#Create subgraph with k greatest degree nodes\n",
        "\n",
        "#Get top k greatest degree nodes\n",
        "k = 500\n",
        "greatest_kdeg = []\n",
        "for node, degree in sort_degrees[:k]:\n",
        "  greatest_kdeg.append(node)\n",
        "\n",
        "#Generate subgraph\n",
        "subgraph = graph.subgraph(greatest_kdeg)\n",
        "print(nx.info(subgraph))"
      ],
      "execution_count": 24,
      "outputs": [
        {
          "output_type": "stream",
          "text": [
            "Name: \n",
            "Type: Graph\n",
            "Number of nodes: 500\n",
            "Number of edges: 39244\n",
            "Average degree: 156.9760\n"
          ],
          "name": "stdout"
        }
      ]
    },
    {
      "cell_type": "code",
      "metadata": {
        "id": "kbh_cAui5hv7"
      },
      "source": [
        "# net = Network(notebook=True)\n",
        "# net.from_nx(subgraph)\n",
        "# net.repulsion(node_distance=500)\n",
        "# net.inherit_edge_colors(True)\n",
        "# net.save_graph('marvel-network-subgraph.html')\n",
        "# IPython.display.HTML(filename='marvel-network-subgraph.html')"
      ],
      "execution_count": 25,
      "outputs": []
    },
    {
      "cell_type": "code",
      "metadata": {
        "id": "xyo0A2tLVhh0"
      },
      "source": [
        "# plt.figure(figsize=(10,10))\n",
        "# nx.draw_networkx(subgraph)\n",
        "# plt.show()"
      ],
      "execution_count": 26,
      "outputs": []
    },
    {
      "cell_type": "markdown",
      "metadata": {
        "id": "Wu24LrqaBhpf"
      },
      "source": [
        "#Girvan-Newman"
      ]
    },
    {
      "cell_type": "markdown",
      "metadata": {
        "id": "zMMNEcR2dasG"
      },
      "source": [
        "##Shortest paths (BFS)"
      ]
    },
    {
      "cell_type": "code",
      "metadata": {
        "id": "lQGH7c-zdeXv"
      },
      "source": [
        "def shortest_paths(graph, start):\n",
        "  \"\"\" Get all distances from the 'start' node and its path to all nodes in the graph \n",
        "\n",
        "      Returns:\n",
        "          distances: dict(node, shortest_distance_from_start),\n",
        "          parents: path from node to start as dict(node,predecessor),\n",
        "          num_shortest_paths: dict(node, num_shortest_paths_from_start)\n",
        "  \"\"\"\n",
        "  #visited list to avoid loops\n",
        "  visited= []\n",
        "\n",
        "  #distances from each node to the 'start' node\n",
        "  distances = dict ( [(node, sys.maxsize) for node in graph.nodes()] ) \n",
        "\n",
        "  #predecessors from each node to the 'start' node \n",
        "  parents =  dict ( [(node, []) for node in graph.nodes()] )\n",
        "\n",
        "  #number of shortest paths\n",
        "  num_shortest_paths = dict ( [(node, []) for node in graph.nodes()] )\n",
        "\n",
        "  #initialize before loop\n",
        "  distances[start] = 0\n",
        "  parents[start] = None\n",
        "  num_shortest_paths[start] = 1\n",
        "\n",
        "  #queue data structure for BFS\n",
        "  queue = deque()\n",
        "  queue.append(start)\n",
        "\n",
        "  #mark 'start' as visited\n",
        "  visited.append(start)\n",
        "\n",
        "  while (len(queue) != 0):\n",
        "    visiting = queue.popleft() #visit the first element of the queue (remove it)\n",
        "    if (visiting not in visited):\n",
        "      visited.append(visiting) #mark as visited\n",
        "\n",
        "    for adj in graph.adj[visiting]: #iterate through adjacent nodes\n",
        "      if (adj not in visited) and (adj not in queue):\n",
        "        queue.append(adj) #add not visited nodes to queue\n",
        "\n",
        "      #if 'adj' node has been visited before and has a longer path that using '\n",
        "      #visiting' as predecessor --> update it (this is the shortest path)\n",
        "\n",
        "      #if 'adj' node has not been visited before, it will always enter this 'if'\n",
        "      #because distances are initialized as sys.maxsize\n",
        "      if (distances[adj] > distances[visiting] + 1): \n",
        "        distances[adj] = distances[visiting] + 1\n",
        "        parents[adj].clear()\n",
        "        parents[adj].append(visiting)\n",
        "        num_shortest_paths[adj] = num_shortest_paths[visiting]\n",
        "\n",
        "\n",
        "      #if 'adj' node has the same distance than 'visiting' + 1, it means we have\n",
        "      #encountered another shortest path --> add 'visiting' as parent in \n",
        "      #the shortest path\n",
        "      elif (distances[adj] == distances[visiting] + 1):\n",
        "        parents[adj].append(visiting)\n",
        "        num_shortest_paths[adj] += num_shortest_paths[visiting]\n",
        "\n",
        "  #End of algorithm, return results\n",
        "  return (distances, parents, num_shortest_paths)\n",
        "\n",
        "# ### Test code\n",
        "# distances, parents, num_shortest_paths = shortest_paths(graph, 'CAPTAIN AMERICA')\n",
        "# num_shortest_paths\n"
      ],
      "execution_count": 27,
      "outputs": []
    },
    {
      "cell_type": "markdown",
      "metadata": {
        "id": "sRiP3PxHdg6g"
      },
      "source": [
        "##Edge betweenness"
      ]
    },
    {
      "cell_type": "code",
      "metadata": {
        "id": "IyW3j_lGdjSh"
      },
      "source": [
        "def get_edge_betweenness(graph, start):\n",
        "  \"\"\"\n",
        "  Get edge betweenness of all edges given source node 'start' \n",
        "  \"\"\"\n",
        "\n",
        "  edges_btwnss = dict([(edge, 0) for edge in graph.edges()])\n",
        "  node_betweenness = dict([(node, 0) for node in graph.nodes()])\n",
        "  \n",
        "  distances, parents, num_shortest_paths = shortest_paths(graph, start) \n",
        "\n",
        "  #furthest nodes from the selected node\n",
        "  furthest_nodes = sorted(distances, key=distances.get, reverse=True)\n",
        "\n",
        "  for node in furthest_nodes:\n",
        "    if node != start:\n",
        "      for parent in parents[node]:\n",
        "        node_betweenness[parent] += (1 + node_betweenness[parent]) / len(parents[node])\n",
        "        if (node, parent) in edges_btwnss:\n",
        "          edges_btwnss[node,parent] = (1 + node_betweenness[node]) / num_shortest_paths[node]\n",
        "        elif (parent,node) in edges_btwnss:\n",
        "          edges_btwnss[parent,node] = (1 + node_betweenness[node]) / num_shortest_paths[node]\n",
        "\n",
        "  return edges_btwnss"
      ],
      "execution_count": 28,
      "outputs": []
    },
    {
      "cell_type": "code",
      "metadata": {
        "id": "P21haE7KdnlL"
      },
      "source": [
        "def edge_betweenness(graph):\n",
        "\n",
        "  btwnss = [0] * len(graph.edges())\n",
        "\n",
        "  for node in graph.nodes():\n",
        "    btwnnss_node = get_edge_betweenness(graph, node)\n",
        "    btwnss = np.add(btwnss, list(btwnnss_node.values())) #here we are using a dict_view instead of original values\n",
        "    \n",
        "  #since dict_view has 15 significant ciphers, we will be using 14\n",
        "  btwnss = [round(score, 14) for score in btwnss]\n",
        "  btwnss_dict = dict(zip(graph.edges(), btwnss))\n",
        "  \n",
        "  return btwnss_dict\n",
        "\n",
        "#Test Code\n",
        "# edge_betweenness(graph)"
      ],
      "execution_count": 30,
      "outputs": []
    },
    {
      "cell_type": "markdown",
      "metadata": {
        "id": "aeuf39JZd05Z"
      },
      "source": [
        "##Girvan Newman Algorithm"
      ]
    },
    {
      "cell_type": "code",
      "metadata": {
        "id": "2kMlWla8d687"
      },
      "source": [
        "#Girvan-Newman\n",
        "def Girvan_Newman(graph, k):\n",
        "\n",
        "  graph_copy = graph.copy()\n",
        "\n",
        "  betweenness = edge_betweenness(graph)\n",
        "  betweenness_values = list(betweenness.values())\n",
        "\n",
        "  edges_sorted = sorted(betweenness, key=betweenness.get, reverse=True)\n",
        "  betweenness_values_sorted = sorted(betweenness_values, reverse=True)\n",
        "\n",
        "  queue = deque()\n",
        "  [queue.append(score) for score in betweenness_values_sorted]\n",
        "\n",
        "\n",
        "  for num_levels in np.arange(k):\n",
        "    if len(queue) > 2 :\n",
        "      element = queue.popleft()\n",
        "      element_edge = edges_sorted.pop(0)\n",
        "\n",
        "      next = queue.popleft()\n",
        "      next_edge = edges_sorted.pop(0)\n",
        "      \n",
        "      while (element == next):\n",
        "        next = queue.popleft()\n",
        "        next_edge = edges_sorted.pop(0)\n",
        "      \n",
        "      #element != next, restore 'next' in queue\n",
        "      queue.appendleft(next)\n",
        "      edges_sorted.insert(0, next_edge)\n",
        "\n",
        "    elif len(queue) == 1:\n",
        "      element = queue.popleft()\n",
        "      element_edge = edges_sorted.pop(0)\n",
        "      \n",
        "  g = nx.Graph()\n",
        "  g.add_edges_from(edges_sorted)\n",
        "  g.add_nodes_from(graph.nodes())\n",
        "  return g\n",
        "\n",
        "\n",
        "# #Test Code\n",
        "# g = Girvan_Newman(graph, 0)\n",
        "# nx.draw_networkx(g)"
      ],
      "execution_count": null,
      "outputs": []
    },
    {
      "cell_type": "code",
      "metadata": {
        "id": "nRax5RVzz35h",
        "outputId": "153e4401-13f8-4856-eda2-7e7683e609a4",
        "colab": {
          "base_uri": "https://localhost:8080/"
        }
      },
      "source": [
        "def Girvan_Newman_2(graph, k):\n",
        "\n",
        "  graph_copy = graph.copy()\n",
        "\n",
        "  for iterations in tqdm(np.arange(k)):\n",
        "    betweenness = edge_betweenness(graph_copy)\n",
        "    betweenness_values = list(betweenness.values())\n",
        "\n",
        "    edges_sorted = sorted(betweenness, key=betweenness.get, reverse=True)\n",
        "    betweenness_values_sorted = sorted(betweenness_values, reverse=True)\n",
        "\n",
        "    betweenness_values_sorted.pop(0)\n",
        "    edge_to_remove = edges_sorted.pop(0)\n",
        "    print(edge_to_remove)\n",
        "    graph_copy.remove_edge(edge_to_remove[0],edge_to_remove[1])\n",
        "\n",
        "  return graph_copy\n",
        "\n",
        "###Test Code\n",
        "g = Girvan_Newman_2(subgraph, 30)"
      ],
      "execution_count": 33,
      "outputs": [
        {
          "output_type": "stream",
          "text": [
            "('TOMBSTONE/LONNIE THO', 'MR. FANTASTIC/REED R')\n",
            "('TOMBSTONE/LONNIE THO', 'SPIDER-MAN/PETER PAR')\n",
            "('TOMBSTONE/LONNIE THO', 'BLACK WIDOW/NATASHA')\n",
            "('TOMBSTONE/LONNIE THO', 'DAREDEVIL/MATT MURDO')\n",
            "('TOMBSTONE/LONNIE THO', 'CAGE, LUKE/CARL LUCA')\n",
            "('TOMBSTONE/LONNIE THO', 'GAMBIT/REMY LEBEAU')\n",
            "('TOMBSTONE/LONNIE THO', 'JAMESON, J. JONAH')\n",
            "('TOMBSTONE/LONNIE THO', 'MOON KNIGHT/MARC SPE')\n",
            "('TOMBSTONE/LONNIE THO', 'USAGENT/CAPTAIN JOHN')\n",
            "('TOMBSTONE/LONNIE THO', 'NELSON, FRANKLIN FOG')\n",
            "('TOMBSTONE/LONNIE THO', 'DARKHAWK/CHRIS POWEL')\n",
            "('ROBERTSON, RANDY', 'MR. FANTASTIC/REED R')\n",
            "('ROBERTSON, RANDY', 'SCARLET WITCH/WANDA')\n",
            "('HUMAN TORCH/JOHNNY S', 'ROBERTSON, RANDY')\n",
            "('ROBERTSON, RANDY', 'SPIDER-MAN/PETER PAR')\n",
            "('QUICKSILVER/PIETRO M', 'ROBERTSON, RANDY')\n",
            "('JARVIS, EDWIN', 'ROBERTSON, RANDY')\n",
            "('DR. STRANGE/STEPHEN', 'ROBERTSON, RANDY')\n",
            "('DAREDEVIL/MATT MURDO', 'ROBERTSON, RANDY')\n",
            "('CAGE, LUKE/CARL LUCA', 'ROBERTSON, RANDY')\n",
            "('DR. DOOM/VICTOR VON', 'ROBERTSON, RANDY')\n",
            "('MAGNETO/MAGNUS/ERIC', 'ROBERTSON, RANDY')\n",
            "('JAMESON, J. JONAH', 'ROBERTSON, RANDY')\n",
            "('LOKI [ASGARDIAN]', 'ROBERTSON, RANDY')\n",
            "('ROBERTSON, RANDY', 'WONG')\n",
            "('HOBGOBLIN V/JASON PH', 'CAPTAIN AMERICA')\n",
            "('WOLVERINE/LOGAN', 'HOBGOBLIN V/JASON PH')\n",
            "('THING/BENJAMIN J. GR', 'HOBGOBLIN V/JASON PH')\n",
            "('HOBGOBLIN V/JASON PH', 'MR. FANTASTIC/REED R')\n",
            "('HOBGOBLIN V/JASON PH', 'THOR/DR. DONALD BLAK')\n"
          ],
          "name": "stdout"
        }
      ]
    },
    {
      "cell_type": "code",
      "metadata": {
        "id": "CxPO1KNhWUAf"
      },
      "source": [
        "# grafo_recortado = nx.convert_matrix.to_pandas_adjacency(g)\n",
        "# grafo_recortado.to_csv('./')"
      ],
      "execution_count": 1,
      "outputs": []
    },
    {
      "cell_type": "code",
      "metadata": {
        "id": "vaQDGjVweKbE"
      },
      "source": [
        "g.remove_edges_from(nx.selfloop_edges(g))\n",
        "net = Network(notebook=True)\n",
        "net.from_nx(g)\n",
        "net.repulsion(node_distance=300)\n",
        "net.inherit_edge_colors(True)\n",
        "\n",
        "net.save_graph('ex1.html')\n",
        "IPython.display.HTML(filename='./ex1.html')\n",
        "# nx.draw_networkx(network)"
      ],
      "execution_count": null,
      "outputs": []
    }
  ]
}