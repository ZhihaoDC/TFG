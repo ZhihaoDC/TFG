{
  "nbformat": 4,
  "nbformat_minor": 0,
  "metadata": {
    "colab": {
      "name": "marvel_social_network.ipynb",
      "provenance": [],
      "collapsed_sections": [],
      "include_colab_link": true
    },
    "kernelspec": {
      "name": "python3",
      "display_name": "Python 3"
    },
    "language_info": {
      "name": "python"
    }
  },
  "cells": [
    {
      "cell_type": "markdown",
      "metadata": {
        "id": "view-in-github",
        "colab_type": "text"
      },
      "source": [
        "<a href=\"https://colab.research.google.com/github/ZhihaoDC/TFG/blob/main/marvel_social_network.ipynb\" target=\"_parent\"><img src=\"https://colab.research.google.com/assets/colab-badge.svg\" alt=\"Open In Colab\"/></a>"
      ]
    },
    {
      "cell_type": "markdown",
      "metadata": {
        "id": "YpCgOrz6DcFR"
      },
      "source": [
        "#Setup Environment"
      ]
    },
    {
      "cell_type": "code",
      "metadata": {
        "id": "3IK-xiBIDVns",
        "colab": {
          "base_uri": "https://localhost:8080/"
        },
        "outputId": "8ac5b3ec-6943-4510-c5bf-434cabca3d5f"
      },
      "source": [
        "from google.colab import drive\n",
        "drive.mount('/gdrive')\n",
        "\n",
        "%cd /gdrive/My Drive/TFG\n",
        "\n",
        "!git pull https://github.com/ZhihaoDC/TFG"
      ],
      "execution_count": 2,
      "outputs": [
        {
          "output_type": "stream",
          "text": [
            "Mounted at /gdrive\n",
            "/gdrive/My Drive/TFG\n",
            "From https://github.com/ZhihaoDC/TFG\n",
            " * branch            HEAD       -> FETCH_HEAD\n",
            "Already up to date.\n"
          ],
          "name": "stdout"
        }
      ]
    },
    {
      "cell_type": "markdown",
      "metadata": {
        "id": "uv2hNXaqDfHK"
      },
      "source": [
        "#Import Libraries"
      ]
    },
    {
      "cell_type": "code",
      "metadata": {
        "id": "0QoirQpzDmzC"
      },
      "source": [
        "import pandas as pd\n",
        "import numpy as np\n",
        "import networkx as nx\n",
        "\n",
        "# import matplotlib.pyplot as plt\n",
        "# import matplotlib.colors as mcolors\n",
        "# import seaborn as sns\n",
        "\n",
        "# import statistics\n",
        "# import math\n",
        "# import itertools\n",
        "# import re #regular expressions\n",
        "\n",
        "# import plotly.express as px\n",
        "# import plotly.figure_factory as ff"
      ],
      "execution_count": 3,
      "outputs": []
    },
    {
      "cell_type": "code",
      "metadata": {
        "id": "pyrMKp9nWdkA"
      },
      "source": [
        "#Hello github"
      ],
      "execution_count": null,
      "outputs": []
    }
  ]
}