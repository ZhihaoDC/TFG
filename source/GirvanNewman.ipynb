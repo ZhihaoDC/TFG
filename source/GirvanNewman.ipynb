{
  "nbformat": 4,
  "nbformat_minor": 0,
  "metadata": {
    "colab": {
      "name": "GirvanNewman.ipynb",
      "provenance": [],
      "collapsed_sections": [],
      "toc_visible": true,
      "authorship_tag": "ABX9TyN+fXBG+X6dp4toxyav8S6y",
      "include_colab_link": true
    },
    "kernelspec": {
      "name": "python3",
      "display_name": "Python 3"
    },
    "language_info": {
      "name": "python"
    }
  },
  "cells": [
    {
      "cell_type": "markdown",
      "metadata": {
        "id": "view-in-github",
        "colab_type": "text"
      },
      "source": [
        "<a href=\"https://colab.research.google.com/github/ZhihaoDC/TFG/blob/main/GirvanNewman.ipynb\" target=\"_parent\"><img src=\"https://colab.research.google.com/assets/colab-badge.svg\" alt=\"Open In Colab\"/></a>"
      ]
    },
    {
      "cell_type": "code",
      "metadata": {
        "id": "m4q02gQG1Psx"
      },
      "source": [
        "import networkx as nx\n",
        "import numpy as np\n",
        "import scipy\n",
        "import sys\n",
        "from collections import deque, Counter"
      ],
      "execution_count": 2,
      "outputs": []
    },
    {
      "cell_type": "markdown",
      "metadata": {
        "id": "I292ySl0N2Iz"
      },
      "source": [
        "#Graph"
      ]
    },
    {
      "cell_type": "code",
      "metadata": {
        "id": "N74jWl2X1ctc"
      },
      "source": [
        "graph = nx.Graph()\n",
        "\n",
        "nodes = [0,1,2,3,4,5,6,7]\n",
        "edges=[\n",
        "       (0,1), (0,3),\n",
        "       (1,2), (1,3),\n",
        "       (2,3),\n",
        "       (3,5), (3,6),\n",
        "       (4,7), (4,5),\n",
        "       (5,2),\n",
        "       (6,5), (6,7), (6,4),\n",
        "       (7,3), (7,0)\n",
        "       ]\n",
        "\n",
        "graph.add_nodes_from(nodes)\n",
        "graph.add_edges_from(edges)\n",
        "\n",
        "\n",
        "# nx.draw_networkx(graph)"
      ],
      "execution_count": 3,
      "outputs": []
    },
    {
      "cell_type": "code",
      "metadata": {
        "id": "h8iW8zAtWBkt"
      },
      "source": [
        "# #Get adjacency matrix\n",
        "# adj_matrix = nx.adjacency_matrix(graph)\n",
        "# adj_matrix = adj_matrix.todense()\n",
        "# print(adj_matrix)"
      ],
      "execution_count": 4,
      "outputs": []
    },
    {
      "cell_type": "markdown",
      "metadata": {
        "id": "GkF6LdkaNomz"
      },
      "source": [
        "#DFS"
      ]
    },
    {
      "cell_type": "code",
      "metadata": {
        "id": "s7o8aaENG5F0"
      },
      "source": [
        "def DFS (graph, start, visited):\n",
        "  if (start not in visited):\n",
        "\n",
        "    visited.append(start)\n",
        "    print(start, sep=' ')\n",
        "\n",
        "    for adjacent in list(graph.adj[start]):\n",
        "\n",
        "      DFS(graph, adjacent, visited)\n",
        "\n",
        "# #Test Code    \n",
        "# DFS(graph, 3, [])"
      ],
      "execution_count": 5,
      "outputs": []
    },
    {
      "cell_type": "code",
      "metadata": {
        "id": "y_YLQDNKKFqo"
      },
      "source": [
        "def search_node (graph, start, end, found, visited):\n",
        "  if (start not in visited) and (not found):\n",
        "    visited.append(start)\n",
        "    print(start, sep=' ')\n",
        "\n",
        "    if (start == end):\n",
        "      print('Hecho!')\n",
        "      return True\n",
        "\n",
        "    else:\n",
        "      for adjacent in list(graph.adj[start]):\n",
        "        if not found:\n",
        "          found = search_node(graph, adjacent, end, found, visited)\n",
        "    return found\n",
        "\n",
        "#EdgeView([(0, 1), (0, 3), (1, 2), (1, 3), (2, 3), (2, 5), (3, 4), (3, 5), (4, 7), (4, 5), (5, 6), (6, 7)])\n",
        "\n",
        "# #Test Code\n",
        "# search_node(graph, 0, 7, False, [])"
      ],
      "execution_count": 6,
      "outputs": []
    },
    {
      "cell_type": "code",
      "metadata": {
        "id": "rnrEICmm2b6f"
      },
      "source": [
        "# nx.draw_networkx(graph)"
      ],
      "execution_count": 7,
      "outputs": []
    },
    {
      "cell_type": "code",
      "metadata": {
        "id": "QabKyD0Rh_LK"
      },
      "source": [
        "def explain_all_paths (graph, start, end, found, visited, paths):\n",
        "\n",
        "  if (start not in visited) and (not found):\n",
        "    visited.append(start)\n",
        "    print('visited <----' , start)\n",
        "\n",
        "    if (start == end):\n",
        "      print('-------¡ META ',start,'!-------')\n",
        "      paths.append(visited.copy()) #Save path\n",
        "      print('De momento:', paths)\n",
        "      print('Borrando ', visited.pop())\n",
        "      return visited\n",
        "\n",
        "    else:\n",
        "      for adj in list(graph.adj[start]):\n",
        "        print(start, ') probando con ', adj, '| visited: ', visited)\n",
        "        if (end not in visited):\n",
        "          visited = explain_all_paths(graph, adj, end, found, visited, paths)\n",
        "\n",
        "    print('Borrando ', visited.pop()) #We have exhausted all adjacents\n",
        "\n",
        "  return visited\n",
        "\n",
        "# #Test Code\n",
        "# paths = []\n",
        "# explain_all_paths(graph, 0, 7, False, [], paths)\n",
        "# paths"
      ],
      "execution_count": 8,
      "outputs": []
    },
    {
      "cell_type": "code",
      "metadata": {
        "id": "i7yF3nhDLnHS"
      },
      "source": [
        "def all_paths (graph, start, end, found, visited, paths):\n",
        "\n",
        "  if (start not in visited) and (not found):\n",
        "    visited.append(start)\n",
        "\n",
        "    if (start == end):\n",
        "      paths.append(visited.copy()) #Save path\n",
        "      visited.pop()\n",
        "      return visited\n",
        "\n",
        "    else:\n",
        "      for adj in list(graph.adj[start]):\n",
        "        if (end not in visited):\n",
        "          visited = all_paths(graph, adj, end, found, visited, paths)\n",
        "\n",
        "    visited.pop() #We have exhausted all adjacents\n",
        "\n",
        "  return visited\n",
        "\n",
        "# #Test \n",
        "# paths = []\n",
        "# all_paths(graph, 0, 7, False, [], paths)\n",
        "# paths"
      ],
      "execution_count": 9,
      "outputs": []
    },
    {
      "cell_type": "code",
      "metadata": {
        "id": "bXmioFs6MZUg"
      },
      "source": [
        "def all_paths (graph, start, end, found, visited, paths):\n",
        "\n",
        "  if (start not in visited) and (not found):\n",
        "    visited.append(start)\n",
        "\n",
        "    if (start == end):\n",
        "      paths.append(visited.copy()) #Save path\n",
        "      visited.pop()\n",
        "      return visited\n",
        "\n",
        "    else:\n",
        "      for adj in list(graph.adj[start]):\n",
        "        if (end not in visited):\n",
        "          visited = all_paths(graph, adj, end, found, visited, paths)\n",
        "\n",
        "    visited.pop() #We have exhausted all adjacents\n",
        "\n",
        "  return visited\n",
        "\n",
        "# #Test\n",
        "# paths = []\n",
        "# all_paths(graph, 0, 7, False, [], paths)\n",
        "# paths"
      ],
      "execution_count": 10,
      "outputs": []
    },
    {
      "cell_type": "markdown",
      "metadata": {
        "id": "TM68PkRLNqoC"
      },
      "source": [
        "#BFS"
      ]
    },
    {
      "cell_type": "code",
      "metadata": {
        "id": "pjy44NlcNs09"
      },
      "source": [
        "def BFS(graph, start, visited):\n",
        "\n",
        "  queue = deque([])\n",
        "  queue.append(start)\n",
        "\n",
        "  while (len(queue) != 0):\n",
        "    node = queue.popleft()\n",
        "\n",
        "    if (node not in visited):\n",
        "      visited.append(node)\n",
        "\n",
        "    for adj in list(graph.adj[node]):\n",
        "      if (adj not in queue and adj not in visited):\n",
        "        queue.append(adj)\n",
        "    # print(queue)\n",
        "\n",
        "# #Test Code\n",
        "# visited = []\n",
        "# BFS(graph,0,visited)\n",
        "# visited"
      ],
      "execution_count": 11,
      "outputs": []
    },
    {
      "cell_type": "code",
      "metadata": {
        "id": "sZ2u7z4FHkRC"
      },
      "source": [
        "def num_shortest_paths(graph, start, distances, num_paths):\n",
        "\n",
        "  visited = []\n",
        "  \n",
        "  distances[start] = 0 #max distance from the initial node to 'start' is always zero\n",
        "\n",
        "  num_paths[start] = 1\n",
        "\n",
        "  queue = deque() #queue for bfs\n",
        "  queue.append(start)\n",
        "\n",
        "  visited.append(start)\n",
        "\n",
        "  while len(queue) != 0:\n",
        "    node = queue.popleft()\n",
        "\n",
        "    if (node not in visited):\n",
        "      visited.append(node)\n",
        "\n",
        "    for adj in graph.adj[node]:\n",
        "      if (adj not in visited and adj not in queue):\n",
        "        queue.append(adj)\n",
        "\n",
        "      if (distances[adj] > distances[node] + 1):\n",
        "        distances[adj] = distances[node] + 1\n",
        "        num_paths[adj] = num_paths[node]\n",
        "\n",
        "      elif (distances[adj] == distances[node] + 1):\n",
        "        num_paths[adj] += num_paths[node]\n",
        "\n",
        "# #Test function      \n",
        "# graph_nodes = list(graph.nodes)\n",
        "# distances = dict ( [(node, sys.maxsize) for node in graph_nodes] )\n",
        "# num_paths = dict ( [(node, []) for node in graph_nodes] )\n",
        "\n",
        "\n",
        "# num_shortest_paths(graph, 4, distances, num_paths)\n",
        "# distances\n",
        "# num_paths\n",
        "  "
      ],
      "execution_count": 12,
      "outputs": []
    },
    {
      "cell_type": "code",
      "metadata": {
        "id": "thTP1WXhly5Z"
      },
      "source": [
        "def num_shortest_paths_all(graph):\n",
        "\n",
        "  graph_nodes = list(graph.nodes)\n",
        "\n",
        "  num_paths_list = []\n",
        "\n",
        "  distances = dict ( [(node, sys.maxsize) for node in graph_nodes] )\n",
        "  num_paths = dict ( [(node, []) for node in graph_nodes] )\n",
        "\n",
        "  for node in graph_nodes:\n",
        "\n",
        "    num_paths.clear()\n",
        "    distances.clear()\n",
        "\n",
        "    distances = dict ( [(node, sys.maxsize) for node in graph_nodes] )\n",
        "    num_paths = dict ( [(node, []) for node in graph_nodes] )\n",
        "\n",
        "    num_shortest_paths(graph, node, distances, num_paths)\n",
        "\n",
        "    num_paths_list.append(num_paths.copy())\n",
        "\n",
        "  return num_paths_list\n",
        "\n",
        "\n",
        "# #Test function\n",
        "# paths_list = num_shortest_paths_all(graph)\n",
        "# paths_list"
      ],
      "execution_count": 13,
      "outputs": []
    },
    {
      "cell_type": "code",
      "metadata": {
        "id": "-MCYUM-ePhBZ"
      },
      "source": [
        "def shortest_paths(graph, start, distances, parents):\n",
        "  \"\"\" Get all distances from the 'start' node and its path to all nodes in the graph \n",
        "\n",
        "      Returns:\n",
        "          distances: dict(node, shortest_distance_to_start),\n",
        "          parents: path from node to start. dict(node,predecessor)\n",
        "  \"\"\"\n",
        "\n",
        "  visited= []\n",
        "\n",
        "  distances[start] = 0\n",
        "  parents[start] = None\n",
        "\n",
        "  queue = deque()\n",
        "  queue.append(start)\n",
        "\n",
        "  visited.append(start)\n",
        "\n",
        "  while (len(queue) != 0):\n",
        "    visiting = queue.popleft()\n",
        "    if (visiting not in visited):\n",
        "      visited.append(visiting)\n",
        "\n",
        "    for adj in graph.adj[visiting]:\n",
        "      if (adj not in visited) and (adj not in queue):\n",
        "        queue.append(adj)\n",
        "\n",
        "      if (distances[adj] > distances[visiting] + 1):\n",
        "        distances[adj] = distances[visiting] + 1\n",
        "        parents[adj].clear()\n",
        "        parents[adj].append(visiting)\n",
        "\n",
        "      elif (distances[adj] == distances[visiting] + 1):\n",
        "        parents[adj].append(visiting)  \n",
        "\n",
        "\n",
        "\n",
        "# ### Test code\n",
        "# distances = dict ( [(node, sys.maxsize) for node in graph_nodes] )\n",
        "# parents =  dict ( [(node, []) for node in graph_nodes] )\n",
        "\n",
        "# shortest_paths(graph, 4, distances, parents)\n",
        "# distances"
      ],
      "execution_count": 14,
      "outputs": []
    },
    {
      "cell_type": "code",
      "metadata": {
        "id": "KvmzumW3MAUC"
      },
      "source": [
        "def shortest_paths(graph, start):\n",
        "  \"\"\" Get all distances from the 'start' node and its path to all nodes in the graph \n",
        "\n",
        "      Returns:\n",
        "          distances: dict(node, shortest_distance_from_start),\n",
        "          parents: path from node to start as dict(node,predecessor),\n",
        "          num_shortest_paths: dict(node, num_shortest_paths_from_start)\n",
        "  \"\"\"\n",
        "  #visited list to avoid loops\n",
        "  visited= []\n",
        "\n",
        "  #distances from each node to the 'start' node\n",
        "  distances = dict ( [(node, sys.maxsize) for node in graph.nodes()] ) \n",
        "\n",
        "  #predecessors from each node to the 'start' node \n",
        "  parents =  dict ( [(node, []) for node in graph.nodes()] )\n",
        "\n",
        "  #number of shortest paths\n",
        "  num_shortest_paths = dict ( [(node, []) for node in graph.nodes()] )\n",
        "\n",
        "  #initialize before loop\n",
        "  distances[start] = 0\n",
        "  parents[start] = None\n",
        "  num_shortest_paths[start] = 1\n",
        "\n",
        "  #queue data structure for BFS\n",
        "  queue = deque()\n",
        "  queue.append(start)\n",
        "\n",
        "  #mark 'start' as visited\n",
        "  visited.append(start)\n",
        "\n",
        "  while (len(queue) != 0):\n",
        "    visiting = queue.popleft() #visit the first element of the queue (remove it)\n",
        "    if (visiting not in visited):\n",
        "      visited.append(visiting) #mark as visited\n",
        "\n",
        "    for adj in graph.adj[visiting]: #iterate through adjacent nodes\n",
        "      if (adj not in visited) and (adj not in queue):\n",
        "        queue.append(adj) #add not visited nodes to queue\n",
        "\n",
        "      #if 'adj' node has been visited before and has a longer path that using '\n",
        "      #visiting' as predecessor --> update it (this is the shortest path)\n",
        "\n",
        "      #if 'adj' node has not been visited before, it will always enter this 'if'\n",
        "      #because distances are initialized as sys.maxsize\n",
        "      if (distances[adj] > distances[visiting] + 1): \n",
        "        distances[adj] = distances[visiting] + 1\n",
        "        parents[adj].clear()\n",
        "        parents[adj].append(visiting)\n",
        "        num_shortest_paths[adj] = num_shortest_paths[visiting]\n",
        "\n",
        "\n",
        "      #if 'adj' node has the same distance than 'visiting' + 1, it means we have\n",
        "      #encountered another shortest path --> add 'visiting' as parent in \n",
        "      #the shortest path\n",
        "      elif (distances[adj] == distances[visiting] + 1):\n",
        "        parents[adj].append(visiting)\n",
        "        num_shortest_paths[adj] += num_shortest_paths[visiting]\n",
        "\n",
        "  #End of algorithm, return results\n",
        "  return (distances, parents, num_shortest_paths)\n",
        "\n",
        "# ### Test code\n",
        "# distances, parents, num_shortest_paths = shortest_paths(graph, 4)\n",
        "# num_shortest_paths\n"
      ],
      "execution_count": 15,
      "outputs": []
    },
    {
      "cell_type": "code",
      "metadata": {
        "id": "k0qJvaSsZbDK"
      },
      "source": [
        "def get_betweenness(graph, start, distances, parents, num_shortest_paths):\n",
        "  \"\"\" Calculate betweenness of all nodes given source node \n",
        "      Returns: list of betweenness scores\n",
        "  \"\"\"\n",
        "  \n",
        "  betweenness = [0] * graph.number_of_nodes() \n",
        "\n",
        "  #furthest nodes from the selected node\n",
        "  furthest_nodes = sorted(distances, key=distances.get, reverse=True)\n",
        "\n",
        "  #traverse from the furthest selected node using path in parents\n",
        "  for node in furthest_nodes:\n",
        "    if (node != start):\n",
        "      for parent in parents[node]:\n",
        "        betweenness[parent] += ( (1 + betweenness[node]) / len(parents[node]) )\n",
        "        \n",
        "  return betweenness"
      ],
      "execution_count": 16,
      "outputs": []
    },
    {
      "cell_type": "code",
      "metadata": {
        "id": "cJcV5je8zlPM"
      },
      "source": [
        "def betweenness_score (graph):\n",
        "  \"\"\"Compute betweenness score of every node in graph using Newman's method\n",
        "\n",
        "    Returns: dict (key=node,  value=betweenness_score)\n",
        "\n",
        "    Ref: M. E. J. Newman  10.1103/PhysRevE.64.016132 \n",
        "        Link: https://journals.aps.org/pre/pdf/10.1103/PhysRevE.64.016132\n",
        "  \"\"\"\n",
        "\n",
        "  graph_nodes = list(graph.nodes())\n",
        "\n",
        "  sum_betweenness = [0] * graph.number_of_nodes()\n",
        "\n",
        "  distances = dict ( [(node, sys.maxsize) for node in graph_nodes] ) \n",
        "  parents =  dict ( [(node, []) for node in graph_nodes] ) \n",
        "  num_shortest_paths = dict ( [(node, []) for node in graph_nodes] )\n",
        "\n",
        "  for node in graph_nodes:\n",
        "\n",
        "    #clear all dicts after iteration\n",
        "    distances.clear()\n",
        "    parents.clear()\n",
        "    num_shortest_paths.clear()\n",
        "\n",
        "    #call function shortest_paths\n",
        "    distances, parents, num_shortest_paths = shortest_paths(graph, node) \n",
        "\n",
        "    #use distances, parents to update scores\n",
        "    betweenness_from_node = get_betweenness(graph, node, distances, parents, num_shortest_paths)\n",
        "    \n",
        "    sum_betweenness = np.add(sum_betweenness, betweenness_from_node)\n",
        "\n",
        "  \n",
        "  betweenness = dict( [(graph_nodes[index], score) for index,score in enumerate(sum_betweenness)])\n",
        "  return betweenness\n",
        "\n",
        "# ##Test \n",
        "# betweenness = betweenness_score(graph)\n",
        "# print(betweenness)"
      ],
      "execution_count": 17,
      "outputs": []
    },
    {
      "cell_type": "code",
      "metadata": {
        "id": "0ak3gBmFu4Ec"
      },
      "source": [
        ""
      ],
      "execution_count": 17,
      "outputs": []
    },
    {
      "cell_type": "code",
      "metadata": {
        "id": "6XH5Coj-viDU"
      },
      "source": [
        "def normalize(betweenness, n):\n",
        "  betweenness_array = np.array(betweenness)\n",
        "\n",
        "  norm = betweenness_array / ((n-1)*(n-2)/2)\n",
        "  return norm\n",
        "\n",
        "# #Test Code\n",
        "# bt_norm = normalize(list(betweenness.values()), graph.number_of_nodes())\n",
        "# bt_norm"
      ],
      "execution_count": 18,
      "outputs": []
    },
    {
      "cell_type": "code",
      "metadata": {
        "id": "0rMqme2TaWml"
      },
      "source": [
        "# #Compute betweenness using Ulrik-Brandes method\n",
        "# betweenness_answer = nx.betweenness_centrality(graph, normalized=False )\n",
        "# betweenness_answer"
      ],
      "execution_count": 19,
      "outputs": []
    },
    {
      "cell_type": "code",
      "metadata": {
        "id": "RURwZCIiYZjm"
      },
      "source": [
        "#Girvan-Newman\n",
        "def Girvan_Newman_nodes(graph, k):\n",
        "\n",
        "  graph_copy = graph.copy()\n",
        "\n",
        "  betweenness = betweenness_score(graph)\n",
        "  betweenness_values = list(betweenness.values())\n",
        "\n",
        "  betweenness_nodes_sorted = sorted(betweenness, key=betweenness.get, reverse=True)\n",
        "  betweenness_values_sorted = sorted(betweenness_values, reverse=True)\n",
        "\n",
        "  queue = deque()\n",
        "  [queue.append(score) for score in betweenness_values_sorted]\n",
        "\n",
        "  nodes_to_remove = []\n",
        "\n",
        "  for num_levels in range(k):\n",
        "    if len(queue) > 2:\n",
        "      element = queue.popleft()\n",
        "      element_node = betweenness_nodes_sorted.pop(0)\n",
        "\n",
        "      next = queue.popleft()\n",
        "      next_node = betweenness_nodes_sorted.pop(0)\n",
        "      \n",
        "      while (element == next):\n",
        "        next = queue.popleft()\n",
        "        next_node = betweenness_nodes_sorted.pop(0)\n",
        "      \n",
        "      #element != next, restore 'next' in queue\n",
        "      queue.appendleft(next)\n",
        "      betweenness_nodes_sorted.insert(0, next_node)\n",
        "\n",
        "    elif len(queue) == 1:\n",
        "     element = queue.popleft()\n",
        "\n",
        "  return betweenness_nodes_sorted\n",
        "\n",
        "# #Test Code\n",
        "# Girvan_Newman_nodes(graph, 5)"
      ],
      "execution_count": 20,
      "outputs": []
    },
    {
      "cell_type": "code",
      "metadata": {
        "id": "gvBmQaatBooN"
      },
      "source": [
        "############################# BAD IMPLEMENTATION ###############################\n",
        "\n",
        "# def get_edge_betweenness(graph, start):\n",
        "#   \"\"\"\n",
        "#   Get edge betweenness of all edges given source node 'start' \n",
        "#   \"\"\"\n",
        "\n",
        "#   edges_btwnss = dict([(edge, 0) for edge in graph.edges()])\n",
        "#   node_betweenness = dict([(node, 0) for node in graph.nodes()])\n",
        "  \n",
        "#   distances, parents, num_shortest_paths = shortest_paths(graph, start) \n",
        "\n",
        "#   #furthest nodes from the selected node\n",
        "#   furthest_nodes = sorted(distances, key=distances.get, reverse=True)\n",
        "\n",
        "#   for node in furthest_nodes:\n",
        "#     if node != start:\n",
        "#       for parent in parents[node]:\n",
        "#         node_betweenness[parent] += (1 + node_betweenness[parent]) / len(parents[node])\n",
        "#         if (node, parent) in edges_btwnss:\n",
        "#           edges_btwnss[node,parent] = (1 + node_betweenness[node]) / num_shortest_paths[node]\n",
        "#         elif (parent,node) in edges_btwnss:\n",
        "#           edges_btwnss[parent,node] = (1 + node_betweenness[node]) / num_shortest_paths[node]\n",
        "\n",
        "#   return edges_btwnss\n",
        "\n",
        "# get_edge_betweenness(graph,4)\n",
        "# {(0, 1): 0.2,\n",
        "#  (0, 3): 0,\n",
        "#  (0, 7): 1.3333333333333333,\n",
        "#  (1, 2): 0.2,\n",
        "#  (1, 3): 0.2,\n",
        "#  (2, 3): 0,\n",
        "#  (2, 5): 1.3333333333333333,\n",
        "#  (3, 5): 0.4444444444444444,\n",
        "#  (3, 6): 0.4444444444444444,\n",
        "#  (3, 7): 0.4444444444444444,\n",
        "#  (4, 5): 2.6666666666666665,\n",
        "#  (4, 6): 1.3333333333333333,\n",
        "#  (4, 7): 2.6666666666666665,\n",
        "#  (5, 6): 0,\n",
        "#  (6, 7): 0}"
      ],
      "execution_count": 70,
      "outputs": []
    },
    {
      "cell_type": "code",
      "metadata": {
        "id": "_luR3mAZy2dx"
      },
      "source": [
        "#Test initializing edges_btwnss and node_betweenness to 0\n",
        "def get_edge_betweenness(graph, start):\n",
        "  \"\"\"\n",
        "  Get edge betweenness of all edges given source node 'start' \n",
        "  \"\"\"\n",
        "\n",
        "  edges_btwnss = dict([(edge, 0) for edge in graph.edges()])\n",
        "  node_betweenness = dict([(node, 0) for node in graph.nodes()])\n",
        "  \n",
        "  distances, parents, num_shortest_paths = shortest_paths(graph, start) \n",
        "\n",
        "  #furthest nodes from the selected node\n",
        "  furthest_nodes = sorted(distances, key=distances.get, reverse=True)\n",
        "\n",
        "  for node in furthest_nodes:\n",
        "    if node !=start:\n",
        "      for parent in parents[node]:\n",
        "        if node == furthest_nodes[0]:\n",
        "          node_betweenness[parent] = 1 / num_shortest_paths[node]\n",
        "          if (node, parent) in edges_btwnss:\n",
        "            edges_btwnss[node,parent] = 1 / num_shortest_paths[node]\n",
        "          elif (parent,node) in edges_btwnss:\n",
        "            edges_btwnss[parent,node] = 1 / num_shortest_paths[node]\n",
        "\n",
        "        else:\n",
        "          \n",
        "          if (node, parent) in edges_btwnss:\n",
        "            edges_btwnss[node,parent] = ((1 + node_betweenness[node]) / num_shortest_paths[node])\n",
        "            node_betweenness[parent] += edges_btwnss[node,parent] \n",
        "            # print('añadiendo',(edges_btwnss[node,parent]))\n",
        "            # print(node,',',parent,'\\\\', edges_btwnss[node,parent], '=',(1 + node_betweenness[node]), '/' , num_shortest_paths[node])\n",
        "\n",
        "          elif (parent,node) in edges_btwnss:\n",
        "            edges_btwnss[parent,node] = ((1 + node_betweenness[node]) / num_shortest_paths[node])\n",
        "            node_betweenness[parent] += edges_btwnss[parent,node] \n",
        "            # print('añadiendo',(edges_btwnss[parent,node] ) )\n",
        "            # print(node,',',parent,'||', edges_btwnss[parent,node],'=',(1 + node_betweenness[node]), '/' , num_shortest_paths[node])\n",
        "\n",
        "  return edges_btwnss\n",
        "\n",
        "# ### Test Code\n",
        "# get_edge_betweenness(graph, 4)"
      ],
      "execution_count": 69,
      "outputs": []
    },
    {
      "cell_type": "code",
      "metadata": {
        "colab": {
          "base_uri": "https://localhost:8080/"
        },
        "id": "xIXKSKZEo-sy",
        "outputId": "39c1e97e-fa00-4a1d-ea44-98d0eefefc35"
      },
      "source": [
        "def get_edge_betweenness(graph, start):\n",
        "  \"\"\"\n",
        "  Get edge betweenness of all edges given source node 'start' \n",
        "  \"\"\"\n",
        "\n",
        "  edges_btwnss = dict.fromkeys(graph.edges,0)\n",
        "  node_betweenness = dict.fromkeys(graph.nodes, 0)\n",
        "  \n",
        "  distances, parents, num_shortest_paths = shortest_paths(graph, start) \n",
        "\n",
        "  #furthest nodes from the selected node\n",
        "  furthest_nodes = sorted(distances, key=distances.get, reverse=True)\n",
        "\n",
        "  for node in furthest_nodes:\n",
        "    if node !=start:\n",
        "      for parent in parents[node]:\n",
        "        if node == furthest_nodes[0]:\n",
        "          node_betweenness.update({parent: 1 / num_shortest_paths[node]}) \n",
        "          if (node, parent) in edges_btwnss:\n",
        "            edges_btwnss.update({(node, parent): 1 / num_shortest_paths[node]})\n",
        "          elif (parent,node) in edges_btwnss:\n",
        "             edges_btwnss.update({(parent, node): 1 / num_shortest_paths[node]})\n",
        "\n",
        "        else:\n",
        "          btwnnss = (1 + node_betweenness[node]) / num_shortest_paths[node]\n",
        "          \n",
        "          if (node, parent) in edges_btwnss:\n",
        "            edges_btwnss.update({(node, parent):  btwnnss})\n",
        "            node_betweenness.update({parent: node_betweenness[node] + btwnnss} )\n",
        "            # print('añadiendo',(edges_btwnss[node,parent]))\n",
        "            # print(node,',',parent,'\\\\', edges_btwnss[node,parent], '=',(1 + node_betweenness[node]), '/' , num_shortest_paths[node])\n",
        "\n",
        "          elif (parent,node) in edges_btwnss:\n",
        "            edges_btwnss.update({(parent, node): btwnnss})\n",
        "            node_betweenness.update( {parent: node_betweenness[node] + btwnnss} )\n",
        "            # print('añadiendo',(edges_btwnss[parent,node] ) )\n",
        "            # print(node,',',parent,'||', edges_btwnss[parent,node],'=',(1 + node_betweenness[node]), '/' , num_shortest_paths[node])\n",
        "\n",
        "  return edges_btwnss\n",
        "\n",
        "### Test Code\n",
        "get_edge_betweenness(graph, 4)"
      ],
      "execution_count": 67,
      "outputs": [
        {
          "output_type": "execute_result",
          "data": {
            "text/plain": [
              "{(0, 1): 0.2,\n",
              " (0, 3): 0,\n",
              " (0, 7): 1.2,\n",
              " (1, 2): 0.2,\n",
              " (1, 3): 0.2,\n",
              " (2, 3): 0,\n",
              " (2, 5): 1.2,\n",
              " (3, 5): 0.39999999999999997,\n",
              " (3, 6): 0.39999999999999997,\n",
              " (3, 7): 0.39999999999999997,\n",
              " (4, 5): 1.6,\n",
              " (4, 6): 1.6,\n",
              " (4, 7): 1.6,\n",
              " (5, 6): 0,\n",
              " (6, 7): 0}"
            ]
          },
          "metadata": {
            "tags": []
          },
          "execution_count": 67
        }
      ]
    },
    {
      "cell_type": "code",
      "metadata": {
        "colab": {
          "base_uri": "https://localhost:8080/"
        },
        "id": "Q7uO7HkpgxCs",
        "outputId": "048405aa-6108-4785-debb-b3014728cde2"
      },
      "source": [
        "def edge_betweenness(graph):\n",
        "\n",
        "  btwnss = [0] * len(graph.edges())\n",
        "\n",
        "  for node in graph.nodes():\n",
        "    btwnnss_node = get_edge_betweenness(graph, node)\n",
        "    btwnss = np.add(btwnss, list(btwnnss_node.values())) #here we are using a dict_view instead of original values\n",
        "    \n",
        "  #since dict_view has 15 significant ciphers, we will be using 14\n",
        "  btwnss = [round(score, 14) for score in btwnss]\n",
        "  btwnss_dict = dict(zip(graph.edges(), btwnss))\n",
        "  \n",
        "  return btwnss_dict\n",
        "\n",
        "#Test Code\n",
        "edge_betweenness(graph)"
      ],
      "execution_count": 60,
      "outputs": [
        {
          "output_type": "execute_result",
          "data": {
            "text/plain": [
              "{(0, 1): 4.5,\n",
              " (0, 3): 4.5,\n",
              " (0, 7): 5.3,\n",
              " (1, 2): 4.5,\n",
              " (1, 3): 5.0,\n",
              " (2, 3): 5.0,\n",
              " (2, 5): 5.3,\n",
              " (3, 5): 5.0,\n",
              " (3, 6): 5.43333333333333,\n",
              " (3, 7): 5.0,\n",
              " (4, 5): 4.8,\n",
              " (4, 6): 3.13333333333333,\n",
              " (4, 7): 4.8,\n",
              " (5, 6): 3.66666666666667,\n",
              " (6, 7): 3.66666666666667}"
            ]
          },
          "metadata": {
            "tags": []
          },
          "execution_count": 60
        }
      ]
    },
    {
      "cell_type": "code",
      "metadata": {
        "colab": {
          "base_uri": "https://localhost:8080/"
        },
        "id": "-731AWJjvLiB",
        "outputId": "f45e9d26-e819-4076-dcca-adbd180d0257"
      },
      "source": [
        "# Compare results to:\n",
        "nx.algorithms.centrality.edge_betweenness_centrality(graph, normalized=False)"
      ],
      "execution_count": 33,
      "outputs": [
        {
          "output_type": "execute_result",
          "data": {
            "text/plain": [
              "{(0, 1): 2.2,\n",
              " (0, 3): 3.0,\n",
              " (0, 7): 3.2,\n",
              " (1, 2): 2.2,\n",
              " (1, 3): 3.5999999999999996,\n",
              " (2, 3): 3.0,\n",
              " (2, 5): 3.2,\n",
              " (3, 5): 3.3666666666666663,\n",
              " (3, 6): 3.533333333333333,\n",
              " (3, 7): 3.3666666666666663,\n",
              " (4, 5): 3.0666666666666664,\n",
              " (4, 6): 1.5333333333333332,\n",
              " (4, 7): 3.0666666666666664,\n",
              " (5, 6): 1.8333333333333333,\n",
              " (6, 7): 1.833333333333333}"
            ]
          },
          "metadata": {
            "tags": []
          },
          "execution_count": 33
        }
      ]
    },
    {
      "cell_type": "code",
      "metadata": {
        "id": "WxVuOlmA-NL0"
      },
      "source": [
        "# nx.edge_betweenness(graph,normalized=False)"
      ],
      "execution_count": 26,
      "outputs": []
    },
    {
      "cell_type": "code",
      "metadata": {
        "id": "M9ZrVu26HBVl"
      },
      "source": [
        "# #Girvan-Newman\n",
        "# def Girvan_Newman(graph, k):\n",
        "#   \"\"\"Compute betweenness score of every node in graph using Newman's method\n",
        "#   applied to edges instead of nodes.\n",
        "\n",
        "#   Returns: dict (key=node,  value=betweenness_score)\n",
        "\n",
        "#   Ref: M. E. J. Newman  10.1103/PhysRevE.64.016132 \n",
        "#       Link: https://journals.aps.org/pre/pdf/10.1103/PhysRevE.64.016132\n",
        "#   \"\"\"\n",
        "\n",
        "#   graph_copy = graph.copy()\n",
        "\n",
        "#   betweenness = edge_betweenness(graph)\n",
        "#   betweenness_values = list(betweenness.values())\n",
        "\n",
        "#   edges_sorted = sorted(betweenness, key=betweenness.get, reverse=True)\n",
        "#   betweenness_values_sorted = sorted(betweenness_values, reverse=True)\n",
        "\n",
        "#   queue = deque()\n",
        "#   [queue.append(score) for score in betweenness_values_sorted]\n",
        "\n",
        "\n",
        "#   for num_levels in np.arange(k):\n",
        "#     if len(queue) > 2 :\n",
        "#       element = queue.popleft()\n",
        "#       element_edge = edges_sorted.pop(0)\n",
        "\n",
        "#       next = queue.popleft()\n",
        "#       next_edge = edges_sorted.pop(0)\n",
        "      \n",
        "#       while (element == next):\n",
        "#         next = queue.popleft()\n",
        "#         next_edge = edges_sorted.pop(0)\n",
        "      \n",
        "#       #element != next, restore 'next' in queue\n",
        "#       queue.appendleft(next)\n",
        "#       edges_sorted.insert(0, next_edge)\n",
        "\n",
        "#     elif len(queue) == 1:\n",
        "#       element = queue.popleft()\n",
        "#       element_edge = edges_sorted.pop(0)\n",
        "      \n",
        "#   g = nx.Graph()\n",
        "#   g.add_edges_from(edges_sorted)\n",
        "#   g.add_nodes_from(graph.nodes())\n",
        "#   return g\n",
        "\n",
        "\n",
        "# #Test Code\n",
        "# g = Girvan_Newman(graph, len(graph.edges()))\n",
        "# nx.draw_networkx(g)"
      ],
      "execution_count": 40,
      "outputs": []
    },
    {
      "cell_type": "code",
      "metadata": {
        "colab": {
          "base_uri": "https://localhost:8080/",
          "height": 247
        },
        "id": "YvaIHwDJ2tnv",
        "outputId": "d3203381-9741-41cc-a5bb-41d8bef46e9a"
      },
      "source": [
        "def Girvan_Newman(graph, k):\n",
        "\n",
        "  g = graph.copy()\n",
        "\n",
        "  if (k == 0):\n",
        "    return g\n",
        "\n",
        "  for iterations in np.arange(k):\n",
        "    betweenness = edge_betweenness(g)\n",
        "    betweenness_values = list(betweenness.values())\n",
        "\n",
        "    edges_sorted = sorted(betweenness, key=betweenness.get, reverse=True)\n",
        "    betweenness_values_sorted = sorted(betweenness_values, reverse=True)\n",
        "\n",
        "    value= betweenness_values_sorted.pop(0)\n",
        "    # print('sacando', value)\n",
        "    edge = edges_sorted.pop(0)\n",
        "    # print('quitando', edge)\n",
        "\n",
        "    g.remove_edge(edge[0],edge[1])\n",
        "\n",
        "  return g\n",
        "\n",
        "###Test Code\n",
        "g = Girvan_Newman(graph, 5)\n",
        "nx.draw_networkx(g)"
      ],
      "execution_count": 71,
      "outputs": [
        {
          "output_type": "display_data",
          "data": {
            "image/png": "[encoded data removed]",
            "text/plain": [
              "<Figure size 432x288 with 1 Axes>"
            ]
          },
          "metadata": {
            "tags": []
          }
        }
      ]
    }
  ]
}